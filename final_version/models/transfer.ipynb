{
 "cells": [
  {
   "cell_type": "code",
   "execution_count": null,
   "metadata": {},
   "outputs": [],
   "source": [
    "import numpy as np\n",
    "import pandas as pd\n",
    "import torch.nn as nn\n",
    "import numpy as np\n",
    "import pandas as pd\n",
    "from torch.utils.data import Dataset\n",
    "from torch.utils.data import Dataset, DataLoader\n",
    "\n",
    "class TimeSeriesDataset(Dataset):\n",
    "    def __init__(self, df, input_window=14, output_window=14, target_col_name='transaction_count'):\n",
    "        \"\"\"\n",
    "        df               : A pandas DataFrame that includes both features and the target column.\n",
    "        input_window     : Number of time steps used as input (lookback).\n",
    "        output_window    : Number of time steps to forecast (e.g. 14 for 14-day).\n",
    "        target_col_name  : Name of the target column in df.\n",
    "        \"\"\"\n",
    "        # Separate the features vs. target\n",
    "        self.X_data = df.values  # all columns except target\n",
    "        self.y_data = df[target_col_name].values               \n",
    "\n",
    "        self.input_window = input_window\n",
    "        self.output_window = output_window\n",
    "\n",
    "    def __len__(self):\n",
    "        # The maximum valid index is total_rows - (input_window + output_window)\n",
    "        return len(self.X_data) - (self.input_window + self.output_window - 1)\n",
    "\n",
    "    def __getitem__(self, idx):\n",
    "        # 1) Slice out the input window\n",
    "        x_start = idx\n",
    "        x_end   = idx + self.input_window\n",
    "        X = self.X_data[x_start : x_end]   # shape => (input_window, num_features)\n",
    "\n",
    "        # 2) Slice out the next 'output_window' points of the target\n",
    "        y_start = x_end\n",
    "        y_end   = x_end + self.output_window\n",
    "        Y = self.y_data[y_start : y_end]   # shape => (output_window,)\n",
    "\n",
    "        # Convert to float32 for PyTorch\n",
    "        X = X.astype(np.float32)\n",
    "        Y = Y.astype(np.float32)\n",
    "        return X, Y\n"
   ]
  },
  {
   "cell_type": "code",
   "execution_count": null,
   "metadata": {},
   "outputs": [],
   "source": [
    "class TCNBlock(nn.Module):\n",
    "    def __init__(self, in_channels, out_channels, kernel_size=3, dilation=1):\n",
    "        super().__init__()\n",
    "        padding = (kernel_size - 1) * dilation\n",
    "        self.conv = nn.Conv1d(in_channels, out_channels, kernel_size, \n",
    "                              stride=1, padding=padding, dilation=dilation)\n",
    "        self.relu = nn.ReLU()\n",
    "        self.dropout = nn.Dropout(0.2)  # optional\n",
    "        # You could add WeightNorm, layernorm, etc.\n",
    "        \n",
    "    def forward(self, x):\n",
    "        \"\"\"\n",
    "        x shape: [batch_size, channels, seq_len]\n",
    "        \"\"\"\n",
    "        out = self.conv(x)\n",
    "        # Remove extra time-steps from padding to maintain causality\n",
    "        out = out[:, :, :-self.conv.padding[0]]  # remove the last \"padding\" points\n",
    "        out = self.relu(out)\n",
    "        out = self.dropout(out)\n",
    "        return out\n",
    "    \n",
    "class TCN(nn.Module):\n",
    "    def __init__(self, in_channels, channel_list, kernel_size=3, dropout=0.2):\n",
    "        super().__init__()\n",
    "        blocks = []\n",
    "        current_in = in_channels\n",
    "        for i, out_ch in enumerate(channel_list):\n",
    "            dilation = 2 ** i\n",
    "            block = TCNBlock(current_in, out_ch, kernel_size, dilation=dilation)\n",
    "            blocks.append(block)\n",
    "            current_in = out_ch\n",
    "        self.network = nn.Sequential(*blocks)\n",
    "        self.dropout = nn.Dropout(dropout)\n",
    "\n",
    "    def forward(self, x):\n",
    "        x = self.network(x)\n",
    "        x = self.dropout(x)\n",
    "        return x\n",
    "\n",
    "    \n",
    "class TCNForecastingModel(nn.Module):\n",
    "    def __init__(self, num_inputs, num_channels, kernel_size=2, dropout=0.2, output_size=14):\n",
    "        super(TCNForecastingModel, self).__init__()\n",
    "        self.tcn = TCN(num_inputs, num_channels, kernel_size, dropout)\n",
    "        self.fc = nn.Linear(num_channels[-1], output_size)\n",
    "\n",
    "    def forward(self, x):\n",
    "        x = x.permute(0, 2, 1)\n",
    "        y = self.tcn(x)\n",
    "        y = y[:, :, -1]\n",
    "        return self.fc(y)\n"
   ]
  },
  {
   "cell_type": "markdown",
   "metadata": {},
   "source": [
    "### Load and prepare data"
   ]
  },
  {
   "cell_type": "code",
   "execution_count": 3,
   "metadata": {},
   "outputs": [
    {
     "name": "stdout",
     "output_type": "stream",
     "text": [
      "Current working directory: /Users/megan/Thesis\n"
     ]
    }
   ],
   "source": [
    "# Load data\n",
    "import os\n",
    "\n",
    "os.chdir(\"/Users/megan/Thesis/\")\n",
    "print(\"Current working directory:\", os.getcwd())\n",
    "data = pd.read_csv('data/top_800_product_groups.csv')\n",
    "data['date'] = pd.to_datetime(data['date'], errors='coerce')"
   ]
  },
  {
   "cell_type": "code",
   "execution_count": 4,
   "metadata": {},
   "outputs": [],
   "source": [
    "data[\"day_of_week\"] = data[\"date\"].dt.dayofweek \n",
    "data[\"day_of_month\"] = data[\"date\"].dt.day\n",
    "data[\"month\"] = data[\"date\"].dt.month\n",
    "data[\"day_of_year\"] = data[\"date\"].dt.dayofyear\n",
    "data[\"year\"] = data[\"date\"].dt.year\n",
    "\n",
    "# Define numerical columns (exclude 'product_group' and 'date')\n",
    "numerical_columns = [\n",
    "    'transaction_count',\n",
    "    'avg_price',\n",
    "    'unique_customers',\n",
    "    'unique_articles_sold',\n",
    "    'median_age',\n",
    "    'fashion_news_subscribers',\n",
    "    'first_purchase_days_ago',\n",
    "    'recent_purchase_days_ago',\n",
    "    'day_of_week',\n",
    "    'day_of_month',\n",
    "    'month',\n",
    "    'day_of_year',\n",
    "    'year'\n",
    "]\n",
    "\n",
    "categorical_columns = [\n",
    "    'sales_channel_2',\n",
    "    'most_common_age_bin_20-29',\n",
    "    'most_common_age_bin_30-39',\n",
    "    'most_common_age_bin_40-49',\n",
    "    'most_common_age_bin_50-59',\n",
    "    'most_common_age_bin_60+'\n",
    "]"
   ]
  },
  {
   "cell_type": "code",
   "execution_count": 45,
   "metadata": {},
   "outputs": [],
   "source": [
    "top_10_groups = [\n",
    "    \"Bra Black Solid\",\n",
    "    \"Dress Black Solid\",\n",
    "    \"Leggings/Tights Black Solid\",\n",
    "    \"Sweater Black Solid\",\n",
    "    \"T-shirt Black Solid\",\n",
    "    \"T-shirt White Solid\",\n",
    "    \"Top Black Solid\",\n",
    "    \"Trousers Black Solid\",\n",
    "    \"Trousers Blue Denim\",\n",
    "    \"Vest top Black Solid\"\n",
    "]\n"
   ]
  },
  {
   "cell_type": "code",
   "execution_count": 5,
   "metadata": {},
   "outputs": [],
   "source": [
    "categorical_columns = [\n",
    "    'sales_channel_2', 'most_common_age_bin_20-29', 'most_common_age_bin_30-39',\n",
    "    'most_common_age_bin_40-49', 'most_common_age_bin_50-59', 'most_common_age_bin_60+'\n",
    "]\n",
    "\n",
    "# One-hot encode the categorical columns\n",
    "data = pd.get_dummies(data, columns=categorical_columns, dtype=int)"
   ]
  },
  {
   "cell_type": "code",
   "execution_count": 6,
   "metadata": {},
   "outputs": [],
   "source": [
    "data.drop(columns=['std_price', 'club_member_ratio'], inplace=True)"
   ]
  },
  {
   "cell_type": "code",
   "execution_count": 27,
   "metadata": {},
   "outputs": [
    {
     "data": {
      "text/plain": [
       "date                           datetime64[ns]\n",
       "product_group                          object\n",
       "transaction_count                       int64\n",
       "avg_price                             float64\n",
       "unique_customers                        int64\n",
       "unique_articles_sold                    int64\n",
       "median_age                            float64\n",
       "fashion_news_subscribers                int64\n",
       "first_purchase_days_ago                 int64\n",
       "recent_purchase_days_ago                int64\n",
       "day_of_week                             int32\n",
       "day_of_month                            int32\n",
       "month                                   int32\n",
       "day_of_year                             int32\n",
       "year                                    int32\n",
       "sales_channel_2_0                       int64\n",
       "sales_channel_2_1                       int64\n",
       "most_common_age_bin_20-29_0             int64\n",
       "most_common_age_bin_20-29_1             int64\n",
       "most_common_age_bin_30-39_0             int64\n",
       "most_common_age_bin_30-39_1             int64\n",
       "most_common_age_bin_40-49_0             int64\n",
       "most_common_age_bin_40-49_1             int64\n",
       "most_common_age_bin_50-59_0             int64\n",
       "most_common_age_bin_50-59_1             int64\n",
       "most_common_age_bin_60+_0               int64\n",
       "most_common_age_bin_60+_1               int64\n",
       "dtype: object"
      ]
     },
     "execution_count": 27,
     "metadata": {},
     "output_type": "execute_result"
    }
   ],
   "source": [
    "data.dtypes"
   ]
  },
  {
   "cell_type": "markdown",
   "metadata": {},
   "source": [
    "### Pretraining"
   ]
  },
  {
   "cell_type": "code",
   "execution_count": null,
   "metadata": {},
   "outputs": [],
   "source": [
    "pretrain_data = data[~data['product_group'].isin(top_10_groups)].copy()\n",
    "top10_data = data[data['product_group'].isin(top_10_groups)].copy()"
   ]
  },
  {
   "cell_type": "code",
   "execution_count": null,
   "metadata": {},
   "outputs": [],
   "source": [
    "from sklearn.preprocessing import MinMaxScaler\n",
    "\n",
    "# Sort by date and drop non-numeric columns\n",
    "pretrain_data.sort_values([\"date\", \"product_group\"], inplace=True)\n",
    "pretrain_data = pretrain_data.drop(columns=['date', 'product_group'])\n",
    "\n",
    "# Separate features and target\n",
    "X_pretrain = pretrain_data.drop(columns=['transaction_count']).values\n",
    "y_pretrain = pretrain_data['transaction_count'].values.reshape(-1, 1)\n",
    "\n",
    "# Fit scalers on the pretraining data\n",
    "feature_scaler = MinMaxScaler()\n",
    "X_pretrain_scaled = feature_scaler.fit_transform(X_pretrain)\n",
    "\n",
    "target_scaler = MinMaxScaler()\n",
    "y_pretrain_scaled = target_scaler.fit_transform(y_pretrain)\n",
    "\n",
    "# Rebuild a scaled DataFrame\n",
    "pretrain_df_scaled = pd.DataFrame(\n",
    "    X_pretrain_scaled, \n",
    "    columns=[col for col in pretrain_data.columns if col != 'transaction_count']\n",
    ")\n",
    "pretrain_df_scaled['transaction_count'] = y_pretrain_scaled\n",
    "\n",
    "# Create a TimeSeriesDataset\n",
    "train_dataset = TimeSeriesDataset(\n",
    "    pretrain_df_scaled, \n",
    "    input_window=14, \n",
    "    output_window=1, \n",
    "    target_col_name='transaction_count'\n",
    ")\n",
    "train_loader = DataLoader(train_dataset, batch_size=32, shuffle=False)\n"
   ]
  },
  {
   "cell_type": "code",
   "execution_count": null,
   "metadata": {},
   "outputs": [],
   "source": [
    "import torch\n",
    "import torch.nn as nn\n",
    "import torch.nn.functional as F\n",
    "\n",
    "class CausalConv1d(nn.Module):\n",
    "    def __init__(self, in_channels, out_channels, kernel_size, dilation=1):\n",
    "        \"\"\"\n",
    "        A 1D convolution that pads only on the left to ensure causality.\n",
    "        \"\"\"\n",
    "        super(CausalConv1d, self).__init__()\n",
    "        self.kernel_size = kernel_size\n",
    "        self.dilation = dilation\n",
    "        # No padding here; we will pad manually in forward.\n",
    "        self.conv = nn.Conv1d(in_channels, out_channels, kernel_size,\n",
    "                              padding=0, dilation=dilation)\n",
    "        \n",
    "    def forward(self, x):\n",
    "        # Calculate the required left padding: (kernel_size-1) * dilation\n",
    "        pad = (self.kernel_size - 1) * self.dilation\n",
    "        # Pad only on the left: (left, right)\n",
    "        x = F.pad(x, (pad, 0))\n",
    "        return self.conv(x)\n",
    "\n",
    "class TemporalBlock(nn.Module):\n",
    "    def __init__(self, in_channels, out_channels, kernel_size, dilation, dropout=0.2):\n",
    "        super(TemporalBlock, self).__init__()\n",
    "        # Use CausalConv1d instead of regular Conv1d with symmetric padding.\n",
    "        self.conv1 = CausalConv1d(in_channels, out_channels, kernel_size, dilation=dilation)\n",
    "        self.relu1 = nn.ReLU()\n",
    "        self.dropout1 = nn.Dropout(dropout)\n",
    "        \n",
    "        self.conv2 = CausalConv1d(out_channels, out_channels, kernel_size, dilation=dilation)\n",
    "        self.relu2 = nn.ReLU()\n",
    "        self.dropout2 = nn.Dropout(dropout)\n",
    "        \n",
    "        self.net = nn.Sequential(\n",
    "            self.conv1, self.relu1, self.dropout1,\n",
    "            self.conv2, self.relu2, self.dropout2\n",
    "        )\n",
    "        self.downsample = nn.Conv1d(in_channels, out_channels, 1) \\\n",
    "                          if in_channels != out_channels else None\n",
    "        self.relu = nn.ReLU()\n",
    "        \n",
    "    def forward(self, x):\n",
    "        out = self.net(x)\n",
    "        res = x if self.downsample is None else self.downsample(x)\n",
    "        return self.relu(out + res)\n",
    "\n",
    "class TCN(nn.Module):\n",
    "    def __init__(self, num_inputs, num_channels, kernel_size=2, dropout=0.2):\n",
    "        \"\"\"\n",
    "        num_channels: list of output channels for each TemporalBlock.\n",
    "        \"\"\"\n",
    "        super(TCN, self).__init__()\n",
    "        layers = []\n",
    "        num_levels = len(num_channels)\n",
    "        for i in range(num_levels):\n",
    "            in_channels = num_inputs if i == 0 else num_channels[i]\n",
    "            out_channels = num_channels[i]\n",
    "            dilation_size = 2 ** i  # increasing dilation for deeper layers\n",
    "            layers.append(\n",
    "                TemporalBlock(in_channels, out_channels, kernel_size,\n",
    "                              dilation=dilation_size, dropout=dropout)\n",
    "            )\n",
    "        self.network = nn.Sequential(*layers)\n",
    "        \n",
    "    def forward(self, x):\n",
    "        return self.network(x)\n",
    "\n",
    "class TCNForecastingModel(nn.Module):\n",
    "    def __init__(\n",
    "        self,\n",
    "        num_inputs,\n",
    "        num_channels,\n",
    "        kernel_size=2,\n",
    "        dropout=0.2,\n",
    "        output_size=14, \n",
    "    ):\n",
    "        super().__init__()\n",
    "        self.tcn = TCN(num_inputs, num_channels, kernel_size, dropout)\n",
    "        # Final linear layer maps from the last layer’s hidden size to output_size\n",
    "        self.fc = nn.Linear(num_channels[-1], output_size)\n",
    "\n",
    "    def forward(self, x):\n",
    "        # x shape: (batch_size, input_window, num_inputs)\n",
    "        # Permute to (batch_size, num_inputs, input_window) for Conv1d\n",
    "        x = x.permute(0, 2, 1)\n",
    "        y = self.tcn(x)            # shape => (batch_size, num_channels[-1], seq_len)\n",
    "        y = y[:, :, -1]            # take the last time step: shape => (batch_size, num_channels[-1])\n",
    "        out = self.fc(y)           # shape => (batch_size, output_size=14)\n",
    "        return out"
   ]
  },
  {
   "cell_type": "code",
   "execution_count": null,
   "metadata": {},
   "outputs": [
    {
     "name": "stderr",
     "output_type": "stream",
     "text": [
      "                                                                            \r"
     ]
    },
    {
     "name": "stdout",
     "output_type": "stream",
     "text": [
      "Epoch 1/30 - Train Loss: 0.000576 - Val Loss: 0.000666\n"
     ]
    },
    {
     "name": "stderr",
     "output_type": "stream",
     "text": [
      "                                                                            \r"
     ]
    },
    {
     "name": "stdout",
     "output_type": "stream",
     "text": [
      "Epoch 2/30 - Train Loss: 0.000519 - Val Loss: 0.000571\n"
     ]
    },
    {
     "name": "stderr",
     "output_type": "stream",
     "text": [
      "                                                                            \r"
     ]
    },
    {
     "name": "stdout",
     "output_type": "stream",
     "text": [
      "Epoch 3/30 - Train Loss: 0.000513 - Val Loss: 0.000570\n"
     ]
    },
    {
     "name": "stderr",
     "output_type": "stream",
     "text": [
      "                                                                            \r"
     ]
    },
    {
     "name": "stdout",
     "output_type": "stream",
     "text": [
      "Epoch 4/30 - Train Loss: 0.000507 - Val Loss: 0.000566\n"
     ]
    },
    {
     "name": "stderr",
     "output_type": "stream",
     "text": [
      "                                                                            \r"
     ]
    },
    {
     "name": "stdout",
     "output_type": "stream",
     "text": [
      "Epoch 5/30 - Train Loss: 0.000503 - Val Loss: 0.000568\n"
     ]
    },
    {
     "name": "stderr",
     "output_type": "stream",
     "text": [
      "                                                                            \r"
     ]
    },
    {
     "name": "stdout",
     "output_type": "stream",
     "text": [
      "Epoch 6/30 - Train Loss: 0.000500 - Val Loss: 0.000564\n"
     ]
    },
    {
     "name": "stderr",
     "output_type": "stream",
     "text": [
      "                                                                            \r"
     ]
    },
    {
     "name": "stdout",
     "output_type": "stream",
     "text": [
      "Epoch 7/30 - Train Loss: 0.000495 - Val Loss: 0.000559\n"
     ]
    },
    {
     "name": "stderr",
     "output_type": "stream",
     "text": [
      "                                                                            \r"
     ]
    },
    {
     "name": "stdout",
     "output_type": "stream",
     "text": [
      "Epoch 8/30 - Train Loss: 0.000491 - Val Loss: 0.000555\n"
     ]
    },
    {
     "name": "stderr",
     "output_type": "stream",
     "text": [
      "                                                                            \r"
     ]
    },
    {
     "name": "stdout",
     "output_type": "stream",
     "text": [
      "Epoch 9/30 - Train Loss: 0.000487 - Val Loss: 0.000557\n"
     ]
    },
    {
     "name": "stderr",
     "output_type": "stream",
     "text": [
      "                                                                             \r"
     ]
    },
    {
     "name": "stdout",
     "output_type": "stream",
     "text": [
      "Epoch 10/30 - Train Loss: 0.000483 - Val Loss: 0.000551\n"
     ]
    },
    {
     "name": "stderr",
     "output_type": "stream",
     "text": [
      "                                                                             \r"
     ]
    },
    {
     "name": "stdout",
     "output_type": "stream",
     "text": [
      "Epoch 11/30 - Train Loss: 0.000478 - Val Loss: 0.000553\n"
     ]
    },
    {
     "name": "stderr",
     "output_type": "stream",
     "text": [
      "                                                                               \r"
     ]
    },
    {
     "name": "stdout",
     "output_type": "stream",
     "text": [
      "Epoch 12/30 - Train Loss: 0.000474 - Val Loss: 0.000545\n"
     ]
    },
    {
     "name": "stderr",
     "output_type": "stream",
     "text": [
      "                                                                             \r"
     ]
    },
    {
     "name": "stdout",
     "output_type": "stream",
     "text": [
      "Epoch 13/30 - Train Loss: 0.000467 - Val Loss: 0.000535\n"
     ]
    },
    {
     "name": "stderr",
     "output_type": "stream",
     "text": [
      "                                                                                \r"
     ]
    },
    {
     "name": "stdout",
     "output_type": "stream",
     "text": [
      "Epoch 14/30 - Train Loss: 0.000463 - Val Loss: 0.000538\n"
     ]
    },
    {
     "name": "stderr",
     "output_type": "stream",
     "text": [
      "                                                                               \r"
     ]
    },
    {
     "name": "stdout",
     "output_type": "stream",
     "text": [
      "Epoch 15/30 - Train Loss: 0.000458 - Val Loss: 0.000539\n"
     ]
    },
    {
     "name": "stderr",
     "output_type": "stream",
     "text": [
      "                                                                               \r"
     ]
    },
    {
     "name": "stdout",
     "output_type": "stream",
     "text": [
      "Epoch 16/30 - Train Loss: 0.000456 - Val Loss: 0.000531\n"
     ]
    },
    {
     "name": "stderr",
     "output_type": "stream",
     "text": [
      "                                                                              \r"
     ]
    },
    {
     "name": "stdout",
     "output_type": "stream",
     "text": [
      "Epoch 17/30 - Train Loss: 0.000451 - Val Loss: 0.000532\n"
     ]
    },
    {
     "name": "stderr",
     "output_type": "stream",
     "text": [
      "                                                                               \r"
     ]
    },
    {
     "name": "stdout",
     "output_type": "stream",
     "text": [
      "Epoch 18/30 - Train Loss: 0.000449 - Val Loss: 0.000529\n"
     ]
    },
    {
     "name": "stderr",
     "output_type": "stream",
     "text": [
      "                                                                                \r"
     ]
    },
    {
     "name": "stdout",
     "output_type": "stream",
     "text": [
      "Epoch 19/30 - Train Loss: 0.000446 - Val Loss: 0.000528\n"
     ]
    },
    {
     "name": "stderr",
     "output_type": "stream",
     "text": [
      "                                                                                \r"
     ]
    },
    {
     "name": "stdout",
     "output_type": "stream",
     "text": [
      "Epoch 20/30 - Train Loss: 0.000443 - Val Loss: 0.000514\n"
     ]
    },
    {
     "name": "stderr",
     "output_type": "stream",
     "text": [
      "                                                                                \r"
     ]
    },
    {
     "name": "stdout",
     "output_type": "stream",
     "text": [
      "Epoch 21/30 - Train Loss: 0.000440 - Val Loss: 0.000509\n"
     ]
    },
    {
     "name": "stderr",
     "output_type": "stream",
     "text": [
      "                                                                                \r"
     ]
    },
    {
     "name": "stdout",
     "output_type": "stream",
     "text": [
      "Epoch 22/30 - Train Loss: 0.000432 - Val Loss: 0.000504\n"
     ]
    },
    {
     "name": "stderr",
     "output_type": "stream",
     "text": [
      "                                                                                \r"
     ]
    },
    {
     "name": "stdout",
     "output_type": "stream",
     "text": [
      "Epoch 23/30 - Train Loss: 0.000429 - Val Loss: 0.000505\n"
     ]
    },
    {
     "name": "stderr",
     "output_type": "stream",
     "text": [
      "                                                                                \r"
     ]
    },
    {
     "name": "stdout",
     "output_type": "stream",
     "text": [
      "Epoch 24/30 - Train Loss: 0.000424 - Val Loss: 0.000510\n"
     ]
    },
    {
     "name": "stderr",
     "output_type": "stream",
     "text": [
      "                                                                             \r"
     ]
    },
    {
     "name": "stdout",
     "output_type": "stream",
     "text": [
      "Epoch 25/30 - Train Loss: 0.000419 - Val Loss: 0.000504\n"
     ]
    },
    {
     "name": "stderr",
     "output_type": "stream",
     "text": [
      "                                                                             \r"
     ]
    },
    {
     "name": "stdout",
     "output_type": "stream",
     "text": [
      "Epoch 26/30 - Train Loss: 0.000416 - Val Loss: 0.000502\n"
     ]
    },
    {
     "name": "stderr",
     "output_type": "stream",
     "text": [
      "                                                                             \r"
     ]
    },
    {
     "name": "stdout",
     "output_type": "stream",
     "text": [
      "Epoch 27/30 - Train Loss: 0.000408 - Val Loss: 0.000505\n"
     ]
    },
    {
     "name": "stderr",
     "output_type": "stream",
     "text": [
      "                                                                             \r"
     ]
    },
    {
     "name": "stdout",
     "output_type": "stream",
     "text": [
      "Epoch 28/30 - Train Loss: 0.000403 - Val Loss: 0.000506\n"
     ]
    },
    {
     "name": "stderr",
     "output_type": "stream",
     "text": [
      "                                                                             \r"
     ]
    },
    {
     "name": "stdout",
     "output_type": "stream",
     "text": [
      "Epoch 29/30 - Train Loss: 0.000398 - Val Loss: 0.000490\n"
     ]
    },
    {
     "name": "stderr",
     "output_type": "stream",
     "text": [
      "                                                                             "
     ]
    },
    {
     "name": "stdout",
     "output_type": "stream",
     "text": [
      "Epoch 30/30 - Train Loss: 0.000391 - Val Loss: 0.000497\n",
      "Pretraining completed and model weights saved.\n"
     ]
    },
    {
     "name": "stderr",
     "output_type": "stream",
     "text": [
      "\r"
     ]
    }
   ],
   "source": [
    "import torch\n",
    "import torch.nn as nn\n",
    "import torch.optim as optim\n",
    "from torch.utils.data import DataLoader, Subset\n",
    "from tqdm import tqdm  \n",
    "\n",
    "source_df_scaled = pretrain_df_scaled\n",
    "\n",
    "# Create the dataset using the scaled data\n",
    "train_dataset = TimeSeriesDataset(source_df_scaled, input_window=14, output_window=1, target_col_name='transaction_count')\n",
    "\n",
    "# Split the dataset into training and validation sets sequentially.\n",
    "val_ratio = 0.2  \n",
    "num_samples = len(train_dataset)\n",
    "num_train = int(num_samples * (1 - val_ratio))\n",
    "num_val = num_samples - num_train\n",
    "\n",
    "train_subset = Subset(train_dataset, list(range(num_train)))\n",
    "val_subset = Subset(train_dataset, list(range(num_train, num_samples)))\n",
    "\n",
    "train_loader = DataLoader(train_subset, batch_size=32, shuffle=False)  # No shuffle for time-series\n",
    "val_loader = DataLoader(val_subset, batch_size=32, shuffle=False)\n",
    "\n",
    "# Set the number of features from the scaled DataFrame\n",
    "num_features = source_df_scaled.shape[1]  # Make sure this matches your inputs\n",
    "\n",
    "# Define hyperparameters for the TCN.\n",
    "num_channels = [64, 64]    \n",
    "kernel_size = 3         \n",
    "dropout = 0.2\n",
    "\n",
    "# Initialize the TCN forecasting model\n",
    "model = TCNForecastingModel(num_inputs=num_features, num_channels=num_channels, kernel_size=kernel_size, dropout=dropout)\n",
    "criterion = nn.MSELoss()\n",
    "optimizer = optim.Adam(model.parameters(), lr=0.0001)\n",
    "\n",
    "# Pretrain the model on all product groups (source domain)\n",
    "num_epochs = 30\n",
    "for epoch in range(num_epochs):\n",
    "    model.train()\n",
    "    train_epoch_loss = 0.0\n",
    "    \n",
    "    # Training loop with progress bar.\n",
    "    for inputs, targets in tqdm(train_loader, desc=f\"Epoch {epoch+1}/{num_epochs} - Training\", leave=False):\n",
    "        optimizer.zero_grad()\n",
    "        outputs = model(inputs)\n",
    "        loss = criterion(outputs, targets)\n",
    "        loss.backward()\n",
    "        optimizer.step()\n",
    "        train_epoch_loss += loss.item()\n",
    "    \n",
    "    avg_train_loss = train_epoch_loss / len(train_loader)\n",
    "    \n",
    "    # Validation phase\n",
    "    model.eval()\n",
    "    val_epoch_loss = 0.0\n",
    "    with torch.no_grad():\n",
    "        for inputs, targets in tqdm(val_loader, desc=f\"Epoch {epoch+1}/{num_epochs} - Validation\", leave=False):\n",
    "            outputs = model(inputs)\n",
    "            loss = criterion(outputs, targets)\n",
    "            val_epoch_loss += loss.item()\n",
    "    avg_val_loss = val_epoch_loss / len(val_loader)\n",
    "    \n",
    "    print(f\"Epoch {epoch+1}/{num_epochs} - Train Loss: {avg_train_loss:.6f} - Val Loss: {avg_val_loss:.6f}\")\n",
    "\n",
    "# Save the pretrained model's weights.\n",
    "torch.save(model.state_dict(), \"pretrained_tcn.pt\")\n",
    "print(\"Pretraining completed and model weights saved.\")\n"
   ]
  },
  {
   "cell_type": "markdown",
   "metadata": {},
   "source": [
    "### Fine-tuning"
   ]
  },
  {
   "cell_type": "code",
   "execution_count": 61,
   "metadata": {},
   "outputs": [],
   "source": [
    "# Filter out top 10 data\n",
    "top10_data = data[data['product_group'].isin(top_10_groups)].copy()\n",
    "\n",
    "# Drop non-numeric columns (date, product_group) if not used\n",
    "top10_data = top10_data.drop(columns=['date', 'product_group'])\n",
    "\n",
    "# Separate features/target\n",
    "X_top10 = top10_data.drop(columns=['transaction_count']).values\n",
    "y_top10 = top10_data['transaction_count'].values.reshape(-1, 1)\n",
    "\n",
    "# Apply the same scalers used during pretraining (or fit new ones, if desired)\n",
    "X_top10_scaled = feature_scaler.transform(X_top10)    # transform, not fit_transform\n",
    "y_top10_scaled = target_scaler.transform(y_top10)\n",
    "\n",
    "# Build a new DataFrame with scaled data\n",
    "top10_df_scaled = pd.DataFrame(\n",
    "    X_top10_scaled, \n",
    "    columns=[col for col in top10_data.columns if col != 'transaction_count']\n",
    ")\n",
    "top10_df_scaled['transaction_count'] = y_top10_scaled\n",
    "\n",
    "# Sort by time if needed (assuming your index or a separate 'date' column)\n",
    "top10_df_scaled = top10_df_scaled.sort_index()\n",
    "\n",
    "input_window = 14\n",
    "output_window = 1\n",
    "target_col_name = 'transaction_count'\n",
    "\n",
    "top10_dataset = TimeSeriesDataset(\n",
    "    top10_df_scaled,\n",
    "    input_window=input_window,\n",
    "    output_window=output_window,\n",
    "    target_col_name=target_col_name\n",
    ")"
   ]
  },
  {
   "cell_type": "code",
   "execution_count": null,
   "metadata": {},
   "outputs": [],
   "source": [
    "import os\n",
    "import re\n",
    "import numpy as np\n",
    "import pandas as pd\n",
    "import torch\n",
    "import torch.nn as nn\n",
    "import torch.optim as optim\n",
    "import matplotlib.pyplot as plt\n",
    "from torch.utils.data import DataLoader, Subset\n",
    "from sklearn.model_selection import TimeSeriesSplit\n",
    "from sklearn.metrics import mean_absolute_error, mean_squared_error, r2_score\n",
    "from modules.utils import process_name\n",
    "\n",
    "all_groups_results = {}\n",
    "\n",
    "output_dir = \"output/top_10_product_groups/transfer\"\n",
    "os.makedirs(output_dir, exist_ok=True)\n",
    "\n",
    "for product_group in top_10_groups:\n",
    "    print(f\"\\n=== Running for {product_group} ===\")\n",
    "    \n",
    "    # 1. Filter data\n",
    "    group_df = data[data['product_group'] == product_group].copy()\n",
    "    \n",
    "    # Drop non-numeric columns\n",
    "    group_df = group_df.drop(columns=['date','product_group'])\n",
    "    \n",
    "    # Scale\n",
    "    X_group = group_df.drop(columns=['transaction_count']).values\n",
    "    y_group = group_df['transaction_count'].values.reshape(-1,1)\n",
    "    X_group_scaled = feature_scaler.transform(X_group)\n",
    "    y_group_scaled = target_scaler.transform(y_group)\n",
    "    \n",
    "    group_df_scaled = pd.DataFrame(\n",
    "        X_group_scaled,\n",
    "        columns=[col for col in group_df.columns if col != 'transaction_count']\n",
    "    )\n",
    "    group_df_scaled['transaction_count'] = y_group_scaled\n",
    "    group_df_scaled = group_df_scaled.sort_index()\n",
    "    \n",
    "    # Create dataset\n",
    "    input_window = 14\n",
    "    output_window = 1\n",
    "    target_col_name = 'transaction_count'\n",
    "    \n",
    "    group_dataset = TimeSeriesDataset(\n",
    "        group_df_scaled,\n",
    "        input_window=input_window,\n",
    "        output_window=output_window,\n",
    "        target_col_name=target_col_name\n",
    "    )\n",
    "    \n",
    "    # Prepare for cross-validation\n",
    "    tscv = TimeSeriesSplit(n_splits=4)\n",
    "    fold_metrics = []\n",
    "    \n",
    "    # Create figure\n",
    "    fig, axes = plt.subplots(nrows=tscv.n_splits, ncols=2, figsize=(20, 5 * tscv.n_splits))\n",
    "    fig.suptitle(f\"{product_group}: Predictions vs Actual & Residuals\", fontsize=16, y=0.95)\n",
    "\n",
    "    fold = 0\n",
    "    for train_idx, val_idx in tscv.split(np.arange(len(group_dataset))):\n",
    "        fold += 1\n",
    "        print(f\"=== Fold {fold} ===\")\n",
    "        \n",
    "        train_subset = Subset(group_dataset, train_idx)\n",
    "        val_subset = Subset(group_dataset, val_idx)\n",
    "        \n",
    "        train_loader = DataLoader(train_subset, batch_size=32, shuffle=False)\n",
    "        val_loader = DataLoader(val_subset, batch_size=32, shuffle=False)\n",
    "        \n",
    "        # Initialize model\n",
    "        num_features = source_df_scaled.shape[1] \n",
    "        model = TCNForecastingModel(\n",
    "            num_inputs=num_features,\n",
    "            num_channels=[64, 64],\n",
    "            kernel_size=3,\n",
    "            dropout=0.2\n",
    "        )\n",
    "        \n",
    "        checkpoint = torch.load(\"pretrained_tcn.pt\")\n",
    "        model_dict = model.state_dict()\n",
    "\n",
    "        # Only remove the final layer keys if their shapes do not match.\n",
    "        if \"fc.weight\" in checkpoint:\n",
    "            if checkpoint[\"fc.weight\"].shape != model_dict[\"fc.weight\"].shape:\n",
    "                checkpoint.pop(\"fc.weight\", None)\n",
    "                checkpoint.pop(\"fc.bias\", None)\n",
    "\n",
    "        # Load the checkpoint with strict=False so that any remaining mismatches are ignored.\n",
    "        model.load_state_dict(checkpoint, strict=False)\n",
    "\n",
    "        \n",
    "        criterion = nn.MSELoss()\n",
    "        optimizer = optim.Adam(model.parameters(), lr=1e-4)\n",
    "        \n",
    "        epochs = 30\n",
    "        for epoch in range(epochs):\n",
    "            model.train()\n",
    "            train_loss = 0.0\n",
    "            for X_batch, y_batch in train_loader:\n",
    "                optimizer.zero_grad()\n",
    "                preds = model(X_batch)\n",
    "                loss = criterion(preds, y_batch)\n",
    "                loss.backward()\n",
    "                optimizer.step()\n",
    "                train_loss += loss.item()\n",
    "            avg_train_loss = train_loss / len(train_loader)\n",
    "            \n",
    "            # Evaluate on validation\n",
    "            model.eval()\n",
    "            val_loss = 0.0\n",
    "            with torch.no_grad():\n",
    "                for X_batch, y_batch in val_loader:\n",
    "                    preds = model(X_batch)\n",
    "                    loss = criterion(preds, y_batch)\n",
    "                    val_loss += loss.item()\n",
    "            avg_val_loss = val_loss / len(val_loader)\n",
    "            \n",
    "            if (epoch+1) % 5 == 0:\n",
    "                print(f\"Epoch {epoch+1}/{epochs}, Train Loss: {avg_train_loss:.6f}, Val Loss: {avg_val_loss:.6f}\")\n",
    "        \n",
    "        # Collect predictions on val set\n",
    "        all_preds, all_targets = [], []\n",
    "        model.eval()\n",
    "        with torch.no_grad():\n",
    "            for X_batch, y_batch in val_loader:\n",
    "                preds = model(X_batch)\n",
    "                all_preds.append(preds.cpu().numpy())\n",
    "                all_targets.append(y_batch.cpu().numpy())\n",
    "        all_preds = np.concatenate(all_preds, axis=0)\n",
    "        all_targets = np.concatenate(all_targets, axis=0)\n",
    "        \n",
    "        # Compute metrics\n",
    "        mae = mean_absolute_error(all_targets, all_preds)\n",
    "        rmse = np.sqrt(mean_squared_error(all_targets, all_preds))\n",
    "        mape = np.mean(np.abs((all_targets - all_preds) / np.maximum(np.abs(all_targets), 1e-8))) * 100\n",
    "        r2 = r2_score(all_targets, all_preds)\n",
    "        \n",
    "        print(f\"Fold {fold} => MAE: {mae:.4f}, RMSE: {rmse:.4f}, MAPE: {mape:.2f}%, R²: {r2:.4f}\")\n",
    "        fold_metrics.append({\n",
    "            'Fold': fold,\n",
    "            'MAE': mae,\n",
    "            'RMSE': rmse,\n",
    "            'MAPE': mape,\n",
    "            'R2': r2\n",
    "        })\n",
    "        \n",
    "        # Plot predictions vs. actual\n",
    "        ax_pred = axes[fold-1, 0] if tscv.n_splits > 1 else axes[0]\n",
    "        ax_res = axes[fold-1, 1] if tscv.n_splits > 1 else axes[1]\n",
    "        \n",
    "        val_x = np.arange(len(all_preds))  # or use a date index if you have one\n",
    "        ax_pred.plot(val_x, all_targets, label=\"Actual\", alpha=0.7)\n",
    "        ax_pred.plot(val_x, all_preds, label=\"Predicted\", alpha=0.7, linestyle='--')\n",
    "        ax_pred.set_title(f\"Fold {fold}: Predictions vs Actual\")\n",
    "        ax_pred.legend()\n",
    "        \n",
    "        # Residuals\n",
    "        residuals = all_targets - all_preds\n",
    "        ax_res.plot(val_x, residuals, label=\"Residuals\")\n",
    "        ax_res.axhline(0, color='r', linestyle='--', alpha=0.5)\n",
    "        ax_res.set_title(f\"Fold {fold}: Residuals\")\n",
    "        ax_res.legend()\n",
    "    \n",
    "    # Summarize fold metrics\n",
    "    fold_metrics_df = pd.DataFrame(fold_metrics)\n",
    "    avg_metrics = {\n",
    "        'MAE': fold_metrics_df['MAE'].mean(),\n",
    "        'RMSE': fold_metrics_df['RMSE'].mean(),\n",
    "        'MAPE': fold_metrics_df['MAPE'].mean(),\n",
    "        'R2': fold_metrics_df['R2'].mean()\n",
    "    }\n",
    "    print(f\"\\n=== {product_group} - Per-Fold Metrics ===\")\n",
    "    print(fold_metrics_df)\n",
    "    print(f\"=== {product_group} - Average CV Metrics ===\")\n",
    "    print(avg_metrics)\n",
    "    \n",
    "    sanitized_group = process_name(product_group)\n",
    "\n",
    "    # Save figure\n",
    "    plt.tight_layout(rect=[0, 0, 1, 0.95])\n",
    "    fig_name = f\"{sanitized_group}_pred_res.png\"\n",
    "    fig_path = os.path.join(output_dir, fig_name)\n",
    "    plt.savefig(fig_path)\n",
    "    plt.close(fig)\n",
    "    \n",
    "    # Save fold metrics\n",
    "    fold_metrics_csv = f\"{sanitized_group}_fold_metrics.csv\"\n",
    "    fold_metrics_path = os.path.join(output_dir, fold_metrics_csv)\n",
    "    fold_metrics_df.to_csv(fold_metrics_path, index=False)\n",
    "    \n",
    "    # Save average metrics\n",
    "    avg_metrics_csv = f\"{sanitized_group}_avg_metrics.csv\"\n",
    "    avg_metrics_path = os.path.join(output_dir, avg_metrics_csv)\n",
    "    pd.DataFrame([avg_metrics]).to_csv(avg_metrics_path, index=False)\n",
    "    \n",
    "    # Store results in dictionary\n",
    "    all_groups_results[product_group] = {\n",
    "        'fold_metrics': fold_metrics_df,\n",
    "        'avg_metrics': avg_metrics\n",
    "    }\n",
    "\n",
    "print(\"\\nAll groups processed. Figures and metrics saved in:\", output_dir)\n"
   ]
  },
  {
   "cell_type": "code",
   "execution_count": 246,
   "metadata": {},
   "outputs": [],
   "source": [
    "import optuna\n",
    "import torch\n",
    "import torch.nn as nn\n",
    "import torch.optim as optim\n",
    "import numpy as np\n",
    "from torch.utils.data import Subset, DataLoader\n",
    "from sklearn.model_selection import TimeSeriesSplit\n",
    "\n",
    "def optuna_objective(trial, group_df_scaled, pretrained_weights, epochs=10, n_splits=2):\n",
    "    \"\"\"\n",
    "    Optuna objective function that tunes:\n",
    "      - lr (learning rate)\n",
    "      - dropout (regularization)\n",
    "      - window_size (input_window for TimeSeriesDataset)\n",
    "      - batch_size (training batch size)\n",
    "    \"\"\"\n",
    "    # 1. Suggest hyperparams\n",
    "    lr = trial.suggest_float(\"lr\", 1e-5, 1e-3, log=True)\n",
    "    dropout = trial.suggest_float(\"dropout\", 0.0, 0.5)\n",
    "    window_size = trial.suggest_int(\"window_size\", 7, 28, step=7)\n",
    "    batch_size = trial.suggest_categorical(\"batch_size\", [16, 32, 64, 128])\n",
    "\n",
    "    # 2. Re-create the dataset with the new window_size\n",
    "    target_col_name = 'transaction_count'\n",
    "    dataset = TimeSeriesDataset(\n",
    "        group_df_scaled,\n",
    "        input_window=window_size,\n",
    "        output_window=1,\n",
    "        target_col_name=target_col_name\n",
    "    )\n",
    "\n",
    "    # 3. TimeSeriesSplit cross-validation\n",
    "    tscv = TimeSeriesSplit(n_splits=n_splits)\n",
    "    criterion = nn.MSELoss()\n",
    "    val_losses = []\n",
    "\n",
    "    num_features = group_df_scaled.shape[1] \n",
    "\n",
    "    for fold, (train_idx, val_idx) in enumerate(tscv.split(range(len(dataset))), start=1):\n",
    "        train_subset = Subset(dataset, train_idx)\n",
    "        val_subset = Subset(dataset, val_idx)\n",
    "\n",
    "        train_loader = DataLoader(train_subset, batch_size=batch_size, shuffle=False)\n",
    "        val_loader = DataLoader(val_subset, batch_size=batch_size, shuffle=False)\n",
    "\n",
    "        model = TCNForecastingModel(\n",
    "            num_inputs=num_features,\n",
    "            num_channels=[64, 64],\n",
    "            kernel_size=3,\n",
    "            dropout=dropout,\n",
    "            output_size=1\n",
    "        )\n",
    "\n",
    "        checkpoint = torch.load(\"pretrained_tcn.pt\")\n",
    "        model_dict = model.state_dict()\n",
    "\n",
    "        # Only remove the final layer keys if their shapes do not match.\n",
    "        if \"fc.weight\" in checkpoint:\n",
    "            if checkpoint[\"fc.weight\"].shape != model_dict[\"fc.weight\"].shape:\n",
    "                checkpoint.pop(\"fc.weight\", None)\n",
    "                checkpoint.pop(\"fc.bias\", None)\n",
    "\n",
    "        # Load the checkpoint with strict=False so that any remaining mismatches are ignored.\n",
    "        model.load_state_dict(checkpoint, strict=False)\n",
    "\n",
    "        optimizer = optim.Adam(model.parameters(), lr=lr)\n",
    "\n",
    "        # Fine-tune for 'epochs'\n",
    "        for ep in range(epochs):\n",
    "            model.train()\n",
    "            for Xb, yb in train_loader:\n",
    "                optimizer.zero_grad()\n",
    "                preds = model(Xb)\n",
    "                loss = criterion(preds, yb)\n",
    "                loss.backward()\n",
    "                optimizer.step()\n",
    "\n",
    "        # Validation\n",
    "        model.eval()\n",
    "        val_loss = 0.0\n",
    "        n_samples = 0\n",
    "        with torch.no_grad():\n",
    "            for Xb, yb in val_loader:\n",
    "                preds = model(Xb)\n",
    "                loss = criterion(preds, yb)\n",
    "                val_loss += loss.item() * Xb.size(0)\n",
    "                n_samples += Xb.size(0)\n",
    "\n",
    "        fold_mse = val_loss / n_samples\n",
    "        val_losses.append(fold_mse)\n",
    "\n",
    "    # Return average MSE across folds\n",
    "    return float(np.mean(val_losses))\n"
   ]
  },
  {
   "cell_type": "code",
   "execution_count": null,
   "metadata": {},
   "outputs": [],
   "source": [
    "def run_optuna_for_group(group_df_scaled, pretrained_weights, n_trials, output_dir):\n",
    "    \"\"\"\n",
    "    Run Optuna for a single product group's scaled DataFrame,\n",
    "    tuning window_size, lr, dropout, etc., over n_trials,\n",
    "    and save the best hyperparams + full study results to CSV.\n",
    "    \"\"\"\n",
    "\n",
    "    # 1. Create a local objective that calls your main objective function\n",
    "    def local_objective(trial):\n",
    "        return optuna_objective(\n",
    "            trial=trial,\n",
    "            group_df_scaled=group_df_scaled,\n",
    "            pretrained_weights=pretrained_weights,\n",
    "            epochs=10,      \n",
    "            n_splits=2      \n",
    "        )\n",
    "\n",
    "    # 2. Create and run the study\n",
    "    os.makedirs(output_dir, exist_ok=True)\n",
    "    study = optuna.create_study(direction=\"minimize\")\n",
    "    study.optimize(local_objective, n_trials=n_trials)\n",
    "\n",
    "    # 3. Retrieve best hyperparams\n",
    "    best_params = study.best_params\n",
    "    best_value = study.best_value\n",
    "    print(f\"Best hyperparams: {best_params}, best MSE: {best_value:.6f}\")\n",
    "\n",
    "    # 4. Save the entire study details\n",
    "    study_df = study.trials_dataframe()\n",
    "    study_df.to_csv(os.path.join(output_dir, \"study_trials.csv\"), index=False)\n",
    "\n",
    "    # 5. Save just the best hyperparams\n",
    "    best_params_csv = os.path.join(output_dir, \"best_params.csv\")\n",
    "    pd.DataFrame([best_params]).to_csv(best_params_csv, index=False)\n",
    "\n",
    "    return best_params, best_value"
   ]
  },
  {
   "cell_type": "code",
   "execution_count": 248,
   "metadata": {},
   "outputs": [
    {
     "name": "stderr",
     "output_type": "stream",
     "text": [
      "[I 2025-02-24 20:23:39,348] A new study created in memory with name: no-name-4a38b86e-df14-4007-a502-70ca9929fa6c\n"
     ]
    },
    {
     "name": "stdout",
     "output_type": "stream",
     "text": [
      "\n",
      "=== Optuna Tuning for Bra Black Solid ===\n"
     ]
    },
    {
     "name": "stderr",
     "output_type": "stream",
     "text": [
      "/var/folders/33/sqxmhw8j72g_q70vx5jqs_jr0000gn/T/ipykernel_11010/3444972092.py:54: FutureWarning: You are using `torch.load` with `weights_only=False` (the current default value), which uses the default pickle module implicitly. It is possible to construct malicious pickle data which will execute arbitrary code during unpickling (See https://github.com/pytorch/pytorch/blob/main/SECURITY.md#untrusted-models for more details). In a future release, the default value for `weights_only` will be flipped to `True`. This limits the functions that could be executed during unpickling. Arbitrary objects will no longer be allowed to be loaded via this mode unless they are explicitly allowlisted by the user via `torch.serialization.add_safe_globals`. We recommend you start setting `weights_only=True` for any use case where you don't have full control of the loaded file. Please open an issue on GitHub for any issues related to this experimental feature.\n",
      "  checkpoint = torch.load(\"pretrained_tcn.pt\")\n",
      "[I 2025-02-24 20:23:42,108] Trial 0 finished with value: 0.009133364067300918 and parameters: {'lr': 5.32991408365333e-05, 'dropout': 0.1463844898428197, 'window_size': 21, 'batch_size': 16}. Best is trial 0 with value: 0.009133364067300918.\n",
      "[I 2025-02-24 20:23:44,416] Trial 1 finished with value: 0.007370038357718537 and parameters: {'lr': 0.0007904359623489783, 'dropout': 0.3094138026025837, 'window_size': 14, 'batch_size': 32}. Best is trial 1 with value: 0.007370038357718537.\n",
      "[I 2025-02-24 20:23:46,737] Trial 2 finished with value: 0.008293543239817657 and parameters: {'lr': 0.0003087826122198924, 'dropout': 0.18672063009939982, 'window_size': 28, 'batch_size': 128}. Best is trial 1 with value: 0.007370038357718537.\n",
      "[I 2025-02-24 20:23:49,016] Trial 3 finished with value: 0.010217176261357964 and parameters: {'lr': 3.8697781473999016e-05, 'dropout': 0.14063401225708372, 'window_size': 14, 'batch_size': 32}. Best is trial 1 with value: 0.007370038357718537.\n",
      "[I 2025-02-24 20:23:50,962] Trial 4 finished with value: 0.009701511512200039 and parameters: {'lr': 1.0229544026554086e-05, 'dropout': 0.15380016405659191, 'window_size': 14, 'batch_size': 128}. Best is trial 1 with value: 0.007370038357718537.\n",
      "[I 2025-02-24 20:23:53,135] Trial 5 finished with value: 0.00852553474639232 and parameters: {'lr': 0.00013802686029321868, 'dropout': 0.4165324709473441, 'window_size': 14, 'batch_size': 32}. Best is trial 1 with value: 0.007370038357718537.\n",
      "[I 2025-02-24 20:23:55,242] Trial 6 finished with value: 0.010450370414261136 and parameters: {'lr': 0.000144872143892978, 'dropout': 0.3040964311488728, 'window_size': 21, 'batch_size': 128}. Best is trial 1 with value: 0.007370038357718537.\n",
      "[I 2025-02-24 20:23:57,243] Trial 7 finished with value: 0.010858210919868425 and parameters: {'lr': 2.5254152387098155e-05, 'dropout': 0.01403024551168025, 'window_size': 7, 'batch_size': 32}. Best is trial 1 with value: 0.007370038357718537.\n",
      "[I 2025-02-24 20:23:59,212] Trial 8 finished with value: 0.011022526641426347 and parameters: {'lr': 1.777277108748246e-05, 'dropout': 0.0860834940737602, 'window_size': 7, 'batch_size': 32}. Best is trial 1 with value: 0.007370038357718537.\n",
      "[I 2025-02-24 20:24:01,815] Trial 9 finished with value: 0.011697909761711886 and parameters: {'lr': 4.565367263182643e-05, 'dropout': 0.48227862956795653, 'window_size': 28, 'batch_size': 32}. Best is trial 1 with value: 0.007370038357718537.\n",
      "[I 2025-02-24 20:24:03,768] Trial 10 finished with value: 0.008122798615358463 and parameters: {'lr': 0.0008875269487249591, 'dropout': 0.3203419703386604, 'window_size': 7, 'batch_size': 64}. Best is trial 1 with value: 0.007370038357718537.\n",
      "[I 2025-02-24 20:24:05,656] Trial 11 finished with value: 0.007233597863511729 and parameters: {'lr': 0.0009912282841645721, 'dropout': 0.31022583948338456, 'window_size': 7, 'batch_size': 64}. Best is trial 11 with value: 0.007233597863511729.\n",
      "[I 2025-02-24 20:24:07,521] Trial 12 finished with value: 0.007631259511440438 and parameters: {'lr': 0.0007980164876956664, 'dropout': 0.3615864556049967, 'window_size': 7, 'batch_size': 64}. Best is trial 11 with value: 0.007233597863511729.\n",
      "[I 2025-02-24 20:24:09,639] Trial 13 finished with value: 0.00789528152284523 and parameters: {'lr': 0.00039648425320343723, 'dropout': 0.23492779503467207, 'window_size': 14, 'batch_size': 64}. Best is trial 11 with value: 0.007233597863511729.\n",
      "[I 2025-02-24 20:24:12,215] Trial 14 finished with value: 0.0069112757442888455 and parameters: {'lr': 0.0004628156223066079, 'dropout': 0.24357071149342704, 'window_size': 21, 'batch_size': 16}. Best is trial 14 with value: 0.0069112757442888455.\n",
      "[I 2025-02-24 20:24:14,788] Trial 15 finished with value: 0.007626544427272042 and parameters: {'lr': 0.0003765116314284722, 'dropout': 0.23894072247766743, 'window_size': 21, 'batch_size': 16}. Best is trial 14 with value: 0.0069112757442888455.\n",
      "[I 2025-02-24 20:24:17,367] Trial 16 finished with value: 0.007538370874303664 and parameters: {'lr': 0.00023829452149042068, 'dropout': 0.3883109219969856, 'window_size': 21, 'batch_size': 16}. Best is trial 14 with value: 0.0069112757442888455.\n",
      "[I 2025-02-24 20:24:19,786] Trial 17 finished with value: 0.009132931290313284 and parameters: {'lr': 0.0005845069795413292, 'dropout': 0.4538695588467057, 'window_size': 28, 'batch_size': 64}. Best is trial 14 with value: 0.0069112757442888455.\n",
      "[I 2025-02-24 20:24:22,350] Trial 18 finished with value: 0.007692493195252548 and parameters: {'lr': 0.00018117498140698992, 'dropout': 0.24534737247289384, 'window_size': 21, 'batch_size': 16}. Best is trial 14 with value: 0.0069112757442888455.\n",
      "[I 2025-02-24 20:24:24,829] Trial 19 finished with value: 0.007903648459629969 and parameters: {'lr': 0.000514582396734637, 'dropout': 0.3280840032489146, 'window_size': 28, 'batch_size': 64}. Best is trial 14 with value: 0.0069112757442888455.\n",
      "[I 2025-02-24 20:24:27,024] Trial 20 finished with value: 0.0077507051544009956 and parameters: {'lr': 0.0005174399454691491, 'dropout': 0.2660718204538252, 'window_size': 7, 'batch_size': 16}. Best is trial 14 with value: 0.0069112757442888455.\n",
      "[I 2025-02-24 20:24:29,209] Trial 21 finished with value: 0.007399993843864649 and parameters: {'lr': 0.0007839288907208272, 'dropout': 0.28972397993405, 'window_size': 14, 'batch_size': 32}. Best is trial 14 with value: 0.0069112757442888455.\n",
      "[I 2025-02-24 20:24:31,308] Trial 22 finished with value: 0.007631398201920093 and parameters: {'lr': 0.0009960539070455734, 'dropout': 0.20097384738352547, 'window_size': 14, 'batch_size': 64}. Best is trial 14 with value: 0.0069112757442888455.\n",
      "[I 2025-02-24 20:24:33,885] Trial 23 finished with value: 0.007597113685153881 and parameters: {'lr': 0.00026394359917962214, 'dropout': 0.3658423440282641, 'window_size': 21, 'batch_size': 16}. Best is trial 14 with value: 0.0069112757442888455.\n",
      "[I 2025-02-24 20:24:35,855] Trial 24 finished with value: 0.010291746202229727 and parameters: {'lr': 9.724809128899885e-05, 'dropout': 0.3442870282827654, 'window_size': 7, 'batch_size': 32}. Best is trial 14 with value: 0.0069112757442888455.\n",
      "[I 2025-02-24 20:24:37,994] Trial 25 finished with value: 0.007712082968403896 and parameters: {'lr': 0.000571898173705654, 'dropout': 0.4093971707224285, 'window_size': 14, 'batch_size': 64}. Best is trial 14 with value: 0.0069112757442888455.\n",
      "[I 2025-02-24 20:24:40,564] Trial 26 finished with value: 0.007303016608038658 and parameters: {'lr': 0.0007130236200615894, 'dropout': 0.2924506028925806, 'window_size': 21, 'batch_size': 16}. Best is trial 14 with value: 0.0069112757442888455.\n",
      "[I 2025-02-24 20:24:43,140] Trial 27 finished with value: 0.009134916618873095 and parameters: {'lr': 9.258493194031772e-05, 'dropout': 0.19813212664117485, 'window_size': 21, 'batch_size': 16}. Best is trial 14 with value: 0.0069112757442888455.\n",
      "[I 2025-02-24 20:24:45,697] Trial 28 finished with value: 0.007072144638912021 and parameters: {'lr': 0.00039676631260778677, 'dropout': 0.2686646647154506, 'window_size': 21, 'batch_size': 16}. Best is trial 14 with value: 0.0069112757442888455.\n",
      "[I 2025-02-24 20:24:48,260] Trial 29 finished with value: 0.008769833993899561 and parameters: {'lr': 6.525389921420386e-05, 'dropout': 0.10331461899671779, 'window_size': 21, 'batch_size': 16}. Best is trial 14 with value: 0.0069112757442888455.\n",
      "[I 2025-02-24 20:24:48,289] A new study created in memory with name: no-name-34d3eff1-cad1-46df-862c-87c83ed6381a\n",
      "/var/folders/33/sqxmhw8j72g_q70vx5jqs_jr0000gn/T/ipykernel_11010/3444972092.py:54: FutureWarning: You are using `torch.load` with `weights_only=False` (the current default value), which uses the default pickle module implicitly. It is possible to construct malicious pickle data which will execute arbitrary code during unpickling (See https://github.com/pytorch/pytorch/blob/main/SECURITY.md#untrusted-models for more details). In a future release, the default value for `weights_only` will be flipped to `True`. This limits the functions that could be executed during unpickling. Arbitrary objects will no longer be allowed to be loaded via this mode unless they are explicitly allowlisted by the user via `torch.serialization.add_safe_globals`. We recommend you start setting `weights_only=True` for any use case where you don't have full control of the loaded file. Please open an issue on GitHub for any issues related to this experimental feature.\n",
      "  checkpoint = torch.load(\"pretrained_tcn.pt\")\n"
     ]
    },
    {
     "name": "stdout",
     "output_type": "stream",
     "text": [
      "Best hyperparams: {'lr': 0.0004628156223066079, 'dropout': 0.24357071149342704, 'window_size': 21, 'batch_size': 16}, best MSE: 0.006911\n",
      "\n",
      "=== Optuna Tuning for Dress Black Solid ===\n"
     ]
    },
    {
     "name": "stderr",
     "output_type": "stream",
     "text": [
      "[I 2025-02-24 20:24:50,550] Trial 0 finished with value: 0.027714077145495314 and parameters: {'lr': 0.000355952188305147, 'dropout': 0.4353797372709044, 'window_size': 28, 'batch_size': 128}. Best is trial 0 with value: 0.027714077145495314.\n",
      "[I 2025-02-24 20:24:52,495] Trial 1 finished with value: 0.02113700440774361 and parameters: {'lr': 0.0008393131508331329, 'dropout': 0.1282717778255525, 'window_size': 14, 'batch_size': 128}. Best is trial 1 with value: 0.02113700440774361.\n",
      "[I 2025-02-24 20:24:54,272] Trial 2 finished with value: 0.03004580259338514 and parameters: {'lr': 0.00013952477103885703, 'dropout': 0.053142528559442626, 'window_size': 7, 'batch_size': 128}. Best is trial 1 with value: 0.02113700440774361.\n",
      "[I 2025-02-24 20:24:56,528] Trial 3 finished with value: 0.028675766142600395 and parameters: {'lr': 9.457412396345336e-05, 'dropout': 0.16968990398789974, 'window_size': 28, 'batch_size': 128}. Best is trial 1 with value: 0.02113700440774361.\n",
      "[I 2025-02-24 20:24:58,385] Trial 4 finished with value: 0.028871774186634204 and parameters: {'lr': 9.566752119965394e-05, 'dropout': 0.3039116257592406, 'window_size': 7, 'batch_size': 64}. Best is trial 1 with value: 0.02113700440774361.\n",
      "[I 2025-02-24 20:25:00,655] Trial 5 finished with value: 0.018707661583473444 and parameters: {'lr': 0.000933547968700656, 'dropout': 0.15174962271972003, 'window_size': 21, 'batch_size': 64}. Best is trial 5 with value: 0.018707661583473444.\n",
      "[I 2025-02-24 20:25:02,864] Trial 6 finished with value: 0.03797748675639344 and parameters: {'lr': 1.0338562074803418e-05, 'dropout': 0.4797987617215466, 'window_size': 7, 'batch_size': 16}. Best is trial 5 with value: 0.018707661583473444.\n",
      "[I 2025-02-24 20:25:04,978] Trial 7 finished with value: 0.02627312790068016 and parameters: {'lr': 0.00026421746003542416, 'dropout': 0.09731442379949856, 'window_size': 21, 'batch_size': 128}. Best is trial 5 with value: 0.018707661583473444.\n",
      "[I 2025-02-24 20:25:06,828] Trial 8 finished with value: 0.028949056305607 and parameters: {'lr': 3.018822244708527e-05, 'dropout': 0.10595882696405468, 'window_size': 7, 'batch_size': 128}. Best is trial 5 with value: 0.018707661583473444.\n",
      "[I 2025-02-24 20:25:08,761] Trial 9 finished with value: 0.03788649942725897 and parameters: {'lr': 1.065534192953829e-05, 'dropout': 0.04640140635516338, 'window_size': 14, 'batch_size': 128}. Best is trial 5 with value: 0.018707661583473444.\n",
      "[I 2025-02-24 20:25:11,031] Trial 10 finished with value: 0.018820697572357353 and parameters: {'lr': 0.0009606360985070462, 'dropout': 0.267686194327049, 'window_size': 21, 'batch_size': 64}. Best is trial 5 with value: 0.018707661583473444.\n",
      "[I 2025-02-24 20:25:13,297] Trial 11 finished with value: 0.01981736006969704 and parameters: {'lr': 0.0009743254495088985, 'dropout': 0.2606372757474329, 'window_size': 21, 'batch_size': 64}. Best is trial 5 with value: 0.018707661583473444.\n",
      "[I 2025-02-24 20:25:15,765] Trial 12 finished with value: 0.020159347512354518 and parameters: {'lr': 0.0004538621260157135, 'dropout': 0.34152366451272576, 'window_size': 21, 'batch_size': 32}. Best is trial 5 with value: 0.018707661583473444.\n",
      "[I 2025-02-24 20:25:18,039] Trial 13 finished with value: 0.022446538042670064 and parameters: {'lr': 0.0005304292016993612, 'dropout': 0.21010010944830065, 'window_size': 21, 'batch_size': 64}. Best is trial 5 with value: 0.018707661583473444.\n",
      "[I 2025-02-24 20:25:20,478] Trial 14 finished with value: 0.024464609497226775 and parameters: {'lr': 0.00019605066919918486, 'dropout': 0.22456940146651508, 'window_size': 28, 'batch_size': 64}. Best is trial 5 with value: 0.018707661583473444.\n",
      "[I 2025-02-24 20:25:22,572] Trial 15 finished with value: 0.03357470120924214 and parameters: {'lr': 4.4288256888490684e-05, 'dropout': 0.38303161492453464, 'window_size': 14, 'batch_size': 64}. Best is trial 5 with value: 0.018707661583473444.\n",
      "[I 2025-02-24 20:25:25,175] Trial 16 finished with value: 0.01754439077811622 and parameters: {'lr': 0.0007384535159978978, 'dropout': 0.27769246700899114, 'window_size': 21, 'batch_size': 16}. Best is trial 16 with value: 0.01754439077811622.\n",
      "[I 2025-02-24 20:25:27,565] Trial 17 finished with value: 0.018784478256323685 and parameters: {'lr': 0.000587636854306085, 'dropout': 0.18499654246259403, 'window_size': 14, 'batch_size': 16}. Best is trial 16 with value: 0.01754439077811622.\n",
      "[I 2025-02-24 20:25:30,417] Trial 18 finished with value: 0.021290010610902486 and parameters: {'lr': 0.000302962237658903, 'dropout': 0.3658158828130138, 'window_size': 28, 'batch_size': 16}. Best is trial 16 with value: 0.01754439077811622.\n",
      "[I 2025-02-24 20:25:32,936] Trial 19 finished with value: 0.02859335906979459 and parameters: {'lr': 5.4063006908892736e-05, 'dropout': 0.30102764730895704, 'window_size': 21, 'batch_size': 32}. Best is trial 16 with value: 0.01754439077811622.\n",
      "[I 2025-02-24 20:25:35,372] Trial 20 finished with value: 0.019073175182954098 and parameters: {'lr': 0.00019352968337018296, 'dropout': 0.002034143869390881, 'window_size': 14, 'batch_size': 16}. Best is trial 16 with value: 0.01754439077811622.\n",
      "[I 2025-02-24 20:25:37,753] Trial 21 finished with value: 0.01886906656824673 and parameters: {'lr': 0.0005036192197782649, 'dropout': 0.17603088366266828, 'window_size': 14, 'batch_size': 16}. Best is trial 16 with value: 0.01754439077811622.\n",
      "[I 2025-02-24 20:25:40,344] Trial 22 finished with value: 0.01806661782502334 and parameters: {'lr': 0.0006524489043138339, 'dropout': 0.1647749522350225, 'window_size': 21, 'batch_size': 16}. Best is trial 16 with value: 0.01754439077811622.\n",
      "[I 2025-02-24 20:25:42,918] Trial 23 finished with value: 0.01698556596134251 and parameters: {'lr': 0.0006968367740300224, 'dropout': 0.15813921996511873, 'window_size': 21, 'batch_size': 16}. Best is trial 23 with value: 0.01698556596134251.\n",
      "[I 2025-02-24 20:25:45,569] Trial 24 finished with value: 0.018022448634473366 and parameters: {'lr': 0.0007391485988430202, 'dropout': 0.22448305852521158, 'window_size': 21, 'batch_size': 16}. Best is trial 23 with value: 0.01698556596134251.\n",
      "[I 2025-02-24 20:25:48,318] Trial 25 finished with value: 0.01766077538932416 and parameters: {'lr': 0.0003428266702687175, 'dropout': 0.22628162366805638, 'window_size': 28, 'batch_size': 16}. Best is trial 23 with value: 0.01698556596134251.\n",
      "[I 2025-02-24 20:25:51,040] Trial 26 finished with value: 0.01854493833478897 and parameters: {'lr': 0.0003979886451775488, 'dropout': 0.28037983758228474, 'window_size': 28, 'batch_size': 16}. Best is trial 23 with value: 0.01698556596134251.\n",
      "[I 2025-02-24 20:25:53,765] Trial 27 finished with value: 0.02054622987993656 and parameters: {'lr': 0.0002707117080838015, 'dropout': 0.3296947606957057, 'window_size': 28, 'batch_size': 16}. Best is trial 23 with value: 0.01698556596134251.\n",
      "[I 2025-02-24 20:25:56,511] Trial 28 finished with value: 0.02049190504327813 and parameters: {'lr': 0.00017970061332882716, 'dropout': 0.23938268049065992, 'window_size': 28, 'batch_size': 16}. Best is trial 23 with value: 0.01698556596134251.\n",
      "[I 2025-02-24 20:25:59,136] Trial 29 finished with value: 0.020381598956040803 and parameters: {'lr': 0.0003603903376157041, 'dropout': 0.4138199213717985, 'window_size': 28, 'batch_size': 32}. Best is trial 23 with value: 0.01698556596134251.\n",
      "[I 2025-02-24 20:25:59,165] A new study created in memory with name: no-name-0e19f82d-6651-4d84-a6f3-70ac3ccd36ac\n",
      "/var/folders/33/sqxmhw8j72g_q70vx5jqs_jr0000gn/T/ipykernel_11010/3444972092.py:54: FutureWarning: You are using `torch.load` with `weights_only=False` (the current default value), which uses the default pickle module implicitly. It is possible to construct malicious pickle data which will execute arbitrary code during unpickling (See https://github.com/pytorch/pytorch/blob/main/SECURITY.md#untrusted-models for more details). In a future release, the default value for `weights_only` will be flipped to `True`. This limits the functions that could be executed during unpickling. Arbitrary objects will no longer be allowed to be loaded via this mode unless they are explicitly allowlisted by the user via `torch.serialization.add_safe_globals`. We recommend you start setting `weights_only=True` for any use case where you don't have full control of the loaded file. Please open an issue on GitHub for any issues related to this experimental feature.\n",
      "  checkpoint = torch.load(\"pretrained_tcn.pt\")\n"
     ]
    },
    {
     "name": "stdout",
     "output_type": "stream",
     "text": [
      "Best hyperparams: {'lr': 0.0006968367740300224, 'dropout': 0.15813921996511873, 'window_size': 21, 'batch_size': 16}, best MSE: 0.016986\n",
      "\n",
      "=== Optuna Tuning for Leggings/Tights Black Solid ===\n"
     ]
    },
    {
     "name": "stderr",
     "output_type": "stream",
     "text": [
      "[I 2025-02-24 20:26:01,453] Trial 0 finished with value: 0.007931745915677602 and parameters: {'lr': 0.00043400328017072844, 'dropout': 0.07395709344440415, 'window_size': 21, 'batch_size': 64}. Best is trial 0 with value: 0.007931745915677602.\n",
      "[I 2025-02-24 20:26:03,244] Trial 1 finished with value: 0.005931869694724494 and parameters: {'lr': 9.340308085765938e-05, 'dropout': 0.11169624687320523, 'window_size': 7, 'batch_size': 128}. Best is trial 1 with value: 0.005931869694724494.\n",
      "[I 2025-02-24 20:26:05,036] Trial 2 finished with value: 0.012021211457000044 and parameters: {'lr': 1.4502672574352263e-05, 'dropout': 0.27239318235113474, 'window_size': 7, 'batch_size': 128}. Best is trial 1 with value: 0.005931869694724494.\n",
      "[I 2025-02-24 20:26:07,759] Trial 3 finished with value: 0.006838002430393975 and parameters: {'lr': 0.00011596488184707818, 'dropout': 0.3162128585777409, 'window_size': 28, 'batch_size': 16}. Best is trial 1 with value: 0.005931869694724494.\n",
      "[I 2025-02-24 20:26:10,225] Trial 4 finished with value: 0.006171112838112808 and parameters: {'lr': 0.00036307584235159026, 'dropout': 0.001460098420472955, 'window_size': 21, 'batch_size': 32}. Best is trial 1 with value: 0.005931869694724494.\n",
      "[I 2025-02-24 20:26:12,098] Trial 5 finished with value: 0.007706753020598129 and parameters: {'lr': 9.561094698924577e-05, 'dropout': 0.3888469893624919, 'window_size': 7, 'batch_size': 64}. Best is trial 1 with value: 0.005931869694724494.\n",
      "[I 2025-02-24 20:26:14,343] Trial 6 finished with value: 0.007048292107325285 and parameters: {'lr': 0.00026416432901746827, 'dropout': 0.11177098436341931, 'window_size': 28, 'batch_size': 128}. Best is trial 1 with value: 0.005931869694724494.\n",
      "[I 2025-02-24 20:26:16,687] Trial 7 finished with value: 0.008084043365670368 and parameters: {'lr': 0.00027583600276059975, 'dropout': 0.04507493436407484, 'window_size': 14, 'batch_size': 16}. Best is trial 1 with value: 0.005931869694724494.\n",
      "[I 2025-02-24 20:26:18,681] Trial 8 finished with value: 0.005630615244929989 and parameters: {'lr': 0.0001787312412890344, 'dropout': 0.33512901914617566, 'window_size': 14, 'batch_size': 128}. Best is trial 8 with value: 0.005630615244929989.\n",
      "[I 2025-02-24 20:26:21,035] Trial 9 finished with value: 0.005672696065933754 and parameters: {'lr': 0.000416941080998243, 'dropout': 0.4877166581331579, 'window_size': 14, 'batch_size': 16}. Best is trial 8 with value: 0.005630615244929989.\n",
      "[I 2025-02-24 20:26:23,266] Trial 10 finished with value: 0.005867196324591835 and parameters: {'lr': 0.0009931531951215937, 'dropout': 0.187978354941449, 'window_size': 14, 'batch_size': 32}. Best is trial 8 with value: 0.005630615244929989.\n",
      "[I 2025-02-24 20:26:25,641] Trial 11 finished with value: 0.008277493909311791 and parameters: {'lr': 2.7453939049958865e-05, 'dropout': 0.4932967230403572, 'window_size': 14, 'batch_size': 16}. Best is trial 8 with value: 0.005630615244929989.\n",
      "[I 2025-02-24 20:26:28,025] Trial 12 finished with value: 0.00652883102108414 and parameters: {'lr': 0.0008352414922649363, 'dropout': 0.48959652650942037, 'window_size': 14, 'batch_size': 16}. Best is trial 8 with value: 0.005630615244929989.\n",
      "[I 2025-02-24 20:26:30,196] Trial 13 finished with value: 0.0066188289253394815 and parameters: {'lr': 4.715725747249005e-05, 'dropout': 0.3793866802355831, 'window_size': 21, 'batch_size': 128}. Best is trial 8 with value: 0.005630615244929989.\n",
      "[I 2025-02-24 20:26:32,147] Trial 14 finished with value: 0.006460313964635134 and parameters: {'lr': 0.00016349633121422774, 'dropout': 0.4214269403388923, 'window_size': 14, 'batch_size': 128}. Best is trial 8 with value: 0.005630615244929989.\n",
      "[I 2025-02-24 20:26:34,770] Trial 15 finished with value: 0.00785438913089628 and parameters: {'lr': 0.0005375676831296119, 'dropout': 0.2115561694542169, 'window_size': 21, 'batch_size': 16}. Best is trial 8 with value: 0.005630615244929989.\n",
      "[I 2025-02-24 20:26:36,647] Trial 16 finished with value: 0.006846804467168413 and parameters: {'lr': 0.00016501872645270185, 'dropout': 0.34034923296329256, 'window_size': 7, 'batch_size': 64}. Best is trial 8 with value: 0.005630615244929989.\n",
      "[I 2025-02-24 20:26:38,828] Trial 17 finished with value: 0.008737802020429323 and parameters: {'lr': 5.300366970488936e-05, 'dropout': 0.44013446424330593, 'window_size': 14, 'batch_size': 32}. Best is trial 8 with value: 0.005630615244929989.\n",
      "[I 2025-02-24 20:26:41,383] Trial 18 finished with value: 0.0067895929786408096 and parameters: {'lr': 0.0005945572268788636, 'dropout': 0.27892540080347716, 'window_size': 21, 'batch_size': 16}. Best is trial 8 with value: 0.005630615244929989.\n",
      "[I 2025-02-24 20:26:43,184] Trial 19 finished with value: 0.005963040975669076 and parameters: {'lr': 0.0002080179624899602, 'dropout': 0.4391913300523611, 'window_size': 7, 'batch_size': 128}. Best is trial 8 with value: 0.005630615244929989.\n",
      "[I 2025-02-24 20:26:46,127] Trial 20 finished with value: 0.006338236327671136 and parameters: {'lr': 4.794641982440937e-05, 'dropout': 0.2178232440566612, 'window_size': 14, 'batch_size': 16}. Best is trial 8 with value: 0.005630615244929989.\n",
      "[I 2025-02-24 20:26:48,650] Trial 21 finished with value: 0.006166773500929897 and parameters: {'lr': 0.000881771696565142, 'dropout': 0.1870034315081987, 'window_size': 14, 'batch_size': 32}. Best is trial 8 with value: 0.005630615244929989.\n",
      "[I 2025-02-24 20:26:51,237] Trial 22 finished with value: 0.006204156515498957 and parameters: {'lr': 0.000931026028237292, 'dropout': 0.18500228612371117, 'window_size': 14, 'batch_size': 32}. Best is trial 8 with value: 0.005630615244929989.\n",
      "[I 2025-02-24 20:26:53,752] Trial 23 finished with value: 0.009136227595930298 and parameters: {'lr': 0.0003731453063063548, 'dropout': 0.1409399725183095, 'window_size': 14, 'batch_size': 32}. Best is trial 8 with value: 0.005630615244929989.\n",
      "[I 2025-02-24 20:26:56,596] Trial 24 finished with value: 0.006680771232511895 and parameters: {'lr': 0.0005679336452977806, 'dropout': 0.3298671043733191, 'window_size': 21, 'batch_size': 32}. Best is trial 8 with value: 0.005630615244929989.\n",
      "[I 2025-02-24 20:26:59,083] Trial 25 finished with value: 0.00602651844965294 and parameters: {'lr': 0.0006600891357847427, 'dropout': 0.25977921390506403, 'window_size': 14, 'batch_size': 32}. Best is trial 8 with value: 0.005630615244929989.\n",
      "[I 2025-02-24 20:27:01,125] Trial 26 finished with value: 0.007354040696547359 and parameters: {'lr': 0.00028078740316067244, 'dropout': 0.36784416879746035, 'window_size': 7, 'batch_size': 128}. Best is trial 8 with value: 0.005630615244929989.\n",
      "[I 2025-02-24 20:27:03,402] Trial 27 finished with value: 0.006279313308186828 and parameters: {'lr': 0.0004287795225503915, 'dropout': 0.3020839577258137, 'window_size': 14, 'batch_size': 64}. Best is trial 8 with value: 0.005630615244929989.\n",
      "[I 2025-02-24 20:27:05,766] Trial 28 finished with value: 0.00801384781402799 and parameters: {'lr': 0.00014847798062705316, 'dropout': 0.23825951589339245, 'window_size': 21, 'batch_size': 128}. Best is trial 8 with value: 0.005630615244929989.\n",
      "[I 2025-02-24 20:27:08,487] Trial 29 finished with value: 0.007704666352513781 and parameters: {'lr': 0.0009942803463398216, 'dropout': 0.148267340477973, 'window_size': 28, 'batch_size': 64}. Best is trial 8 with value: 0.005630615244929989.\n",
      "[I 2025-02-24 20:27:08,515] A new study created in memory with name: no-name-40be39f2-8791-4540-8c75-1158fd52f282\n",
      "/var/folders/33/sqxmhw8j72g_q70vx5jqs_jr0000gn/T/ipykernel_11010/3444972092.py:54: FutureWarning: You are using `torch.load` with `weights_only=False` (the current default value), which uses the default pickle module implicitly. It is possible to construct malicious pickle data which will execute arbitrary code during unpickling (See https://github.com/pytorch/pytorch/blob/main/SECURITY.md#untrusted-models for more details). In a future release, the default value for `weights_only` will be flipped to `True`. This limits the functions that could be executed during unpickling. Arbitrary objects will no longer be allowed to be loaded via this mode unless they are explicitly allowlisted by the user via `torch.serialization.add_safe_globals`. We recommend you start setting `weights_only=True` for any use case where you don't have full control of the loaded file. Please open an issue on GitHub for any issues related to this experimental feature.\n",
      "  checkpoint = torch.load(\"pretrained_tcn.pt\")\n"
     ]
    },
    {
     "name": "stdout",
     "output_type": "stream",
     "text": [
      "Best hyperparams: {'lr': 0.0001787312412890344, 'dropout': 0.33512901914617566, 'window_size': 14, 'batch_size': 128}, best MSE: 0.005631\n",
      "\n",
      "=== Optuna Tuning for Sweater Black Solid ===\n"
     ]
    },
    {
     "name": "stderr",
     "output_type": "stream",
     "text": [
      "[I 2025-02-24 20:27:10,724] Trial 0 finished with value: 0.020762282164145864 and parameters: {'lr': 3.2585219332311516e-05, 'dropout': 0.40902995564446976, 'window_size': 7, 'batch_size': 32}. Best is trial 0 with value: 0.020762282164145864.\n",
      "[I 2025-02-24 20:27:12,879] Trial 1 finished with value: 0.021056705433875323 and parameters: {'lr': 5.8745909654884296e-05, 'dropout': 0.4950088354419801, 'window_size': 14, 'batch_size': 128}. Best is trial 0 with value: 0.020762282164145864.\n",
      "[I 2025-02-24 20:27:15,217] Trial 2 finished with value: 0.0250703591876958 and parameters: {'lr': 4.4921767428870966e-05, 'dropout': 0.2743641327292251, 'window_size': 21, 'batch_size': 128}. Best is trial 0 with value: 0.020762282164145864.\n",
      "[I 2025-02-24 20:27:17,309] Trial 3 finished with value: 0.02512046261036322 and parameters: {'lr': 1.104674841472609e-05, 'dropout': 0.4164506013864311, 'window_size': 7, 'batch_size': 64}. Best is trial 0 with value: 0.020762282164145864.\n",
      "[I 2025-02-24 20:27:19,741] Trial 4 finished with value: 0.017595957219600677 and parameters: {'lr': 0.00028842935531268676, 'dropout': 0.4357675720934635, 'window_size': 14, 'batch_size': 64}. Best is trial 4 with value: 0.017595957219600677.\n",
      "[I 2025-02-24 20:27:22,685] Trial 5 finished with value: 0.018146803838379206 and parameters: {'lr': 0.0006661014896203616, 'dropout': 0.32964892587458405, 'window_size': 28, 'batch_size': 64}. Best is trial 4 with value: 0.017595957219600677.\n",
      "[I 2025-02-24 20:27:24,657] Trial 6 finished with value: 0.014818833958095877 and parameters: {'lr': 0.000877774406035581, 'dropout': 0.16486351001615074, 'window_size': 7, 'batch_size': 128}. Best is trial 6 with value: 0.014818833958095877.\n",
      "[I 2025-02-24 20:27:26,376] Trial 7 finished with value: 0.019698417753227487 and parameters: {'lr': 2.8723094586860414e-05, 'dropout': 0.024536013388215094, 'window_size': 7, 'batch_size': 64}. Best is trial 6 with value: 0.014818833958095877.\n",
      "[I 2025-02-24 20:27:28,434] Trial 8 finished with value: 0.015469127158107127 and parameters: {'lr': 0.000493817045383167, 'dropout': 0.4945397783247687, 'window_size': 7, 'batch_size': 16}. Best is trial 6 with value: 0.014818833958095877.\n",
      "[I 2025-02-24 20:27:30,678] Trial 9 finished with value: 0.013843229621093958 and parameters: {'lr': 0.0008443229327456769, 'dropout': 0.30167380578447656, 'window_size': 28, 'batch_size': 64}. Best is trial 9 with value: 0.013843229621093958.\n",
      "[I 2025-02-24 20:27:33,714] Trial 10 finished with value: 0.014921253778912286 and parameters: {'lr': 0.00016443728629573365, 'dropout': 0.17643153351968252, 'window_size': 28, 'batch_size': 16}. Best is trial 9 with value: 0.013843229621093958.\n",
      "[I 2025-02-24 20:27:36,256] Trial 11 finished with value: 0.01627449435967842 and parameters: {'lr': 0.0008357765275625532, 'dropout': 0.16374468580776097, 'window_size': 21, 'batch_size': 128}. Best is trial 9 with value: 0.013843229621093958.\n",
      "[I 2025-02-24 20:27:39,143] Trial 12 finished with value: 0.015441794399337112 and parameters: {'lr': 0.00026769113195360464, 'dropout': 0.13212986589392212, 'window_size': 21, 'batch_size': 32}. Best is trial 9 with value: 0.013843229621093958.\n",
      "[I 2025-02-24 20:27:41,371] Trial 13 finished with value: 0.01429605569380025 and parameters: {'lr': 0.0009357452641507444, 'dropout': 0.2637784538543989, 'window_size': 14, 'batch_size': 128}. Best is trial 9 with value: 0.013843229621093958.\n",
      "[I 2025-02-24 20:27:43,829] Trial 14 finished with value: 0.016658790525980294 and parameters: {'lr': 0.00038938228429177927, 'dropout': 0.3009782494091839, 'window_size': 14, 'batch_size': 64}. Best is trial 9 with value: 0.013843229621093958.\n",
      "[I 2025-02-24 20:27:45,931] Trial 15 finished with value: 0.020133780188699983 and parameters: {'lr': 0.0001224477312900343, 'dropout': 0.2337266785959907, 'window_size': 28, 'batch_size': 128}. Best is trial 9 with value: 0.013843229621093958.\n",
      "[I 2025-02-24 20:27:48,271] Trial 16 finished with value: 0.01777553028880937 and parameters: {'lr': 0.0009958294812158, 'dropout': 0.34531897889061147, 'window_size': 21, 'batch_size': 16}. Best is trial 9 with value: 0.013843229621093958.\n",
      "[I 2025-02-24 20:27:50,259] Trial 17 finished with value: 0.01895809822405378 and parameters: {'lr': 0.0002127681715334745, 'dropout': 0.2503323098268432, 'window_size': 14, 'batch_size': 64}. Best is trial 9 with value: 0.013843229621093958.\n",
      "[I 2025-02-24 20:27:52,753] Trial 18 finished with value: 0.0150479252960414 and parameters: {'lr': 0.0004706753832584015, 'dropout': 0.06844271938174856, 'window_size': 28, 'batch_size': 32}. Best is trial 9 with value: 0.013843229621093958.\n",
      "[I 2025-02-24 20:27:54,828] Trial 19 finished with value: 0.02035406409303033 and parameters: {'lr': 0.00011425420538722781, 'dropout': 0.37757606030971147, 'window_size': 21, 'batch_size': 128}. Best is trial 9 with value: 0.013843229621093958.\n",
      "[I 2025-02-24 20:27:56,873] Trial 20 finished with value: 0.016206742869690063 and parameters: {'lr': 0.0006043783097744188, 'dropout': 0.22102474411718664, 'window_size': 14, 'batch_size': 64}. Best is trial 9 with value: 0.013843229621093958.\n",
      "[I 2025-02-24 20:27:58,586] Trial 21 finished with value: 0.015486834665052285 and parameters: {'lr': 0.0009084987422509565, 'dropout': 0.11070582729493983, 'window_size': 7, 'batch_size': 128}. Best is trial 9 with value: 0.013843229621093958.\n",
      "[I 2025-02-24 20:28:00,642] Trial 22 finished with value: 0.017761498674129447 and parameters: {'lr': 0.00036030337349598926, 'dropout': 0.1872533442036309, 'window_size': 14, 'batch_size': 128}. Best is trial 9 with value: 0.013843229621093958.\n",
      "[I 2025-02-24 20:28:02,500] Trial 23 finished with value: 0.016054974786152157 and parameters: {'lr': 0.0006299781631920214, 'dropout': 0.2657875558426874, 'window_size': 7, 'batch_size': 128}. Best is trial 9 with value: 0.013843229621093958.\n",
      "[I 2025-02-24 20:28:04,444] Trial 24 finished with value: 0.01504692609111468 and parameters: {'lr': 0.0009886169215282843, 'dropout': 0.3118005532553326, 'window_size': 14, 'batch_size': 128}. Best is trial 9 with value: 0.013843229621093958.\n",
      "[I 2025-02-24 20:28:06,666] Trial 25 finished with value: 0.015968258412091166 and parameters: {'lr': 0.0005818164461014489, 'dropout': 0.10621173628785589, 'window_size': 21, 'batch_size': 128}. Best is trial 9 with value: 0.013843229621093958.\n",
      "[I 2025-02-24 20:28:09,011] Trial 26 finished with value: 0.016434408495325813 and parameters: {'lr': 0.00018471750437160905, 'dropout': 0.21405788669949657, 'window_size': 7, 'batch_size': 32}. Best is trial 9 with value: 0.013843229621093958.\n",
      "[I 2025-02-24 20:28:11,559] Trial 27 finished with value: 0.01948946144709245 and parameters: {'lr': 0.00032295309160027875, 'dropout': 0.35776675817567904, 'window_size': 28, 'batch_size': 128}. Best is trial 9 with value: 0.013843229621093958.\n",
      "[I 2025-02-24 20:28:14,321] Trial 28 finished with value: 0.017905706809445594 and parameters: {'lr': 7.011962760468164e-05, 'dropout': 0.27813408925841043, 'window_size': 14, 'batch_size': 16}. Best is trial 9 with value: 0.013843229621093958.\n",
      "[I 2025-02-24 20:28:16,714] Trial 29 finished with value: 0.026100378135250006 and parameters: {'lr': 1.4234548599585606e-05, 'dropout': 0.14038820016221154, 'window_size': 7, 'batch_size': 32}. Best is trial 9 with value: 0.013843229621093958.\n",
      "[I 2025-02-24 20:28:16,745] A new study created in memory with name: no-name-835a4b9c-7e4d-485d-ada4-0dd909a8b876\n",
      "/var/folders/33/sqxmhw8j72g_q70vx5jqs_jr0000gn/T/ipykernel_11010/3444972092.py:54: FutureWarning: You are using `torch.load` with `weights_only=False` (the current default value), which uses the default pickle module implicitly. It is possible to construct malicious pickle data which will execute arbitrary code during unpickling (See https://github.com/pytorch/pytorch/blob/main/SECURITY.md#untrusted-models for more details). In a future release, the default value for `weights_only` will be flipped to `True`. This limits the functions that could be executed during unpickling. Arbitrary objects will no longer be allowed to be loaded via this mode unless they are explicitly allowlisted by the user via `torch.serialization.add_safe_globals`. We recommend you start setting `weights_only=True` for any use case where you don't have full control of the loaded file. Please open an issue on GitHub for any issues related to this experimental feature.\n",
      "  checkpoint = torch.load(\"pretrained_tcn.pt\")\n"
     ]
    },
    {
     "name": "stdout",
     "output_type": "stream",
     "text": [
      "Best hyperparams: {'lr': 0.0008443229327456769, 'dropout': 0.30167380578447656, 'window_size': 28, 'batch_size': 64}, best MSE: 0.013843\n",
      "\n",
      "=== Optuna Tuning for T-shirt Black Solid ===\n"
     ]
    },
    {
     "name": "stderr",
     "output_type": "stream",
     "text": [
      "[I 2025-02-24 20:28:19,118] Trial 0 finished with value: 0.006143525891748741 and parameters: {'lr': 3.030049694828733e-05, 'dropout': 0.10037411897438914, 'window_size': 7, 'batch_size': 32}. Best is trial 0 with value: 0.006143525891748741.\n",
      "[I 2025-02-24 20:28:21,342] Trial 1 finished with value: 0.0052786742650695944 and parameters: {'lr': 1.367507705352523e-05, 'dropout': 0.21073739585765727, 'window_size': 7, 'batch_size': 64}. Best is trial 1 with value: 0.0052786742650695944.\n",
      "[I 2025-02-24 20:28:23,863] Trial 2 finished with value: 0.0061921699981515605 and parameters: {'lr': 1.8263868863766597e-05, 'dropout': 0.2930968575246676, 'window_size': 14, 'batch_size': 64}. Best is trial 1 with value: 0.0052786742650695944.\n",
      "[I 2025-02-24 20:28:26,654] Trial 3 finished with value: 0.005385299349048486 and parameters: {'lr': 0.00047704775804319807, 'dropout': 0.05207196421025706, 'window_size': 14, 'batch_size': 16}. Best is trial 1 with value: 0.0052786742650695944.\n",
      "[I 2025-02-24 20:28:29,254] Trial 4 finished with value: 0.00619743868461709 and parameters: {'lr': 1.0688130651449183e-05, 'dropout': 0.16877979135357057, 'window_size': 7, 'batch_size': 16}. Best is trial 1 with value: 0.0052786742650695944.\n",
      "[I 2025-02-24 20:28:31,390] Trial 5 finished with value: 0.006808311910337714 and parameters: {'lr': 0.0003277667423670376, 'dropout': 0.08223453256009733, 'window_size': 7, 'batch_size': 128}. Best is trial 1 with value: 0.0052786742650695944.\n",
      "[I 2025-02-24 20:28:34,102] Trial 6 finished with value: 0.006330190430534012 and parameters: {'lr': 2.0577086403992898e-05, 'dropout': 0.37882011684059536, 'window_size': 28, 'batch_size': 128}. Best is trial 1 with value: 0.0052786742650695944.\n",
      "[I 2025-02-24 20:28:36,233] Trial 7 finished with value: 0.00594716732609586 and parameters: {'lr': 3.8686986797456115e-05, 'dropout': 0.1476749509110094, 'window_size': 7, 'batch_size': 128}. Best is trial 1 with value: 0.0052786742650695944.\n",
      "[I 2025-02-24 20:28:39,414] Trial 8 finished with value: 0.005585586057946165 and parameters: {'lr': 8.212944237670328e-05, 'dropout': 0.2796625837104791, 'window_size': 28, 'batch_size': 16}. Best is trial 1 with value: 0.0052786742650695944.\n",
      "[I 2025-02-24 20:28:41,726] Trial 9 finished with value: 0.008265588168675701 and parameters: {'lr': 4.278990148624246e-05, 'dropout': 0.4986573601622859, 'window_size': 14, 'batch_size': 128}. Best is trial 1 with value: 0.0052786742650695944.\n",
      "[I 2025-02-24 20:28:44,429] Trial 10 finished with value: 0.006618090380643364 and parameters: {'lr': 0.0001634361906758305, 'dropout': 0.38252497016286097, 'window_size': 21, 'batch_size': 64}. Best is trial 1 with value: 0.0052786742650695944.\n",
      "[I 2025-02-24 20:28:47,208] Trial 11 finished with value: 0.004799862100238291 and parameters: {'lr': 0.0005683861429036447, 'dropout': 0.017826041935030568, 'window_size': 14, 'batch_size': 16}. Best is trial 11 with value: 0.004799862100238291.\n",
      "[I 2025-02-24 20:28:49,908] Trial 12 finished with value: 0.005037967508603752 and parameters: {'lr': 0.000985747519941989, 'dropout': 0.0013487502815879848, 'window_size': 21, 'batch_size': 64}. Best is trial 11 with value: 0.004799862100238291.\n",
      "[I 2025-02-24 20:28:52,855] Trial 13 finished with value: 0.004846885597494427 and parameters: {'lr': 0.000978216890058135, 'dropout': 0.002650931781935736, 'window_size': 21, 'batch_size': 32}. Best is trial 11 with value: 0.004799862100238291.\n",
      "[I 2025-02-24 20:28:55,542] Trial 14 finished with value: 0.004673788402468272 and parameters: {'lr': 0.000915607249799564, 'dropout': 0.0005974105537479915, 'window_size': 21, 'batch_size': 32}. Best is trial 14 with value: 0.004673788402468272.\n",
      "[I 2025-02-24 20:28:57,889] Trial 15 finished with value: 0.005109719510626378 and parameters: {'lr': 0.0004621968643104734, 'dropout': 0.11923844773345704, 'window_size': 21, 'batch_size': 32}. Best is trial 14 with value: 0.004673788402468272.\n",
      "[I 2025-02-24 20:28:59,882] Trial 16 finished with value: 0.004824451285336788 and parameters: {'lr': 0.00020446524541212216, 'dropout': 0.03294523745771808, 'window_size': 14, 'batch_size': 32}. Best is trial 14 with value: 0.004673788402468272.\n",
      "[I 2025-02-24 20:29:05,575] Trial 17 finished with value: 0.004882605969001777 and parameters: {'lr': 0.0005394693666713328, 'dropout': 0.20961024929471075, 'window_size': 28, 'batch_size': 16}. Best is trial 14 with value: 0.004673788402468272.\n",
      "[I 2025-02-24 20:29:08,703] Trial 18 finished with value: 0.00540886045041109 and parameters: {'lr': 9.224873016770735e-05, 'dropout': 0.062226183174276854, 'window_size': 21, 'batch_size': 32}. Best is trial 14 with value: 0.004673788402468272.\n",
      "[I 2025-02-24 20:29:11,627] Trial 19 finished with value: 0.004877215743181296 and parameters: {'lr': 0.00023507253587008912, 'dropout': 0.3381485424943727, 'window_size': 14, 'batch_size': 16}. Best is trial 14 with value: 0.004673788402468272.\n",
      "[I 2025-02-24 20:29:14,886] Trial 20 finished with value: 0.004882222876288704 and parameters: {'lr': 0.0006983156007977342, 'dropout': 0.17068935483734018, 'window_size': 21, 'batch_size': 16}. Best is trial 14 with value: 0.004673788402468272.\n",
      "[I 2025-02-24 20:29:17,591] Trial 21 finished with value: 0.005237962678074836 and parameters: {'lr': 0.0001676221077332335, 'dropout': 0.034566151150158125, 'window_size': 14, 'batch_size': 32}. Best is trial 14 with value: 0.004673788402468272.\n",
      "[I 2025-02-24 20:29:20,337] Trial 22 finished with value: 0.005103758916569253 and parameters: {'lr': 0.00028105609654197506, 'dropout': 0.033804049311657466, 'window_size': 14, 'batch_size': 32}. Best is trial 14 with value: 0.004673788402468272.\n",
      "[I 2025-02-24 20:29:23,093] Trial 23 finished with value: 0.005132085515651852 and parameters: {'lr': 0.0001771650966798214, 'dropout': 1.079446379897292e-05, 'window_size': 14, 'batch_size': 32}. Best is trial 14 with value: 0.004673788402468272.\n",
      "[I 2025-02-24 20:29:25,849] Trial 24 finished with value: 0.004739903088193387 and parameters: {'lr': 0.0007150412175284328, 'dropout': 0.1162917708336702, 'window_size': 14, 'batch_size': 32}. Best is trial 14 with value: 0.004673788402468272.\n",
      "[I 2025-02-24 20:29:28,998] Trial 25 finished with value: 0.004295413547334505 and parameters: {'lr': 0.000678121999491931, 'dropout': 0.1086927566242403, 'window_size': 21, 'batch_size': 32}. Best is trial 25 with value: 0.004295413547334505.\n",
      "[I 2025-02-24 20:29:32,040] Trial 26 finished with value: 0.004699027689271076 and parameters: {'lr': 0.0003701396250848944, 'dropout': 0.1237350447259726, 'window_size': 21, 'batch_size': 32}. Best is trial 25 with value: 0.004295413547334505.\n",
      "[I 2025-02-24 20:29:35,274] Trial 27 finished with value: 0.005932539616131838 and parameters: {'lr': 0.0003999057069682409, 'dropout': 0.21749823601281157, 'window_size': 28, 'batch_size': 32}. Best is trial 25 with value: 0.004295413547334505.\n",
      "[I 2025-02-24 20:29:38,411] Trial 28 finished with value: 0.004370242697105719 and parameters: {'lr': 0.0007860548382381192, 'dropout': 0.08089729294504533, 'window_size': 21, 'batch_size': 32}. Best is trial 25 with value: 0.004295413547334505.\n",
      "[I 2025-02-24 20:29:41,621] Trial 29 finished with value: 0.004559767527006201 and parameters: {'lr': 0.0008086052111193952, 'dropout': 0.09688646600930743, 'window_size': 21, 'batch_size': 32}. Best is trial 25 with value: 0.004295413547334505.\n",
      "[I 2025-02-24 20:29:41,653] A new study created in memory with name: no-name-b11b03ec-a4eb-48c7-b6e0-02ebaaa14050\n",
      "/var/folders/33/sqxmhw8j72g_q70vx5jqs_jr0000gn/T/ipykernel_11010/3444972092.py:54: FutureWarning: You are using `torch.load` with `weights_only=False` (the current default value), which uses the default pickle module implicitly. It is possible to construct malicious pickle data which will execute arbitrary code during unpickling (See https://github.com/pytorch/pytorch/blob/main/SECURITY.md#untrusted-models for more details). In a future release, the default value for `weights_only` will be flipped to `True`. This limits the functions that could be executed during unpickling. Arbitrary objects will no longer be allowed to be loaded via this mode unless they are explicitly allowlisted by the user via `torch.serialization.add_safe_globals`. We recommend you start setting `weights_only=True` for any use case where you don't have full control of the loaded file. Please open an issue on GitHub for any issues related to this experimental feature.\n",
      "  checkpoint = torch.load(\"pretrained_tcn.pt\")\n"
     ]
    },
    {
     "name": "stdout",
     "output_type": "stream",
     "text": [
      "Best hyperparams: {'lr': 0.000678121999491931, 'dropout': 0.1086927566242403, 'window_size': 21, 'batch_size': 32}, best MSE: 0.004295\n",
      "\n",
      "=== Optuna Tuning for T-shirt White Solid ===\n"
     ]
    },
    {
     "name": "stderr",
     "output_type": "stream",
     "text": [
      "[I 2025-02-24 20:29:44,034] Trial 0 finished with value: 0.005669643458289405 and parameters: {'lr': 0.0008180245503384453, 'dropout': 0.20690851712109143, 'window_size': 14, 'batch_size': 128}. Best is trial 0 with value: 0.005669643458289405.\n",
      "[I 2025-02-24 20:29:46,245] Trial 1 finished with value: 0.00780140538796136 and parameters: {'lr': 2.778289524401774e-05, 'dropout': 0.13492617249421085, 'window_size': 7, 'batch_size': 64}. Best is trial 0 with value: 0.005669643458289405.\n",
      "[I 2025-02-24 20:29:48,662] Trial 2 finished with value: 0.00836347543802905 and parameters: {'lr': 0.0005122233594322091, 'dropout': 0.40756158552773847, 'window_size': 28, 'batch_size': 64}. Best is trial 0 with value: 0.005669643458289405.\n",
      "[I 2025-02-24 20:29:51,275] Trial 3 finished with value: 0.009892180706671578 and parameters: {'lr': 3.37219406154199e-05, 'dropout': 0.13708450971552466, 'window_size': 28, 'batch_size': 128}. Best is trial 0 with value: 0.005669643458289405.\n",
      "[I 2025-02-24 20:29:53,192] Trial 4 finished with value: 0.010092538660238227 and parameters: {'lr': 1.2004558141884246e-05, 'dropout': 0.3946307829303941, 'window_size': 7, 'batch_size': 128}. Best is trial 0 with value: 0.005669643458289405.\n",
      "[I 2025-02-24 20:29:56,299] Trial 5 finished with value: 0.00706488044141108 and parameters: {'lr': 0.000614234721447584, 'dropout': 0.09215073816439817, 'window_size': 28, 'batch_size': 16}. Best is trial 0 with value: 0.005669643458289405.\n",
      "[I 2025-02-24 20:29:58,759] Trial 6 finished with value: 0.006672035767003259 and parameters: {'lr': 0.000907080271934447, 'dropout': 0.373906990161282, 'window_size': 28, 'batch_size': 128}. Best is trial 0 with value: 0.005669643458289405.\n",
      "[I 2025-02-24 20:30:01,498] Trial 7 finished with value: 0.006279545008656294 and parameters: {'lr': 6.248917584566965e-05, 'dropout': 0.010915568226185723, 'window_size': 21, 'batch_size': 16}. Best is trial 0 with value: 0.005669643458289405.\n",
      "[I 2025-02-24 20:30:04,064] Trial 8 finished with value: 0.007105934423814972 and parameters: {'lr': 3.138788071455325e-05, 'dropout': 0.024666516644234082, 'window_size': 21, 'batch_size': 16}. Best is trial 0 with value: 0.005669643458289405.\n",
      "[I 2025-02-24 20:30:06,783] Trial 9 finished with value: 0.00485755358971259 and parameters: {'lr': 0.000625293741484037, 'dropout': 0.2438291003948228, 'window_size': 28, 'batch_size': 16}. Best is trial 9 with value: 0.00485755358971259.\n",
      "[I 2025-02-24 20:30:08,944] Trial 10 finished with value: 0.00562732105803055 and parameters: {'lr': 0.0001580543270039314, 'dropout': 0.29932032796833347, 'window_size': 14, 'batch_size': 32}. Best is trial 9 with value: 0.00485755358971259.\n",
      "[I 2025-02-24 20:30:11,125] Trial 11 finished with value: 0.005588557384908199 and parameters: {'lr': 0.0002260259765168358, 'dropout': 0.2933268568449872, 'window_size': 14, 'batch_size': 32}. Best is trial 9 with value: 0.00485755358971259.\n",
      "[I 2025-02-24 20:30:13,285] Trial 12 finished with value: 0.0061761397800485915 and parameters: {'lr': 0.00025456416033959846, 'dropout': 0.2679001511311748, 'window_size': 14, 'batch_size': 32}. Best is trial 9 with value: 0.00485755358971259.\n",
      "[I 2025-02-24 20:30:15,740] Trial 13 finished with value: 0.005609426367131479 and parameters: {'lr': 0.0002950293075545059, 'dropout': 0.29456748505416275, 'window_size': 21, 'batch_size': 32}. Best is trial 9 with value: 0.00485755358971259.\n",
      "[I 2025-02-24 20:30:17,919] Trial 14 finished with value: 0.006900053652740705 and parameters: {'lr': 0.0001196788670984289, 'dropout': 0.1991467997883538, 'window_size': 14, 'batch_size': 32}. Best is trial 9 with value: 0.00485755358971259.\n",
      "[I 2025-02-24 20:30:20,485] Trial 15 finished with value: 0.005363254898455179 and parameters: {'lr': 0.00035627682831563965, 'dropout': 0.4969465803353999, 'window_size': 21, 'batch_size': 16}. Best is trial 9 with value: 0.00485755358971259.\n",
      "[I 2025-02-24 20:30:23,113] Trial 16 finished with value: 0.0066609193319722496 and parameters: {'lr': 0.0004165210261853085, 'dropout': 0.4395522330081909, 'window_size': 21, 'batch_size': 16}. Best is trial 9 with value: 0.00485755358971259.\n",
      "[I 2025-02-24 20:30:25,869] Trial 17 finished with value: 0.0069243488065462485 and parameters: {'lr': 0.00036651275743560614, 'dropout': 0.4767174160958307, 'window_size': 28, 'batch_size': 16}. Best is trial 9 with value: 0.00485755358971259.\n",
      "[I 2025-02-24 20:30:28,450] Trial 18 finished with value: 0.006830766514193695 and parameters: {'lr': 6.530966285713955e-05, 'dropout': 0.3303185422521497, 'window_size': 21, 'batch_size': 16}. Best is trial 9 with value: 0.00485755358971259.\n",
      "[I 2025-02-24 20:30:31,194] Trial 19 finished with value: 0.006781387468676103 and parameters: {'lr': 0.00018671442432529413, 'dropout': 0.23050376673958106, 'window_size': 28, 'batch_size': 16}. Best is trial 9 with value: 0.00485755358971259.\n",
      "[I 2025-02-24 20:30:33,756] Trial 20 finished with value: 0.004906065855862942 and parameters: {'lr': 0.0009871259419573877, 'dropout': 0.48055872773167924, 'window_size': 21, 'batch_size': 16}. Best is trial 9 with value: 0.00485755358971259.\n",
      "[I 2025-02-24 20:30:36,312] Trial 21 finished with value: 0.005368722890539808 and parameters: {'lr': 0.000995529415503148, 'dropout': 0.4737340235632238, 'window_size': 21, 'batch_size': 16}. Best is trial 9 with value: 0.00485755358971259.\n",
      "[I 2025-02-24 20:30:38,957] Trial 22 finished with value: 0.005981163894178008 and parameters: {'lr': 0.0005838733471601912, 'dropout': 0.44760611447282483, 'window_size': 21, 'batch_size': 16}. Best is trial 9 with value: 0.00485755358971259.\n",
      "[I 2025-02-24 20:30:41,529] Trial 23 finished with value: 0.006413844910232676 and parameters: {'lr': 0.0006381437418645832, 'dropout': 0.4934003978375458, 'window_size': 21, 'batch_size': 16}. Best is trial 9 with value: 0.00485755358971259.\n",
      "[I 2025-02-24 20:30:43,942] Trial 24 finished with value: 0.008590591516583524 and parameters: {'lr': 0.0003727521651050981, 'dropout': 0.35873137884504164, 'window_size': 28, 'batch_size': 64}. Best is trial 9 with value: 0.00485755358971259.\n",
      "[I 2025-02-24 20:30:46,534] Trial 25 finished with value: 0.004693966024635824 and parameters: {'lr': 0.0007098897814110608, 'dropout': 0.429780604845592, 'window_size': 21, 'batch_size': 16}. Best is trial 25 with value: 0.004693966024635824.\n",
      "[I 2025-02-24 20:30:49,278] Trial 26 finished with value: 0.005159318376396922 and parameters: {'lr': 0.000735529494491797, 'dropout': 0.4224872623313556, 'window_size': 28, 'batch_size': 16}. Best is trial 25 with value: 0.004693966024635824.\n",
      "[I 2025-02-24 20:30:51,914] Trial 27 finished with value: 0.0062989264543419745 and parameters: {'lr': 0.0004996947830352495, 'dropout': 0.3438120024072045, 'window_size': 21, 'batch_size': 16}. Best is trial 25 with value: 0.004693966024635824.\n",
      "[I 2025-02-24 20:30:54,342] Trial 28 finished with value: 0.00578079009137582 and parameters: {'lr': 0.0008736827593029572, 'dropout': 0.16901781017375808, 'window_size': 14, 'batch_size': 16}. Best is trial 25 with value: 0.004693966024635824.\n",
      "[I 2025-02-24 20:30:56,212] Trial 29 finished with value: 0.005553412880394454 and parameters: {'lr': 0.0007474608005679055, 'dropout': 0.24285655920420804, 'window_size': 7, 'batch_size': 64}. Best is trial 25 with value: 0.004693966024635824.\n",
      "[I 2025-02-24 20:30:56,242] A new study created in memory with name: no-name-5ca65987-cd92-4e63-ad67-5b99eee928a6\n",
      "/var/folders/33/sqxmhw8j72g_q70vx5jqs_jr0000gn/T/ipykernel_11010/3444972092.py:54: FutureWarning: You are using `torch.load` with `weights_only=False` (the current default value), which uses the default pickle module implicitly. It is possible to construct malicious pickle data which will execute arbitrary code during unpickling (See https://github.com/pytorch/pytorch/blob/main/SECURITY.md#untrusted-models for more details). In a future release, the default value for `weights_only` will be flipped to `True`. This limits the functions that could be executed during unpickling. Arbitrary objects will no longer be allowed to be loaded via this mode unless they are explicitly allowlisted by the user via `torch.serialization.add_safe_globals`. We recommend you start setting `weights_only=True` for any use case where you don't have full control of the loaded file. Please open an issue on GitHub for any issues related to this experimental feature.\n",
      "  checkpoint = torch.load(\"pretrained_tcn.pt\")\n"
     ]
    },
    {
     "name": "stdout",
     "output_type": "stream",
     "text": [
      "Best hyperparams: {'lr': 0.0007098897814110608, 'dropout': 0.429780604845592, 'window_size': 21, 'batch_size': 16}, best MSE: 0.004694\n",
      "\n",
      "=== Optuna Tuning for Top Black Solid ===\n"
     ]
    },
    {
     "name": "stderr",
     "output_type": "stream",
     "text": [
      "[I 2025-02-24 20:30:58,483] Trial 0 finished with value: 0.008616757834270756 and parameters: {'lr': 0.0006406662346622481, 'dropout': 0.32806840421377664, 'window_size': 28, 'batch_size': 128}. Best is trial 0 with value: 0.008616757834270756.\n",
      "[I 2025-02-24 20:31:00,666] Trial 1 finished with value: 0.00952799155881318 and parameters: {'lr': 0.0003659455132229825, 'dropout': 0.2028305012904602, 'window_size': 14, 'batch_size': 32}. Best is trial 0 with value: 0.008616757834270756.\n",
      "[I 2025-02-24 20:31:02,520] Trial 2 finished with value: 0.00962120733533655 and parameters: {'lr': 2.4749688988743343e-05, 'dropout': 0.22650759579064467, 'window_size': 7, 'batch_size': 64}. Best is trial 0 with value: 0.008616757834270756.\n",
      "[I 2025-02-24 20:31:04,643] Trial 3 finished with value: 0.009951880317621467 and parameters: {'lr': 0.00030930711176302216, 'dropout': 0.33585447321491513, 'window_size': 21, 'batch_size': 128}. Best is trial 0 with value: 0.008616757834270756.\n",
      "[I 2025-02-24 20:31:06,915] Trial 4 finished with value: 0.009896540928353017 and parameters: {'lr': 0.0004827221565197662, 'dropout': 0.4565281740319369, 'window_size': 21, 'batch_size': 64}. Best is trial 0 with value: 0.008616757834270756.\n",
      "[I 2025-02-24 20:31:09,001] Trial 5 finished with value: 0.010010438327056666 and parameters: {'lr': 5.007039037806718e-05, 'dropout': 0.00416534228172416, 'window_size': 14, 'batch_size': 64}. Best is trial 0 with value: 0.008616757834270756.\n",
      "[I 2025-02-24 20:31:11,727] Trial 6 finished with value: 0.011310185905189273 and parameters: {'lr': 4.4178392418905066e-05, 'dropout': 0.4547438039466905, 'window_size': 28, 'batch_size': 16}. Best is trial 0 with value: 0.008616757834270756.\n",
      "[I 2025-02-24 20:31:14,139] Trial 7 finished with value: 0.011486468531013011 and parameters: {'lr': 1.893962846938165e-05, 'dropout': 0.43974718331440366, 'window_size': 28, 'batch_size': 64}. Best is trial 0 with value: 0.008616757834270756.\n",
      "[I 2025-02-24 20:31:16,318] Trial 8 finished with value: 0.010327541286824272 and parameters: {'lr': 9.198681121813775e-05, 'dropout': 0.40708005887018384, 'window_size': 14, 'batch_size': 32}. Best is trial 0 with value: 0.008616757834270756.\n",
      "[I 2025-02-24 20:31:18,654] Trial 9 finished with value: 0.008850831361875559 and parameters: {'lr': 4.0423927311542064e-05, 'dropout': 0.2016419258747339, 'window_size': 14, 'batch_size': 16}. Best is trial 0 with value: 0.008616757834270756.\n",
      "[I 2025-02-24 20:31:20,961] Trial 10 finished with value: 0.008476611475480046 and parameters: {'lr': 0.0009930681761807245, 'dropout': 0.0949938994933418, 'window_size': 28, 'batch_size': 128}. Best is trial 10 with value: 0.008476611475480046.\n",
      "[I 2025-02-24 20:31:23,223] Trial 11 finished with value: 0.008654382780313174 and parameters: {'lr': 0.000966872642189038, 'dropout': 0.08772535947013688, 'window_size': 28, 'batch_size': 128}. Best is trial 10 with value: 0.008476611475480046.\n",
      "[I 2025-02-24 20:31:25,491] Trial 12 finished with value: 0.010379378832480374 and parameters: {'lr': 0.0008950707218047363, 'dropout': 0.3222917330925343, 'window_size': 28, 'batch_size': 128}. Best is trial 10 with value: 0.008476611475480046.\n",
      "[I 2025-02-24 20:31:27,605] Trial 13 finished with value: 0.009555130580023623 and parameters: {'lr': 0.00019534987843885528, 'dropout': 0.10159874477423586, 'window_size': 21, 'batch_size': 128}. Best is trial 10 with value: 0.008476611475480046.\n",
      "[I 2025-02-24 20:31:29,848] Trial 14 finished with value: 0.010083602107268698 and parameters: {'lr': 0.00015990077953177137, 'dropout': 0.3115099966611723, 'window_size': 28, 'batch_size': 128}. Best is trial 10 with value: 0.008476611475480046.\n",
      "[I 2025-02-24 20:31:31,944] Trial 15 finished with value: 0.01274381613138796 and parameters: {'lr': 0.0005727933540104476, 'dropout': 0.09710202812222599, 'window_size': 21, 'batch_size': 128}. Best is trial 10 with value: 0.008476611475480046.\n",
      "[I 2025-02-24 20:31:33,716] Trial 16 finished with value: 0.0178428915106068 and parameters: {'lr': 1.1197342008332628e-05, 'dropout': 0.1499503957455407, 'window_size': 7, 'batch_size': 128}. Best is trial 10 with value: 0.008476611475480046.\n",
      "[I 2025-02-24 20:31:35,941] Trial 17 finished with value: 0.008743186520927763 and parameters: {'lr': 0.0006587314566777631, 'dropout': 0.007219606589537408, 'window_size': 28, 'batch_size': 128}. Best is trial 10 with value: 0.008476611475480046.\n",
      "[I 2025-02-24 20:31:38,590] Trial 18 finished with value: 0.009409122562963312 and parameters: {'lr': 0.00023084590102090787, 'dropout': 0.2837587185916487, 'window_size': 21, 'batch_size': 16}. Best is trial 10 with value: 0.008476611475480046.\n",
      "[I 2025-02-24 20:31:41,609] Trial 19 finished with value: 0.010496794702386129 and parameters: {'lr': 0.0001131812725434606, 'dropout': 0.36974797493547984, 'window_size': 28, 'batch_size': 32}. Best is trial 10 with value: 0.008476611475480046.\n",
      "[I 2025-02-24 20:31:43,702] Trial 20 finished with value: 0.009755779709077523 and parameters: {'lr': 0.00037605474283835605, 'dropout': 0.15264669194257913, 'window_size': 21, 'batch_size': 128}. Best is trial 10 with value: 0.008476611475480046.\n",
      "[I 2025-02-24 20:31:46,017] Trial 21 finished with value: 0.008158887688447029 and parameters: {'lr': 0.000940092957705617, 'dropout': 0.07002036528687894, 'window_size': 28, 'batch_size': 128}. Best is trial 21 with value: 0.008158887688447029.\n",
      "[I 2025-02-24 20:31:48,287] Trial 22 finished with value: 0.007659264790647207 and parameters: {'lr': 0.0007055982084027992, 'dropout': 0.04092254581620982, 'window_size': 28, 'batch_size': 128}. Best is trial 22 with value: 0.007659264790647207.\n",
      "[I 2025-02-24 20:31:50,537] Trial 23 finished with value: 0.008604581923560893 and parameters: {'lr': 0.0008151454413800367, 'dropout': 0.050676955406914595, 'window_size': 28, 'batch_size': 128}. Best is trial 22 with value: 0.007659264790647207.\n",
      "[I 2025-02-24 20:31:52,773] Trial 24 finished with value: 0.0097975701400812 and parameters: {'lr': 0.00047555295877196017, 'dropout': 0.052760865251618334, 'window_size': 28, 'batch_size': 128}. Best is trial 22 with value: 0.007659264790647207.\n",
      "[I 2025-02-24 20:31:54,871] Trial 25 finished with value: 0.009614015127756174 and parameters: {'lr': 0.000988678182715809, 'dropout': 0.13976703439951552, 'window_size': 21, 'batch_size': 128}. Best is trial 22 with value: 0.007659264790647207.\n",
      "[I 2025-02-24 20:31:57,134] Trial 26 finished with value: 0.009380258563311494 and parameters: {'lr': 0.00029289348542220007, 'dropout': 0.047072968408284864, 'window_size': 28, 'batch_size': 128}. Best is trial 22 with value: 0.007659264790647207.\n",
      "[I 2025-02-24 20:31:59,731] Trial 27 finished with value: 0.00995362369809791 and parameters: {'lr': 0.000682813772471095, 'dropout': 0.12513785228026475, 'window_size': 21, 'batch_size': 16}. Best is trial 22 with value: 0.007659264790647207.\n",
      "[I 2025-02-24 20:32:02,872] Trial 28 finished with value: 0.008717018486114536 and parameters: {'lr': 0.0004566283826997689, 'dropout': 0.0339034798637823, 'window_size': 28, 'batch_size': 32}. Best is trial 22 with value: 0.007659264790647207.\n",
      "[I 2025-02-24 20:32:05,764] Trial 29 finished with value: 0.010275508065093704 and parameters: {'lr': 0.0006350250795975397, 'dropout': 0.17229876606133013, 'window_size': 28, 'batch_size': 128}. Best is trial 22 with value: 0.007659264790647207.\n",
      "[I 2025-02-24 20:32:05,794] A new study created in memory with name: no-name-066220fd-ff83-45b2-99a2-49605536974d\n",
      "/var/folders/33/sqxmhw8j72g_q70vx5jqs_jr0000gn/T/ipykernel_11010/3444972092.py:54: FutureWarning: You are using `torch.load` with `weights_only=False` (the current default value), which uses the default pickle module implicitly. It is possible to construct malicious pickle data which will execute arbitrary code during unpickling (See https://github.com/pytorch/pytorch/blob/main/SECURITY.md#untrusted-models for more details). In a future release, the default value for `weights_only` will be flipped to `True`. This limits the functions that could be executed during unpickling. Arbitrary objects will no longer be allowed to be loaded via this mode unless they are explicitly allowlisted by the user via `torch.serialization.add_safe_globals`. We recommend you start setting `weights_only=True` for any use case where you don't have full control of the loaded file. Please open an issue on GitHub for any issues related to this experimental feature.\n",
      "  checkpoint = torch.load(\"pretrained_tcn.pt\")\n"
     ]
    },
    {
     "name": "stdout",
     "output_type": "stream",
     "text": [
      "Best hyperparams: {'lr': 0.0007055982084027992, 'dropout': 0.04092254581620982, 'window_size': 28, 'batch_size': 128}, best MSE: 0.007659\n",
      "\n",
      "=== Optuna Tuning for Trousers Black Solid ===\n"
     ]
    },
    {
     "name": "stderr",
     "output_type": "stream",
     "text": [
      "[I 2025-02-24 20:32:09,204] Trial 0 finished with value: 0.02556948468554765 and parameters: {'lr': 0.0003503647129668841, 'dropout': 0.33873812328166114, 'window_size': 14, 'batch_size': 16}. Best is trial 0 with value: 0.02556948468554765.\n",
      "[I 2025-02-24 20:32:11,849] Trial 1 finished with value: 0.03868127354314622 and parameters: {'lr': 1.4405612635790598e-05, 'dropout': 0.014983105737904456, 'window_size': 21, 'batch_size': 32}. Best is trial 0 with value: 0.02556948468554765.\n",
      "[I 2025-02-24 20:32:13,773] Trial 2 finished with value: 0.02760298737932828 and parameters: {'lr': 0.00016653278697573246, 'dropout': 0.2527218703227521, 'window_size': 7, 'batch_size': 128}. Best is trial 0 with value: 0.02556948468554765.\n",
      "[I 2025-02-24 20:32:16,201] Trial 3 finished with value: 0.026069507972637483 and parameters: {'lr': 0.0006404846229572635, 'dropout': 0.022223583990841067, 'window_size': 7, 'batch_size': 128}. Best is trial 0 with value: 0.02556948468554765.\n",
      "[I 2025-02-24 20:32:18,619] Trial 4 finished with value: 0.02705753456920068 and parameters: {'lr': 0.0008512661402822936, 'dropout': 0.22286362433643053, 'window_size': 28, 'batch_size': 64}. Best is trial 0 with value: 0.02556948468554765.\n",
      "[I 2025-02-24 20:32:21,165] Trial 5 finished with value: 0.02446603513212741 and parameters: {'lr': 0.000631287751047286, 'dropout': 0.2170569725456924, 'window_size': 21, 'batch_size': 16}. Best is trial 5 with value: 0.02446603513212741.\n",
      "[I 2025-02-24 20:32:23,684] Trial 6 finished with value: 0.027810290917549833 and parameters: {'lr': 3.9614027473634604e-05, 'dropout': 0.3868051052195467, 'window_size': 21, 'batch_size': 32}. Best is trial 5 with value: 0.02446603513212741.\n",
      "[I 2025-02-24 20:32:26,091] Trial 7 finished with value: 0.02590870252763263 and parameters: {'lr': 0.000742131543746345, 'dropout': 0.00898555683925345, 'window_size': 21, 'batch_size': 128}. Best is trial 5 with value: 0.02446603513212741.\n",
      "[I 2025-02-24 20:32:28,770] Trial 8 finished with value: 0.049386471979475266 and parameters: {'lr': 1.3302795207228422e-05, 'dropout': 0.4209255195834174, 'window_size': 14, 'batch_size': 16}. Best is trial 5 with value: 0.02446603513212741.\n",
      "[I 2025-02-24 20:32:31,033] Trial 9 finished with value: 0.030256806581746787 and parameters: {'lr': 4.6764092255912275e-05, 'dropout': 0.08291407160346631, 'window_size': 14, 'batch_size': 16}. Best is trial 5 with value: 0.02446603513212741.\n",
      "[I 2025-02-24 20:32:33,631] Trial 10 finished with value: 0.025930050899215202 and parameters: {'lr': 0.00022773424148888786, 'dropout': 0.18139557851661178, 'window_size': 28, 'batch_size': 64}. Best is trial 5 with value: 0.02446603513212741.\n",
      "[I 2025-02-24 20:32:36,128] Trial 11 finished with value: 0.02538375220804786 and parameters: {'lr': 0.0003159139886735109, 'dropout': 0.3149424533964271, 'window_size': 14, 'batch_size': 16}. Best is trial 5 with value: 0.02446603513212741.\n",
      "[I 2025-02-24 20:32:39,122] Trial 12 finished with value: 0.0254229095568959 and parameters: {'lr': 0.0003955368214972372, 'dropout': 0.3047656700607016, 'window_size': 21, 'batch_size': 16}. Best is trial 5 with value: 0.02446603513212741.\n",
      "[I 2025-02-24 20:32:42,383] Trial 13 finished with value: 0.025439800011614958 and parameters: {'lr': 0.00011160359014430672, 'dropout': 0.49419928142375136, 'window_size': 14, 'batch_size': 16}. Best is trial 5 with value: 0.02446603513212741.\n",
      "[I 2025-02-24 20:32:45,327] Trial 14 finished with value: 0.023970341576409548 and parameters: {'lr': 0.0003584259578955313, 'dropout': 0.12746344422135858, 'window_size': 7, 'batch_size': 16}. Best is trial 14 with value: 0.023970341576409548.\n",
      "[I 2025-02-24 20:32:47,579] Trial 15 finished with value: 0.02391464817568598 and parameters: {'lr': 0.00047300166045162505, 'dropout': 0.1387305087410705, 'window_size': 7, 'batch_size': 16}. Best is trial 15 with value: 0.02391464817568598.\n",
      "[I 2025-02-24 20:32:49,635] Trial 16 finished with value: 0.026649014904581814 and parameters: {'lr': 6.212147832004717e-05, 'dropout': 0.12619151348187188, 'window_size': 7, 'batch_size': 16}. Best is trial 15 with value: 0.02391464817568598.\n",
      "[I 2025-02-24 20:32:51,462] Trial 17 finished with value: 0.026557647442245043 and parameters: {'lr': 0.00014751149908322165, 'dropout': 0.12975409324283443, 'window_size': 7, 'batch_size': 64}. Best is trial 15 with value: 0.02391464817568598.\n",
      "[I 2025-02-24 20:32:53,790] Trial 18 finished with value: 0.02552101979645985 and parameters: {'lr': 0.00044970359025406045, 'dropout': 0.09557735500338864, 'window_size': 7, 'batch_size': 32}. Best is trial 15 with value: 0.02391464817568598.\n",
      "[I 2025-02-24 20:32:56,044] Trial 19 finished with value: 0.025138969821778455 and parameters: {'lr': 0.0002058050950410419, 'dropout': 0.1668177434874758, 'window_size': 7, 'batch_size': 16}. Best is trial 15 with value: 0.02391464817568598.\n",
      "[I 2025-02-24 20:32:58,501] Trial 20 finished with value: 0.024858773714133482 and parameters: {'lr': 8.63012900113719e-05, 'dropout': 0.08701623221186969, 'window_size': 7, 'batch_size': 16}. Best is trial 15 with value: 0.02391464817568598.\n",
      "[I 2025-02-24 20:33:01,576] Trial 21 finished with value: 0.024769640285918056 and parameters: {'lr': 0.0005277073980243336, 'dropout': 0.2305147675473589, 'window_size': 28, 'batch_size': 16}. Best is trial 15 with value: 0.02391464817568598.\n",
      "[I 2025-02-24 20:33:04,425] Trial 22 finished with value: 0.02674613003068867 and parameters: {'lr': 0.0009646690261011417, 'dropout': 0.16749255018892129, 'window_size': 21, 'batch_size': 16}. Best is trial 15 with value: 0.02391464817568598.\n",
      "[I 2025-02-24 20:33:06,774] Trial 23 finished with value: 0.024823692138306798 and parameters: {'lr': 0.000253615040000531, 'dropout': 0.20319869647641065, 'window_size': 14, 'batch_size': 16}. Best is trial 15 with value: 0.02391464817568598.\n",
      "[I 2025-02-24 20:33:09,075] Trial 24 finished with value: 0.025754019928475223 and parameters: {'lr': 0.0005583662539227336, 'dropout': 0.27206776325476884, 'window_size': 14, 'batch_size': 16}. Best is trial 15 with value: 0.02391464817568598.\n",
      "[I 2025-02-24 20:33:11,830] Trial 25 finished with value: 0.024566444924950033 and parameters: {'lr': 0.00036227383432255525, 'dropout': 0.1425794798076899, 'window_size': 21, 'batch_size': 16}. Best is trial 15 with value: 0.02391464817568598.\n",
      "[I 2025-02-24 20:33:14,239] Trial 26 finished with value: 0.025526422243334415 and parameters: {'lr': 0.0006116018011550589, 'dropout': 0.061130233908680706, 'window_size': 7, 'batch_size': 128}. Best is trial 15 with value: 0.02391464817568598.\n",
      "[I 2025-02-24 20:33:17,541] Trial 27 finished with value: 0.025794684786864735 and parameters: {'lr': 0.0009867591382070454, 'dropout': 0.059312518847624396, 'window_size': 28, 'batch_size': 64}. Best is trial 15 with value: 0.02391464817568598.\n",
      "[I 2025-02-24 20:33:19,815] Trial 28 finished with value: 0.024566483730450273 and parameters: {'lr': 0.0002761650999034255, 'dropout': 0.1240539148101551, 'window_size': 14, 'batch_size': 32}. Best is trial 15 with value: 0.02391464817568598.\n",
      "[I 2025-02-24 20:33:22,561] Trial 29 finished with value: 0.029018258392110405 and parameters: {'lr': 2.5435191410491162e-05, 'dropout': 0.2786782900163937, 'window_size': 7, 'batch_size': 16}. Best is trial 15 with value: 0.02391464817568598.\n",
      "[I 2025-02-24 20:33:22,592] A new study created in memory with name: no-name-7bdd73f7-24bb-4959-b47f-49fb29561259\n",
      "/var/folders/33/sqxmhw8j72g_q70vx5jqs_jr0000gn/T/ipykernel_11010/3444972092.py:54: FutureWarning: You are using `torch.load` with `weights_only=False` (the current default value), which uses the default pickle module implicitly. It is possible to construct malicious pickle data which will execute arbitrary code during unpickling (See https://github.com/pytorch/pytorch/blob/main/SECURITY.md#untrusted-models for more details). In a future release, the default value for `weights_only` will be flipped to `True`. This limits the functions that could be executed during unpickling. Arbitrary objects will no longer be allowed to be loaded via this mode unless they are explicitly allowlisted by the user via `torch.serialization.add_safe_globals`. We recommend you start setting `weights_only=True` for any use case where you don't have full control of the loaded file. Please open an issue on GitHub for any issues related to this experimental feature.\n",
      "  checkpoint = torch.load(\"pretrained_tcn.pt\")\n"
     ]
    },
    {
     "name": "stdout",
     "output_type": "stream",
     "text": [
      "Best hyperparams: {'lr': 0.00047300166045162505, 'dropout': 0.1387305087410705, 'window_size': 7, 'batch_size': 16}, best MSE: 0.023915\n",
      "\n",
      "=== Optuna Tuning for Trousers Blue Denim ===\n"
     ]
    },
    {
     "name": "stderr",
     "output_type": "stream",
     "text": [
      "[I 2025-02-24 20:33:25,312] Trial 0 finished with value: 0.0073446543576816715 and parameters: {'lr': 2.4066079328717402e-05, 'dropout': 0.3647300428737959, 'window_size': 14, 'batch_size': 128}. Best is trial 0 with value: 0.0073446543576816715.\n",
      "[I 2025-02-24 20:33:27,688] Trial 1 finished with value: 0.008843613977059106 and parameters: {'lr': 4.707107202070264e-05, 'dropout': 0.42472317377228214, 'window_size': 7, 'batch_size': 128}. Best is trial 0 with value: 0.0073446543576816715.\n",
      "[I 2025-02-24 20:33:29,931] Trial 2 finished with value: 0.008941447897718002 and parameters: {'lr': 1.669894580720389e-05, 'dropout': 0.342458599097443, 'window_size': 7, 'batch_size': 32}. Best is trial 0 with value: 0.0073446543576816715.\n",
      "[I 2025-02-24 20:33:32,619] Trial 3 finished with value: 0.007903034050275195 and parameters: {'lr': 5.787944993719062e-05, 'dropout': 0.3956852306873988, 'window_size': 28, 'batch_size': 64}. Best is trial 0 with value: 0.0073446543576816715.\n",
      "[I 2025-02-24 20:33:35,005] Trial 4 finished with value: 0.007032990897710941 and parameters: {'lr': 0.00010722302865139414, 'dropout': 0.22043750839460574, 'window_size': 21, 'batch_size': 128}. Best is trial 4 with value: 0.007032990897710941.\n",
      "[I 2025-02-24 20:33:37,442] Trial 5 finished with value: 0.008186417414496343 and parameters: {'lr': 0.00011932628267316638, 'dropout': 0.440124594854223, 'window_size': 14, 'batch_size': 64}. Best is trial 4 with value: 0.007032990897710941.\n",
      "[I 2025-02-24 20:33:39,808] Trial 6 finished with value: 0.007329138788642197 and parameters: {'lr': 0.0002720344393241377, 'dropout': 0.4318292056960843, 'window_size': 21, 'batch_size': 128}. Best is trial 4 with value: 0.007032990897710941.\n",
      "[I 2025-02-24 20:33:42,127] Trial 7 finished with value: 0.007484619745410948 and parameters: {'lr': 8.101935244785832e-05, 'dropout': 0.472586372018011, 'window_size': 21, 'batch_size': 128}. Best is trial 4 with value: 0.007032990897710941.\n",
      "[I 2025-02-24 20:33:44,882] Trial 8 finished with value: 0.008252888498827816 and parameters: {'lr': 1.8150131084906656e-05, 'dropout': 0.46174633591149417, 'window_size': 14, 'batch_size': 16}. Best is trial 4 with value: 0.007032990897710941.\n",
      "[I 2025-02-24 20:33:47,366] Trial 9 finished with value: 0.007894807151380055 and parameters: {'lr': 1.6517368100053708e-05, 'dropout': 0.481328508708348, 'window_size': 28, 'batch_size': 128}. Best is trial 4 with value: 0.007032990897710941.\n",
      "[I 2025-02-24 20:33:50,371] Trial 10 finished with value: 0.006138563571686421 and parameters: {'lr': 0.0007998661244161619, 'dropout': 0.09743217742101012, 'window_size': 21, 'batch_size': 32}. Best is trial 10 with value: 0.006138563571686421.\n",
      "[I 2025-02-24 20:33:53,007] Trial 11 finished with value: 0.008397946901961313 and parameters: {'lr': 0.0009761247580601822, 'dropout': 0.10090494822112533, 'window_size': 21, 'batch_size': 32}. Best is trial 10 with value: 0.006138563571686421.\n",
      "[I 2025-02-24 20:33:55,898] Trial 12 finished with value: 0.0071147355481388855 and parameters: {'lr': 0.0008330397682479168, 'dropout': 0.14275936399982436, 'window_size': 21, 'batch_size': 32}. Best is trial 10 with value: 0.006138563571686421.\n",
      "[I 2025-02-24 20:33:59,691] Trial 13 finished with value: 0.0075413790306056595 and parameters: {'lr': 0.00030658788142718974, 'dropout': 0.02153162333452585, 'window_size': 28, 'batch_size': 16}. Best is trial 10 with value: 0.006138563571686421.\n",
      "[I 2025-02-24 20:34:03,030] Trial 14 finished with value: 0.0075763172908678246 and parameters: {'lr': 0.0003160516253838304, 'dropout': 0.23903946749304392, 'window_size': 21, 'batch_size': 32}. Best is trial 10 with value: 0.006138563571686421.\n",
      "[I 2025-02-24 20:34:05,429] Trial 15 finished with value: 0.007163469827113052 and parameters: {'lr': 0.00014895683672705822, 'dropout': 0.2166545845440266, 'window_size': 14, 'batch_size': 32}. Best is trial 10 with value: 0.006138563571686421.\n",
      "[I 2025-02-24 20:34:08,392] Trial 16 finished with value: 0.0070886343726244295 and parameters: {'lr': 0.0005180779560074428, 'dropout': 0.13035116349731962, 'window_size': 28, 'batch_size': 16}. Best is trial 10 with value: 0.006138563571686421.\n",
      "[I 2025-02-24 20:34:11,092] Trial 17 finished with value: 0.007583844133079021 and parameters: {'lr': 3.79953408685785e-05, 'dropout': 0.2888668326425613, 'window_size': 21, 'batch_size': 64}. Best is trial 10 with value: 0.006138563571686421.\n",
      "[I 2025-02-24 20:34:13,519] Trial 18 finished with value: 0.007638202720166494 and parameters: {'lr': 1.0020330934833765e-05, 'dropout': 0.007711046223153634, 'window_size': 14, 'batch_size': 32}. Best is trial 10 with value: 0.006138563571686421.\n",
      "[I 2025-02-24 20:34:15,880] Trial 19 finished with value: 0.007347295583879694 and parameters: {'lr': 0.00017132468191253684, 'dropout': 0.18228721173612758, 'window_size': 28, 'batch_size': 128}. Best is trial 10 with value: 0.006138563571686421.\n",
      "[I 2025-02-24 20:34:17,965] Trial 20 finished with value: 0.00731482857912936 and parameters: {'lr': 0.0005076596107170706, 'dropout': 0.0843496891971794, 'window_size': 21, 'batch_size': 128}. Best is trial 10 with value: 0.006138563571686421.\n",
      "[I 2025-02-24 20:34:20,644] Trial 21 finished with value: 0.008022762242298415 and parameters: {'lr': 0.0006687370606914161, 'dropout': 0.12388120950605555, 'window_size': 28, 'batch_size': 16}. Best is trial 10 with value: 0.006138563571686421.\n",
      "[I 2025-02-24 20:34:23,297] Trial 22 finished with value: 0.006347958392840117 and parameters: {'lr': 0.0005553200755232282, 'dropout': 0.05460255149690017, 'window_size': 28, 'batch_size': 16}. Best is trial 10 with value: 0.006138563571686421.\n",
      "[I 2025-02-24 20:34:26,063] Trial 23 finished with value: 0.006774862868640619 and parameters: {'lr': 0.0004846738067317187, 'dropout': 0.03969855698251225, 'window_size': 21, 'batch_size': 16}. Best is trial 10 with value: 0.006138563571686421.\n",
      "[I 2025-02-24 20:34:29,087] Trial 24 finished with value: 0.0067802496411109425 and parameters: {'lr': 0.0004654933721414939, 'dropout': 0.05369725026929548, 'window_size': 28, 'batch_size': 16}. Best is trial 10 with value: 0.006138563571686421.\n",
      "[I 2025-02-24 20:34:31,712] Trial 25 finished with value: 0.007018558636802849 and parameters: {'lr': 0.00020575477571808495, 'dropout': 0.05411781141883683, 'window_size': 21, 'batch_size': 16}. Best is trial 10 with value: 0.006138563571686421.\n",
      "[I 2025-02-24 20:34:34,985] Trial 26 finished with value: 0.007556095689242865 and parameters: {'lr': 0.0007059989559645518, 'dropout': 0.17423267799479486, 'window_size': 28, 'batch_size': 16}. Best is trial 10 with value: 0.006138563571686421.\n",
      "[I 2025-02-24 20:34:38,426] Trial 27 finished with value: 0.006508549597244003 and parameters: {'lr': 0.00041555505934869427, 'dropout': 0.05568462318282433, 'window_size': 21, 'batch_size': 16}. Best is trial 10 with value: 0.006138563571686421.\n",
      "[I 2025-02-24 20:34:41,573] Trial 28 finished with value: 0.006876127571255589 and parameters: {'lr': 0.0003723606922923688, 'dropout': 0.08253389222143898, 'window_size': 14, 'batch_size': 16}. Best is trial 10 with value: 0.006138563571686421.\n",
      "[I 2025-02-24 20:34:45,548] Trial 29 finished with value: 0.007548390791696951 and parameters: {'lr': 0.0002296496325170007, 'dropout': 0.17665474050682345, 'window_size': 28, 'batch_size': 16}. Best is trial 10 with value: 0.006138563571686421.\n",
      "[I 2025-02-24 20:34:45,580] A new study created in memory with name: no-name-c98d9743-64cc-4cff-ae8f-63a64c69ba70\n",
      "/var/folders/33/sqxmhw8j72g_q70vx5jqs_jr0000gn/T/ipykernel_11010/3444972092.py:54: FutureWarning: You are using `torch.load` with `weights_only=False` (the current default value), which uses the default pickle module implicitly. It is possible to construct malicious pickle data which will execute arbitrary code during unpickling (See https://github.com/pytorch/pytorch/blob/main/SECURITY.md#untrusted-models for more details). In a future release, the default value for `weights_only` will be flipped to `True`. This limits the functions that could be executed during unpickling. Arbitrary objects will no longer be allowed to be loaded via this mode unless they are explicitly allowlisted by the user via `torch.serialization.add_safe_globals`. We recommend you start setting `weights_only=True` for any use case where you don't have full control of the loaded file. Please open an issue on GitHub for any issues related to this experimental feature.\n",
      "  checkpoint = torch.load(\"pretrained_tcn.pt\")\n"
     ]
    },
    {
     "name": "stdout",
     "output_type": "stream",
     "text": [
      "Best hyperparams: {'lr': 0.0007998661244161619, 'dropout': 0.09743217742101012, 'window_size': 21, 'batch_size': 32}, best MSE: 0.006139\n",
      "\n",
      "=== Optuna Tuning for Vest top Black Solid ===\n"
     ]
    },
    {
     "name": "stderr",
     "output_type": "stream",
     "text": [
      "[I 2025-02-24 20:34:48,520] Trial 0 finished with value: 0.016050458080729746 and parameters: {'lr': 4.9233263951613185e-05, 'dropout': 0.003159154958462085, 'window_size': 28, 'batch_size': 64}. Best is trial 0 with value: 0.016050458080729746.\n",
      "[I 2025-02-24 20:34:51,213] Trial 1 finished with value: 0.019932582332209375 and parameters: {'lr': 3.9723743571402556e-05, 'dropout': 0.3173686194177153, 'window_size': 14, 'batch_size': 16}. Best is trial 0 with value: 0.016050458080729746.\n",
      "[I 2025-02-24 20:34:53,526] Trial 2 finished with value: 0.010893019619898848 and parameters: {'lr': 0.0003851344689086527, 'dropout': 0.16743303229031892, 'window_size': 21, 'batch_size': 32}. Best is trial 2 with value: 0.010893019619898848.\n",
      "[I 2025-02-24 20:34:55,751] Trial 3 finished with value: 0.019326305284581388 and parameters: {'lr': 4.513949449958658e-05, 'dropout': 0.2903876406644168, 'window_size': 21, 'batch_size': 64}. Best is trial 2 with value: 0.010893019619898848.\n",
      "[I 2025-02-24 20:34:58,123] Trial 4 finished with value: 0.012898173598417391 and parameters: {'lr': 0.0005367933752669871, 'dropout': 0.29890554963754173, 'window_size': 14, 'batch_size': 64}. Best is trial 2 with value: 0.010893019619898848.\n",
      "[I 2025-02-24 20:35:00,890] Trial 5 finished with value: 0.010332483789116786 and parameters: {'lr': 0.0009838143558699676, 'dropout': 0.19537498227159755, 'window_size': 21, 'batch_size': 32}. Best is trial 5 with value: 0.010332483789116786.\n",
      "[I 2025-02-24 20:35:03,311] Trial 6 finished with value: 0.009546819908968331 and parameters: {'lr': 0.000901497615453619, 'dropout': 0.14618160676065645, 'window_size': 21, 'batch_size': 32}. Best is trial 6 with value: 0.009546819908968331.\n",
      "[I 2025-02-24 20:35:05,557] Trial 7 finished with value: 0.021915591862209864 and parameters: {'lr': 1.197212384384672e-05, 'dropout': 0.3243828600689941, 'window_size': 21, 'batch_size': 64}. Best is trial 6 with value: 0.009546819908968331.\n",
      "[I 2025-02-24 20:35:08,171] Trial 8 finished with value: 0.010393690874403193 and parameters: {'lr': 0.0006405729517803021, 'dropout': 0.48664817486127454, 'window_size': 21, 'batch_size': 16}. Best is trial 6 with value: 0.009546819908968331.\n",
      "[I 2025-02-24 20:35:10,090] Trial 9 finished with value: 0.01979843955487013 and parameters: {'lr': 4.3645376957850405e-05, 'dropout': 0.19408003825897002, 'window_size': 14, 'batch_size': 128}. Best is trial 6 with value: 0.009546819908968331.\n",
      "[I 2025-02-24 20:35:12,036] Trial 10 finished with value: 0.01397522496531452 and parameters: {'lr': 0.00019137452448864868, 'dropout': 0.040087116582656346, 'window_size': 7, 'batch_size': 32}. Best is trial 6 with value: 0.009546819908968331.\n",
      "[I 2025-02-24 20:35:14,848] Trial 11 finished with value: 0.011803564203016342 and parameters: {'lr': 0.0008961390296777761, 'dropout': 0.10915293358062236, 'window_size': 28, 'batch_size': 32}. Best is trial 6 with value: 0.009546819908968331.\n",
      "[I 2025-02-24 20:35:17,714] Trial 12 finished with value: 0.013134012849347548 and parameters: {'lr': 0.00018910159845511202, 'dropout': 0.18671075883816757, 'window_size': 28, 'batch_size': 32}. Best is trial 6 with value: 0.009546819908968331.\n",
      "[I 2025-02-24 20:35:19,839] Trial 13 finished with value: 0.011966313837502105 and parameters: {'lr': 0.0002929581219575505, 'dropout': 0.09338005503693694, 'window_size': 7, 'batch_size': 32}. Best is trial 6 with value: 0.009546819908968331.\n",
      "[I 2025-02-24 20:35:21,915] Trial 14 finished with value: 0.014740358930049692 and parameters: {'lr': 0.000986826198983964, 'dropout': 0.4028116288763699, 'window_size': 21, 'batch_size': 128}. Best is trial 6 with value: 0.009546819908968331.\n",
      "[I 2025-02-24 20:35:24,179] Trial 15 finished with value: 0.013715520891128107 and parameters: {'lr': 0.00010356755268828891, 'dropout': 0.2247249560930621, 'window_size': 14, 'batch_size': 32}. Best is trial 6 with value: 0.009546819908968331.\n",
      "[I 2025-02-24 20:35:27,152] Trial 16 finished with value: 0.011056762135914586 and parameters: {'lr': 0.00033559603995016537, 'dropout': 0.12193966254338318, 'window_size': 28, 'batch_size': 32}. Best is trial 6 with value: 0.009546819908968331.\n",
      "[I 2025-02-24 20:35:29,604] Trial 17 finished with value: 0.010676362742581463 and parameters: {'lr': 0.0005615820610549107, 'dropout': 0.24375526422694843, 'window_size': 21, 'batch_size': 32}. Best is trial 6 with value: 0.009546819908968331.\n",
      "[I 2025-02-24 20:35:31,735] Trial 18 finished with value: 0.01730310544371605 and parameters: {'lr': 1.1529425363602054e-05, 'dropout': 0.13776437289848129, 'window_size': 14, 'batch_size': 128}. Best is trial 6 with value: 0.009546819908968331.\n",
      "[I 2025-02-24 20:35:34,518] Trial 19 finished with value: 0.010904185667985733 and parameters: {'lr': 0.0001640864428999323, 'dropout': 0.05503797676578476, 'window_size': 28, 'batch_size': 16}. Best is trial 6 with value: 0.009546819908968331.\n",
      "[I 2025-02-24 20:35:36,870] Trial 20 finished with value: 0.009307277704315714 and parameters: {'lr': 0.000995567487885737, 'dropout': 0.38171549382793984, 'window_size': 21, 'batch_size': 32}. Best is trial 20 with value: 0.009307277704315714.\n",
      "[I 2025-02-24 20:35:39,604] Trial 21 finished with value: 0.010300668688917844 and parameters: {'lr': 0.0008831017729602392, 'dropout': 0.4216073073667814, 'window_size': 21, 'batch_size': 32}. Best is trial 20 with value: 0.009307277704315714.\n",
      "[I 2025-02-24 20:35:42,415] Trial 22 finished with value: 0.010780019884318003 and parameters: {'lr': 0.000570446440406181, 'dropout': 0.39463717021690853, 'window_size': 21, 'batch_size': 32}. Best is trial 20 with value: 0.009307277704315714.\n",
      "[I 2025-02-24 20:35:45,080] Trial 23 finished with value: 0.013862071040121816 and parameters: {'lr': 0.00040983357755343234, 'dropout': 0.4966489786356479, 'window_size': 21, 'batch_size': 32}. Best is trial 20 with value: 0.009307277704315714.\n",
      "[I 2025-02-24 20:35:47,862] Trial 24 finished with value: 0.010174009694795434 and parameters: {'lr': 0.0006945126034246817, 'dropout': 0.41994088255634965, 'window_size': 14, 'batch_size': 32}. Best is trial 20 with value: 0.009307277704315714.\n",
      "[I 2025-02-24 20:35:49,788] Trial 25 finished with value: 0.014094901845544145 and parameters: {'lr': 0.00025202534129142255, 'dropout': 0.4401330816860964, 'window_size': 7, 'batch_size': 32}. Best is trial 20 with value: 0.009307277704315714.\n",
      "[I 2025-02-24 20:35:51,907] Trial 26 finished with value: 0.01141338413581252 and parameters: {'lr': 0.0007174115729968446, 'dropout': 0.3818687037529277, 'window_size': 14, 'batch_size': 32}. Best is trial 20 with value: 0.009307277704315714.\n",
      "[I 2025-02-24 20:35:53,935] Trial 27 finished with value: 0.015390094152341287 and parameters: {'lr': 0.0004426019125109174, 'dropout': 0.3637705936610948, 'window_size': 14, 'batch_size': 128}. Best is trial 20 with value: 0.009307277704315714.\n",
      "[I 2025-02-24 20:35:56,492] Trial 28 finished with value: 0.016489465400809422 and parameters: {'lr': 8.954833184236137e-05, 'dropout': 0.45418294053384817, 'window_size': 14, 'batch_size': 16}. Best is trial 20 with value: 0.009307277704315714.\n",
      "[I 2025-02-24 20:35:59,057] Trial 29 finished with value: 0.012058201650444893 and parameters: {'lr': 0.0007179861271616243, 'dropout': 0.3571406597916041, 'window_size': 28, 'batch_size': 64}. Best is trial 20 with value: 0.009307277704315714.\n"
     ]
    },
    {
     "name": "stdout",
     "output_type": "stream",
     "text": [
      "Best hyperparams: {'lr': 0.000995567487885737, 'dropout': 0.38171549382793984, 'window_size': 21, 'batch_size': 32}, best MSE: 0.009307\n",
      "\n",
      "=== Summary of best hyperparams for each group ===\n",
      "Bra Black Solid => best_params={'lr': 0.0004628156223066079, 'dropout': 0.24357071149342704, 'window_size': 21, 'batch_size': 16}, best_value=0.006911\n",
      "Dress Black Solid => best_params={'lr': 0.0006968367740300224, 'dropout': 0.15813921996511873, 'window_size': 21, 'batch_size': 16}, best_value=0.016986\n",
      "Leggings/Tights Black Solid => best_params={'lr': 0.0001787312412890344, 'dropout': 0.33512901914617566, 'window_size': 14, 'batch_size': 128}, best_value=0.005631\n",
      "Sweater Black Solid => best_params={'lr': 0.0008443229327456769, 'dropout': 0.30167380578447656, 'window_size': 28, 'batch_size': 64}, best_value=0.013843\n",
      "T-shirt Black Solid => best_params={'lr': 0.000678121999491931, 'dropout': 0.1086927566242403, 'window_size': 21, 'batch_size': 32}, best_value=0.004295\n",
      "T-shirt White Solid => best_params={'lr': 0.0007098897814110608, 'dropout': 0.429780604845592, 'window_size': 21, 'batch_size': 16}, best_value=0.004694\n",
      "Top Black Solid => best_params={'lr': 0.0007055982084027992, 'dropout': 0.04092254581620982, 'window_size': 28, 'batch_size': 128}, best_value=0.007659\n",
      "Trousers Black Solid => best_params={'lr': 0.00047300166045162505, 'dropout': 0.1387305087410705, 'window_size': 7, 'batch_size': 16}, best_value=0.023915\n",
      "Trousers Blue Denim => best_params={'lr': 0.0007998661244161619, 'dropout': 0.09743217742101012, 'window_size': 21, 'batch_size': 32}, best_value=0.006139\n",
      "Vest top Black Solid => best_params={'lr': 0.000995567487885737, 'dropout': 0.38171549382793984, 'window_size': 21, 'batch_size': 32}, best_value=0.009307\n"
     ]
    }
   ],
   "source": [
    "import os\n",
    "import numpy as np\n",
    "import pandas as pd\n",
    "from modules.utils import process_name\n",
    "\n",
    "output_dir = \"output/top_10_product_groups/transfer_finetuned\"\n",
    "os.makedirs(output_dir, exist_ok=True)\n",
    "\n",
    "all_best_results = {}  # to store best hyperparams for each group\n",
    "\n",
    "for product_group in top_10_groups:\n",
    "    print(f\"\\n=== Optuna Tuning for {product_group} ===\")\n",
    "\n",
    "    # 1. Filter data for this product group\n",
    "    group_df = data[data['product_group'] == product_group].copy()\n",
    "    if group_df.empty:\n",
    "        print(f\"No data found for {product_group}, skipping.\")\n",
    "        continue\n",
    "\n",
    "    # 2. Sort if needed, drop non-numeric columns\n",
    "    group_df.sort_values([\"date\", \"product_group\"], inplace=True)\n",
    "    group_df = group_df.drop(columns=['date', 'product_group'], errors='ignore')\n",
    "\n",
    "    # 3. Scale with the same scalers\n",
    "    X_group = group_df.drop(columns=['transaction_count']).values\n",
    "    y_group = group_df['transaction_count'].values.reshape(-1,1)\n",
    "\n",
    "    X_group_scaled = feature_scaler.transform(X_group)\n",
    "    y_group_scaled = target_scaler.transform(y_group)\n",
    "\n",
    "    # Build scaled DataFrame\n",
    "    feature_cols = [col for col in group_df.columns if col != 'transaction_count']\n",
    "    group_df_scaled = pd.DataFrame(X_group_scaled, columns=feature_cols)\n",
    "\n",
    "    group_df_scaled[\"transaction_count\"] = y_group_scaled\n",
    "\n",
    "    pretrain_feature_order = [\n",
    "        'year', 'most_common_age_bin_20-29_0', 'recent_purchase_days_ago', 'unique_articles_sold', 'most_common_age_bin_60+_1', 'most_common_age_bin_20-29_1', 'month', 'most_common_age_bin_30-39_1', 'sales_channel_2_1', 'day_of_year', 'day_of_week', 'median_age', 'most_common_age_bin_60+_0', 'unique_customers', 'fashion_news_subscribers', 'sales_channel_2_0', 'most_common_age_bin_50-59_0', 'day_of_month', 'most_common_age_bin_40-49_0', 'avg_price', 'transaction_count', 'most_common_age_bin_30-39_0', 'most_common_age_bin_50-59_1', 'most_common_age_bin_40-49_1', 'first_purchase_days_ago',\n",
    "    ]\n",
    "    group_df_scaled = group_df_scaled[ pretrain_feature_order ]\n",
    "    group_df_scaled.sort_index(inplace=True)\n",
    "\n",
    "\n",
    "    sanitized_group = process_name(product_group)\n",
    "    group_output_dir = os.path.join(output_dir, sanitized_group)\n",
    "    os.makedirs(group_output_dir, exist_ok=True)\n",
    "\n",
    "    # 5. Run Optuna for this group\n",
    "    best_params, best_value = run_optuna_for_group(\n",
    "        group_df_scaled,\n",
    "        \"pretrained_tcn.pt\",\n",
    "        n_trials=30,        \n",
    "        output_dir=group_output_dir\n",
    "    )\n",
    "\n",
    "    # 6. Store results in a dictionary\n",
    "    all_best_results[product_group] = {\n",
    "        \"best_params\": best_params,\n",
    "        \"best_value\": best_value\n",
    "    }\n",
    "\n",
    "# 7. (Optional) Print summary of best hyperparams for all groups\n",
    "print(\"\\n=== Summary of best hyperparams for each group ===\")\n",
    "for grp, info in all_best_results.items():\n",
    "    print(f\"{grp} => best_params={info['best_params']}, best_value={info['best_value']:.6f}\")\n"
   ]
  },
  {
   "cell_type": "code",
   "execution_count": null,
   "metadata": {},
   "outputs": [],
   "source": [
    "import os\n",
    "import pandas as pd\n",
    "import torch\n",
    "import torch.nn as nn\n",
    "import torch.optim as optim\n",
    "from torch.utils.data import DataLoader, Subset\n",
    "from sklearn.model_selection import TimeSeriesSplit\n",
    "from sklearn.metrics import mean_absolute_error, mean_squared_error, r2_score\n",
    "import matplotlib.pyplot as plt\n",
    "\n",
    "def final_train_with_best_params(\n",
    "    group_df_scaled, \n",
    "    best_params,\n",
    "    pretrained_weights,\n",
    "    output_dir,\n",
    "    final_epochs=50,\n",
    "    n_splits=4\n",
    "):\n",
    "    \"\"\"\n",
    "    Perform final training/cross-validation with the best hyperparams\n",
    "    and save final metrics & model for a single product group.\n",
    "    \"\"\"\n",
    "    # 1. Parse best_params\n",
    "    lr = best_params.get(\"lr\", 1e-4)\n",
    "    dropout = best_params.get(\"dropout\", 0.2)\n",
    "    window_size = int(best_params.get(\"window_size\", 14))\n",
    "    batch_size = int(best_params.get(\"batch_size\", 32))\n",
    "\n",
    "    # 2. Rebuild dataset with the best window size (if tuned)\n",
    "    dataset = TimeSeriesDataset(\n",
    "        group_df_scaled,\n",
    "        input_window=window_size,\n",
    "        output_window=1,\n",
    "        target_col_name='transaction_count'\n",
    "    )\n",
    "\n",
    "    # 3. Cross-validation\n",
    "    tscv = TimeSeriesSplit(n_splits=n_splits)\n",
    "    fold_metrics = []\n",
    "\n",
    "    # Create figure for predictions/residuals\n",
    "    fig, axes = plt.subplots(nrows=n_splits, ncols=2, figsize=(20, 5 * n_splits))\n",
    "    fig.suptitle(\"Final Training with Best Parameters from Optuna\", fontsize=16, y=0.95)\n",
    "\n",
    "    fold = 0\n",
    "    for train_idx, val_idx in tscv.split(range(len(dataset))):\n",
    "        fold += 1\n",
    "        print(f\"=== Final Fold {fold} ===\")\n",
    "\n",
    "        train_subset = Subset(dataset, train_idx)\n",
    "        val_subset = Subset(dataset, val_idx)\n",
    "\n",
    "        train_loader = DataLoader(train_subset, batch_size=batch_size, shuffle=False)\n",
    "        val_loader = DataLoader(val_subset, batch_size=batch_size, shuffle=False)\n",
    "\n",
    "        num_features = group_df_scaled.shape[1]\n",
    "        print(\"num_features:\", num_features)\n",
    "\n",
    "        # Build the TCN model\n",
    "        model = TCNForecastingModel(\n",
    "            num_inputs=num_features,\n",
    "            num_channels=[64, 64],\n",
    "            kernel_size=3,\n",
    "            dropout=dropout,\n",
    "            output_size=1\n",
    "        )\n",
    "\n",
    "        # Load pretrained checkpoint and match layers\n",
    "        checkpoint = torch.load(pretrained_weights)\n",
    "        model_dict = model.state_dict()\n",
    "        pretrained_dict = {k: v for k, v in checkpoint.items() if k in model_dict and model_dict[k].shape == v.shape}\n",
    "        model_dict.update(pretrained_dict)\n",
    "        model.load_state_dict(model_dict, strict=False)\n",
    "\n",
    "        criterion = nn.MSELoss()\n",
    "        optimizer = optim.Adam(model.parameters(), lr=lr)\n",
    "\n",
    "        # Final training loop\n",
    "        for epoch in range(final_epochs):\n",
    "            model.train()\n",
    "            train_loss = 0.0\n",
    "            for X_batch, y_batch in train_loader:\n",
    "                optimizer.zero_grad()\n",
    "                preds = model(X_batch)\n",
    "\n",
    "                # Ensure preds shape matches y_batch\n",
    "                preds = preds.view(y_batch.shape)  # Reshape model output\n",
    "\n",
    "                loss = criterion(preds, y_batch)\n",
    "                loss.backward()\n",
    "                optimizer.step()\n",
    "                train_loss += loss.item()\n",
    "\n",
    "            avg_train_loss = train_loss / len(train_loader)\n",
    "\n",
    "            # Evaluate\n",
    "            model.eval()\n",
    "            val_loss = 0.0\n",
    "            with torch.no_grad():\n",
    "                for X_batch, y_batch in val_loader:\n",
    "                    preds = model(X_batch)\n",
    "                    preds = preds.view(y_batch.shape)  # Ensure correct shape\n",
    "                    loss = criterion(preds, y_batch)\n",
    "                    val_loss += loss.item()\n",
    "\n",
    "            avg_val_loss = val_loss / len(val_loader)\n",
    "            if (epoch + 1) % 5 == 0:\n",
    "                print(f\"Epoch {epoch+1}/{final_epochs}, Train Loss: {avg_train_loss:.6f}, Val Loss: {avg_val_loss:.6f}\")\n",
    "\n",
    "\n",
    "        # Collect predictions\n",
    "        all_preds, all_targets = [], []\n",
    "        model.eval()\n",
    "        with torch.no_grad():\n",
    "            for X_batch, y_batch in val_loader:\n",
    "                preds = model(X_batch)\n",
    "                preds = preds.view(-1, 1)  # Ensure output shape matches target\n",
    "                all_preds.append(preds.cpu().numpy())\n",
    "                all_targets.append(y_batch.cpu().numpy())\n",
    "\n",
    "        all_preds = np.concatenate(all_preds, axis=0)\n",
    "        all_targets = np.concatenate(all_targets, axis=0)\n",
    "\n",
    "        # Metrics\n",
    "        mae = mean_absolute_error(all_targets, all_preds)\n",
    "        rmse = (mean_squared_error(all_targets, all_preds))**0.5\n",
    "        mape = (abs(all_targets - all_preds) / (abs(all_targets) + 1e-8)).mean() * 100\n",
    "        r2 = r2_score(all_targets, all_preds)\n",
    "\n",
    "        print(f\"Fold {fold} => MAE: {mae:.4f}, RMSE: {rmse:.4f}, MAPE: {mape:.2f}%, R2: {r2:.4f}\")\n",
    "\n",
    "        fold_metrics.append({\n",
    "            \"Fold\": fold,\n",
    "            \"MAE\": mae,\n",
    "            \"RMSE\": rmse,\n",
    "            \"MAPE\": mape,\n",
    "            \"R2\": r2\n",
    "        })\n",
    "\n",
    "        # Plot\n",
    "        ax_pred = axes[fold-1, 0]\n",
    "        ax_res = axes[fold-1, 1]\n",
    "\n",
    "        val_x = range(len(all_preds))\n",
    "        ax_pred.plot(val_x, all_targets, label=\"Actual\", alpha=0.7)\n",
    "        ax_pred.plot(val_x, all_preds, label=\"Predicted\", alpha=0.7, linestyle='--')\n",
    "        ax_pred.set_title(f\"Fold {fold}: Predictions vs Actual\")\n",
    "        ax_pred.legend()\n",
    "\n",
    "        residuals = all_targets - all_preds\n",
    "        ax_res.plot(val_x, residuals, label=\"Residuals\")\n",
    "        ax_res.axhline(0, color='r', linestyle='--', alpha=0.5)\n",
    "        ax_res.set_title(f\"Fold {fold}: Residuals\")\n",
    "        ax_res.legend()\n",
    "\n",
    "    # Summarize\n",
    "    fold_df = pd.DataFrame(fold_metrics)\n",
    "    avg_metrics = {\n",
    "        \"MAE\": fold_df[\"MAE\"].mean(),\n",
    "        \"RMSE\": fold_df[\"RMSE\"].mean(),\n",
    "        \"MAPE\": fold_df[\"MAPE\"].mean(),\n",
    "        \"R2\": fold_df[\"R2\"].mean()\n",
    "    }\n",
    "    print(\"\\nFinal Fold Metrics:\")\n",
    "    print(fold_df)\n",
    "    print(\"Average Metrics:\", avg_metrics)\n",
    "\n",
    "    # Save figure\n",
    "    plt.tight_layout(rect=[0, 0, 1, 0.95])\n",
    "    fig_path = os.path.join(output_dir, \"final_pred_res.png\")\n",
    "    plt.savefig(fig_path)\n",
    "    plt.close(fig)\n",
    "\n",
    "    # Save metrics\n",
    "    fold_df.to_csv(os.path.join(output_dir, \"final_fold_metrics.csv\"), index=False)\n",
    "    pd.DataFrame([avg_metrics]).to_csv(os.path.join(output_dir, \"final_avg_metrics.csv\"), index=False)\n",
    "\n",
    "    # Save final model\n",
    "    final_model_path = os.path.join(output_dir, \"final_finetuned_model.pt\")\n",
    "    torch.save(model.state_dict(), final_model_path)\n",
    "\n",
    "    return fold_df, avg_metrics\n",
    "\n",
    "for product_group in top_10_groups:\n",
    "    # 1. Filter & scale group data\n",
    "    group_df = data[data['product_group'] == product_group].copy()\n",
    "    group_df.sort_values([\"date\", \"product_group\"], inplace=True)\n",
    "    group_df = group_df.drop(columns=['date','product_group'], errors='ignore')\n",
    "    \n",
    "    X_group = group_df.drop(columns=['transaction_count']).values\n",
    "    y_group = group_df['transaction_count'].values.reshape(-1,1)\n",
    "    X_group_scaled = feature_scaler.transform(X_group)\n",
    "    y_group_scaled = target_scaler.transform(y_group)\n",
    "\n",
    "    feature_cols = [col for col in group_df.columns if col != 'transaction_count']\n",
    "    group_df_scaled = pd.DataFrame(X_group_scaled, columns=feature_cols)\n",
    "    group_df_scaled['transaction_count'] = y_group_scaled\n",
    "    group_df_scaled.sort_index(inplace=True)\n",
    "\n",
    "    # 2. Load best_params from CSV\n",
    "    from modules.utils import process_name\n",
    "    sanitized_group = process_name(product_group)\n",
    "    group_output_dir = os.path.join(\"output/top_10_product_groups/transfer_finetuned\", sanitized_group)\n",
    "    best_params_csv = os.path.join(group_output_dir, \"best_params.csv\")\n",
    "    best_params_df = pd.read_csv(best_params_csv)\n",
    "    best_params = best_params_df.iloc[0].to_dict()\n",
    "\n",
    "    # 3. Call final_train_with_best_params\n",
    "    final_fold_df, final_avg_metrics = final_train_with_best_params(\n",
    "        group_df_scaled=group_df_scaled,\n",
    "        best_params=best_params,\n",
    "        pretrained_weights=\"pretrained_tcn.pt\",\n",
    "        output_dir=group_output_dir,\n",
    "        final_epochs=50,\n",
    "        n_splits=4\n",
    "    )\n"
   ]
  },
  {
   "cell_type": "code",
   "execution_count": null,
   "metadata": {},
   "outputs": [
    {
     "name": "stdout",
     "output_type": "stream",
     "text": [
      "=== Final Fold 1 ===\n"
     ]
    },
    {
     "name": "stderr",
     "output_type": "stream",
     "text": [
      "/var/folders/33/sqxmhw8j72g_q70vx5jqs_jr0000gn/T/ipykernel_11010/1967192480.py:69: FutureWarning: You are using `torch.load` with `weights_only=False` (the current default value), which uses the default pickle module implicitly. It is possible to construct malicious pickle data which will execute arbitrary code during unpickling (See https://github.com/pytorch/pytorch/blob/main/SECURITY.md#untrusted-models for more details). In a future release, the default value for `weights_only` will be flipped to `True`. This limits the functions that could be executed during unpickling. Arbitrary objects will no longer be allowed to be loaded via this mode unless they are explicitly allowlisted by the user via `torch.serialization.add_safe_globals`. We recommend you start setting `weights_only=True` for any use case where you don't have full control of the loaded file. Please open an issue on GitHub for any issues related to this experimental feature.\n",
      "  checkpoint = torch.load(pretrained_weights)\n"
     ]
    },
    {
     "name": "stdout",
     "output_type": "stream",
     "text": [
      "Fold 1 => MAE: 0.0436, RMSE: 0.0596, MAPE: 27.53%, R2: -0.2191\n",
      "=== Final Fold 2 ===\n"
     ]
    },
    {
     "name": "stderr",
     "output_type": "stream",
     "text": [
      "/var/folders/33/sqxmhw8j72g_q70vx5jqs_jr0000gn/T/ipykernel_11010/1967192480.py:69: FutureWarning: You are using `torch.load` with `weights_only=False` (the current default value), which uses the default pickle module implicitly. It is possible to construct malicious pickle data which will execute arbitrary code during unpickling (See https://github.com/pytorch/pytorch/blob/main/SECURITY.md#untrusted-models for more details). In a future release, the default value for `weights_only` will be flipped to `True`. This limits the functions that could be executed during unpickling. Arbitrary objects will no longer be allowed to be loaded via this mode unless they are explicitly allowlisted by the user via `torch.serialization.add_safe_globals`. We recommend you start setting `weights_only=True` for any use case where you don't have full control of the loaded file. Please open an issue on GitHub for any issues related to this experimental feature.\n",
      "  checkpoint = torch.load(pretrained_weights)\n"
     ]
    },
    {
     "name": "stdout",
     "output_type": "stream",
     "text": [
      "Fold 2 => MAE: 0.0788, RMSE: 0.1058, MAPE: 61.70%, R2: -0.3127\n",
      "=== Final Fold 3 ===\n"
     ]
    },
    {
     "name": "stderr",
     "output_type": "stream",
     "text": [
      "/var/folders/33/sqxmhw8j72g_q70vx5jqs_jr0000gn/T/ipykernel_11010/1967192480.py:69: FutureWarning: You are using `torch.load` with `weights_only=False` (the current default value), which uses the default pickle module implicitly. It is possible to construct malicious pickle data which will execute arbitrary code during unpickling (See https://github.com/pytorch/pytorch/blob/main/SECURITY.md#untrusted-models for more details). In a future release, the default value for `weights_only` will be flipped to `True`. This limits the functions that could be executed during unpickling. Arbitrary objects will no longer be allowed to be loaded via this mode unless they are explicitly allowlisted by the user via `torch.serialization.add_safe_globals`. We recommend you start setting `weights_only=True` for any use case where you don't have full control of the loaded file. Please open an issue on GitHub for any issues related to this experimental feature.\n",
      "  checkpoint = torch.load(pretrained_weights)\n"
     ]
    },
    {
     "name": "stdout",
     "output_type": "stream",
     "text": [
      "Fold 3 => MAE: 0.0498, RMSE: 0.0899, MAPE: 20.39%, R2: -0.2176\n",
      "=== Final Fold 4 ===\n"
     ]
    },
    {
     "name": "stderr",
     "output_type": "stream",
     "text": [
      "/var/folders/33/sqxmhw8j72g_q70vx5jqs_jr0000gn/T/ipykernel_11010/1967192480.py:69: FutureWarning: You are using `torch.load` with `weights_only=False` (the current default value), which uses the default pickle module implicitly. It is possible to construct malicious pickle data which will execute arbitrary code during unpickling (See https://github.com/pytorch/pytorch/blob/main/SECURITY.md#untrusted-models for more details). In a future release, the default value for `weights_only` will be flipped to `True`. This limits the functions that could be executed during unpickling. Arbitrary objects will no longer be allowed to be loaded via this mode unless they are explicitly allowlisted by the user via `torch.serialization.add_safe_globals`. We recommend you start setting `weights_only=True` for any use case where you don't have full control of the loaded file. Please open an issue on GitHub for any issues related to this experimental feature.\n",
      "  checkpoint = torch.load(pretrained_weights)\n"
     ]
    },
    {
     "name": "stdout",
     "output_type": "stream",
     "text": [
      "Fold 4 => MAE: 0.0650, RMSE: 0.0778, MAPE: 40.69%, R2: -0.7082\n",
      "\n",
      "Final Fold Metrics:\n",
      "   Fold       MAE      RMSE       MAPE        R2\n",
      "0     1  0.043644  0.059567  27.534255 -0.219139\n",
      "1     2  0.078835  0.105804  61.701846 -0.312707\n",
      "2     3  0.049839  0.089922  20.386213 -0.217602\n",
      "3     4  0.064989  0.077791  40.686125 -0.708198\n",
      "Average Metrics: {'MAE': 0.059326536022126675, 'RMSE': 0.08327081622925771, 'MAPE': 37.57710978388786, 'R2': -0.3644113913178444}\n",
      "=== Final Fold 1 ===\n"
     ]
    },
    {
     "name": "stderr",
     "output_type": "stream",
     "text": [
      "/var/folders/33/sqxmhw8j72g_q70vx5jqs_jr0000gn/T/ipykernel_11010/1967192480.py:69: FutureWarning: You are using `torch.load` with `weights_only=False` (the current default value), which uses the default pickle module implicitly. It is possible to construct malicious pickle data which will execute arbitrary code during unpickling (See https://github.com/pytorch/pytorch/blob/main/SECURITY.md#untrusted-models for more details). In a future release, the default value for `weights_only` will be flipped to `True`. This limits the functions that could be executed during unpickling. Arbitrary objects will no longer be allowed to be loaded via this mode unless they are explicitly allowlisted by the user via `torch.serialization.add_safe_globals`. We recommend you start setting `weights_only=True` for any use case where you don't have full control of the loaded file. Please open an issue on GitHub for any issues related to this experimental feature.\n",
      "  checkpoint = torch.load(pretrained_weights)\n"
     ]
    },
    {
     "name": "stdout",
     "output_type": "stream",
     "text": [
      "Fold 1 => MAE: 0.1490, RMSE: 0.2093, MAPE: 33.62%, R2: -0.7698\n",
      "=== Final Fold 2 ===\n"
     ]
    },
    {
     "name": "stderr",
     "output_type": "stream",
     "text": [
      "/var/folders/33/sqxmhw8j72g_q70vx5jqs_jr0000gn/T/ipykernel_11010/1967192480.py:69: FutureWarning: You are using `torch.load` with `weights_only=False` (the current default value), which uses the default pickle module implicitly. It is possible to construct malicious pickle data which will execute arbitrary code during unpickling (See https://github.com/pytorch/pytorch/blob/main/SECURITY.md#untrusted-models for more details). In a future release, the default value for `weights_only` will be flipped to `True`. This limits the functions that could be executed during unpickling. Arbitrary objects will no longer be allowed to be loaded via this mode unless they are explicitly allowlisted by the user via `torch.serialization.add_safe_globals`. We recommend you start setting `weights_only=True` for any use case where you don't have full control of the loaded file. Please open an issue on GitHub for any issues related to this experimental feature.\n",
      "  checkpoint = torch.load(pretrained_weights)\n"
     ]
    },
    {
     "name": "stdout",
     "output_type": "stream",
     "text": [
      "Fold 2 => MAE: 0.1791, RMSE: 0.2029, MAPE: 73.87%, R2: -0.9722\n",
      "=== Final Fold 3 ===\n"
     ]
    },
    {
     "name": "stderr",
     "output_type": "stream",
     "text": [
      "/var/folders/33/sqxmhw8j72g_q70vx5jqs_jr0000gn/T/ipykernel_11010/1967192480.py:69: FutureWarning: You are using `torch.load` with `weights_only=False` (the current default value), which uses the default pickle module implicitly. It is possible to construct malicious pickle data which will execute arbitrary code during unpickling (See https://github.com/pytorch/pytorch/blob/main/SECURITY.md#untrusted-models for more details). In a future release, the default value for `weights_only` will be flipped to `True`. This limits the functions that could be executed during unpickling. Arbitrary objects will no longer be allowed to be loaded via this mode unless they are explicitly allowlisted by the user via `torch.serialization.add_safe_globals`. We recommend you start setting `weights_only=True` for any use case where you don't have full control of the loaded file. Please open an issue on GitHub for any issues related to this experimental feature.\n",
      "  checkpoint = torch.load(pretrained_weights)\n"
     ]
    },
    {
     "name": "stdout",
     "output_type": "stream",
     "text": [
      "Fold 3 => MAE: 0.1019, RMSE: 0.1365, MAPE: 51.76%, R2: -0.2109\n",
      "=== Final Fold 4 ===\n"
     ]
    },
    {
     "name": "stderr",
     "output_type": "stream",
     "text": [
      "/var/folders/33/sqxmhw8j72g_q70vx5jqs_jr0000gn/T/ipykernel_11010/1967192480.py:69: FutureWarning: You are using `torch.load` with `weights_only=False` (the current default value), which uses the default pickle module implicitly. It is possible to construct malicious pickle data which will execute arbitrary code during unpickling (See https://github.com/pytorch/pytorch/blob/main/SECURITY.md#untrusted-models for more details). In a future release, the default value for `weights_only` will be flipped to `True`. This limits the functions that could be executed during unpickling. Arbitrary objects will no longer be allowed to be loaded via this mode unless they are explicitly allowlisted by the user via `torch.serialization.add_safe_globals`. We recommend you start setting `weights_only=True` for any use case where you don't have full control of the loaded file. Please open an issue on GitHub for any issues related to this experimental feature.\n",
      "  checkpoint = torch.load(pretrained_weights)\n"
     ]
    },
    {
     "name": "stdout",
     "output_type": "stream",
     "text": [
      "Fold 4 => MAE: 0.0982, RMSE: 0.1584, MAPE: 24.09%, R2: 0.0673\n",
      "\n",
      "Final Fold Metrics:\n",
      "   Fold       MAE      RMSE       MAPE        R2\n",
      "0     1  0.149025  0.209310  33.622485 -0.769824\n",
      "1     2  0.179142  0.202923  73.872179 -0.972171\n",
      "2     3  0.101910  0.136480  51.763368 -0.210852\n",
      "3     4  0.098161  0.158396  24.091569  0.067315\n",
      "Average Metrics: {'MAE': 0.13205980882048607, 'RMSE': 0.17677715354597112, 'MAPE': 45.83740010857582, 'R2': -0.47138284519314766}\n",
      "=== Final Fold 1 ===\n"
     ]
    },
    {
     "name": "stderr",
     "output_type": "stream",
     "text": [
      "/var/folders/33/sqxmhw8j72g_q70vx5jqs_jr0000gn/T/ipykernel_11010/1967192480.py:69: FutureWarning: You are using `torch.load` with `weights_only=False` (the current default value), which uses the default pickle module implicitly. It is possible to construct malicious pickle data which will execute arbitrary code during unpickling (See https://github.com/pytorch/pytorch/blob/main/SECURITY.md#untrusted-models for more details). In a future release, the default value for `weights_only` will be flipped to `True`. This limits the functions that could be executed during unpickling. Arbitrary objects will no longer be allowed to be loaded via this mode unless they are explicitly allowlisted by the user via `torch.serialization.add_safe_globals`. We recommend you start setting `weights_only=True` for any use case where you don't have full control of the loaded file. Please open an issue on GitHub for any issues related to this experimental feature.\n",
      "  checkpoint = torch.load(pretrained_weights)\n"
     ]
    },
    {
     "name": "stdout",
     "output_type": "stream",
     "text": [
      "Fold 1 => MAE: 0.0349, RMSE: 0.0451, MAPE: 31.79%, R2: -0.7193\n",
      "=== Final Fold 2 ===\n"
     ]
    },
    {
     "name": "stderr",
     "output_type": "stream",
     "text": [
      "/var/folders/33/sqxmhw8j72g_q70vx5jqs_jr0000gn/T/ipykernel_11010/1967192480.py:69: FutureWarning: You are using `torch.load` with `weights_only=False` (the current default value), which uses the default pickle module implicitly. It is possible to construct malicious pickle data which will execute arbitrary code during unpickling (See https://github.com/pytorch/pytorch/blob/main/SECURITY.md#untrusted-models for more details). In a future release, the default value for `weights_only` will be flipped to `True`. This limits the functions that could be executed during unpickling. Arbitrary objects will no longer be allowed to be loaded via this mode unless they are explicitly allowlisted by the user via `torch.serialization.add_safe_globals`. We recommend you start setting `weights_only=True` for any use case where you don't have full control of the loaded file. Please open an issue on GitHub for any issues related to this experimental feature.\n",
      "  checkpoint = torch.load(pretrained_weights)\n"
     ]
    },
    {
     "name": "stdout",
     "output_type": "stream",
     "text": [
      "Fold 2 => MAE: 0.0705, RMSE: 0.1183, MAPE: 33.03%, R2: -0.5009\n",
      "=== Final Fold 3 ===\n"
     ]
    },
    {
     "name": "stderr",
     "output_type": "stream",
     "text": [
      "/var/folders/33/sqxmhw8j72g_q70vx5jqs_jr0000gn/T/ipykernel_11010/1967192480.py:69: FutureWarning: You are using `torch.load` with `weights_only=False` (the current default value), which uses the default pickle module implicitly. It is possible to construct malicious pickle data which will execute arbitrary code during unpickling (See https://github.com/pytorch/pytorch/blob/main/SECURITY.md#untrusted-models for more details). In a future release, the default value for `weights_only` will be flipped to `True`. This limits the functions that could be executed during unpickling. Arbitrary objects will no longer be allowed to be loaded via this mode unless they are explicitly allowlisted by the user via `torch.serialization.add_safe_globals`. We recommend you start setting `weights_only=True` for any use case where you don't have full control of the loaded file. Please open an issue on GitHub for any issues related to this experimental feature.\n",
      "  checkpoint = torch.load(pretrained_weights)\n"
     ]
    },
    {
     "name": "stdout",
     "output_type": "stream",
     "text": [
      "Fold 3 => MAE: 0.0476, RMSE: 0.0588, MAPE: 32.75%, R2: 0.1866\n",
      "=== Final Fold 4 ===\n"
     ]
    },
    {
     "name": "stderr",
     "output_type": "stream",
     "text": [
      "/var/folders/33/sqxmhw8j72g_q70vx5jqs_jr0000gn/T/ipykernel_11010/1967192480.py:69: FutureWarning: You are using `torch.load` with `weights_only=False` (the current default value), which uses the default pickle module implicitly. It is possible to construct malicious pickle data which will execute arbitrary code during unpickling (See https://github.com/pytorch/pytorch/blob/main/SECURITY.md#untrusted-models for more details). In a future release, the default value for `weights_only` will be flipped to `True`. This limits the functions that could be executed during unpickling. Arbitrary objects will no longer be allowed to be loaded via this mode unless they are explicitly allowlisted by the user via `torch.serialization.add_safe_globals`. We recommend you start setting `weights_only=True` for any use case where you don't have full control of the loaded file. Please open an issue on GitHub for any issues related to this experimental feature.\n",
      "  checkpoint = torch.load(pretrained_weights)\n"
     ]
    },
    {
     "name": "stdout",
     "output_type": "stream",
     "text": [
      "Fold 4 => MAE: 0.0499, RMSE: 0.0594, MAPE: 50.36%, R2: -0.4900\n",
      "\n",
      "Final Fold Metrics:\n",
      "   Fold       MAE      RMSE       MAPE        R2\n",
      "0     1  0.034859  0.045134  31.790826 -0.719260\n",
      "1     2  0.070520  0.118290  33.027032 -0.500884\n",
      "2     3  0.047557  0.058824  32.751223  0.186566\n",
      "3     4  0.049854  0.059447  50.363100 -0.490036\n",
      "Average Metrics: {'MAE': 0.05069759767502546, 'RMSE': 0.07042365658152291, 'MAPE': 36.98304519057274, 'R2': -0.38090357556939125}\n",
      "=== Final Fold 1 ===\n"
     ]
    },
    {
     "name": "stderr",
     "output_type": "stream",
     "text": [
      "/var/folders/33/sqxmhw8j72g_q70vx5jqs_jr0000gn/T/ipykernel_11010/1967192480.py:69: FutureWarning: You are using `torch.load` with `weights_only=False` (the current default value), which uses the default pickle module implicitly. It is possible to construct malicious pickle data which will execute arbitrary code during unpickling (See https://github.com/pytorch/pytorch/blob/main/SECURITY.md#untrusted-models for more details). In a future release, the default value for `weights_only` will be flipped to `True`. This limits the functions that could be executed during unpickling. Arbitrary objects will no longer be allowed to be loaded via this mode unless they are explicitly allowlisted by the user via `torch.serialization.add_safe_globals`. We recommend you start setting `weights_only=True` for any use case where you don't have full control of the loaded file. Please open an issue on GitHub for any issues related to this experimental feature.\n",
      "  checkpoint = torch.load(pretrained_weights)\n"
     ]
    },
    {
     "name": "stdout",
     "output_type": "stream",
     "text": [
      "Fold 1 => MAE: 0.0709, RMSE: 0.0799, MAPE: 166.60%, R2: -3.8737\n",
      "=== Final Fold 2 ===\n"
     ]
    },
    {
     "name": "stderr",
     "output_type": "stream",
     "text": [
      "/var/folders/33/sqxmhw8j72g_q70vx5jqs_jr0000gn/T/ipykernel_11010/1967192480.py:69: FutureWarning: You are using `torch.load` with `weights_only=False` (the current default value), which uses the default pickle module implicitly. It is possible to construct malicious pickle data which will execute arbitrary code during unpickling (See https://github.com/pytorch/pytorch/blob/main/SECURITY.md#untrusted-models for more details). In a future release, the default value for `weights_only` will be flipped to `True`. This limits the functions that could be executed during unpickling. Arbitrary objects will no longer be allowed to be loaded via this mode unless they are explicitly allowlisted by the user via `torch.serialization.add_safe_globals`. We recommend you start setting `weights_only=True` for any use case where you don't have full control of the loaded file. Please open an issue on GitHub for any issues related to this experimental feature.\n",
      "  checkpoint = torch.load(pretrained_weights)\n"
     ]
    },
    {
     "name": "stdout",
     "output_type": "stream",
     "text": [
      "Fold 2 => MAE: 0.1461, RMSE: 0.2507, MAPE: 53.00%, R2: -0.3820\n",
      "=== Final Fold 3 ===\n"
     ]
    },
    {
     "name": "stderr",
     "output_type": "stream",
     "text": [
      "/var/folders/33/sqxmhw8j72g_q70vx5jqs_jr0000gn/T/ipykernel_11010/1967192480.py:69: FutureWarning: You are using `torch.load` with `weights_only=False` (the current default value), which uses the default pickle module implicitly. It is possible to construct malicious pickle data which will execute arbitrary code during unpickling (See https://github.com/pytorch/pytorch/blob/main/SECURITY.md#untrusted-models for more details). In a future release, the default value for `weights_only` will be flipped to `True`. This limits the functions that could be executed during unpickling. Arbitrary objects will no longer be allowed to be loaded via this mode unless they are explicitly allowlisted by the user via `torch.serialization.add_safe_globals`. We recommend you start setting `weights_only=True` for any use case where you don't have full control of the loaded file. Please open an issue on GitHub for any issues related to this experimental feature.\n",
      "  checkpoint = torch.load(pretrained_weights)\n"
     ]
    },
    {
     "name": "stdout",
     "output_type": "stream",
     "text": [
      "Fold 3 => MAE: 0.0586, RMSE: 0.0753, MAPE: 43.26%, R2: -0.1623\n",
      "=== Final Fold 4 ===\n"
     ]
    },
    {
     "name": "stderr",
     "output_type": "stream",
     "text": [
      "/var/folders/33/sqxmhw8j72g_q70vx5jqs_jr0000gn/T/ipykernel_11010/1967192480.py:69: FutureWarning: You are using `torch.load` with `weights_only=False` (the current default value), which uses the default pickle module implicitly. It is possible to construct malicious pickle data which will execute arbitrary code during unpickling (See https://github.com/pytorch/pytorch/blob/main/SECURITY.md#untrusted-models for more details). In a future release, the default value for `weights_only` will be flipped to `True`. This limits the functions that could be executed during unpickling. Arbitrary objects will no longer be allowed to be loaded via this mode unless they are explicitly allowlisted by the user via `torch.serialization.add_safe_globals`. We recommend you start setting `weights_only=True` for any use case where you don't have full control of the loaded file. Please open an issue on GitHub for any issues related to this experimental feature.\n",
      "  checkpoint = torch.load(pretrained_weights)\n"
     ]
    },
    {
     "name": "stdout",
     "output_type": "stream",
     "text": [
      "Fold 4 => MAE: 0.0363, RMSE: 0.0585, MAPE: 51.67%, R2: 0.6273\n",
      "\n",
      "Final Fold Metrics:\n",
      "   Fold       MAE      RMSE        MAPE        R2\n",
      "0     1  0.070862  0.079887  166.598785 -3.873704\n",
      "1     2  0.146058  0.250674   52.996743 -0.382043\n",
      "2     3  0.058560  0.075317   43.262872 -0.162281\n",
      "3     4  0.036276  0.058534   51.672304  0.627338\n",
      "Average Metrics: {'MAE': 0.07793906144797802, 'RMSE': 0.11610299231607789, 'MAPE': 78.63267585635185, 'R2': -0.9476725272834301}\n",
      "=== Final Fold 1 ===\n"
     ]
    },
    {
     "name": "stderr",
     "output_type": "stream",
     "text": [
      "/var/folders/33/sqxmhw8j72g_q70vx5jqs_jr0000gn/T/ipykernel_11010/1967192480.py:69: FutureWarning: You are using `torch.load` with `weights_only=False` (the current default value), which uses the default pickle module implicitly. It is possible to construct malicious pickle data which will execute arbitrary code during unpickling (See https://github.com/pytorch/pytorch/blob/main/SECURITY.md#untrusted-models for more details). In a future release, the default value for `weights_only` will be flipped to `True`. This limits the functions that could be executed during unpickling. Arbitrary objects will no longer be allowed to be loaded via this mode unless they are explicitly allowlisted by the user via `torch.serialization.add_safe_globals`. We recommend you start setting `weights_only=True` for any use case where you don't have full control of the loaded file. Please open an issue on GitHub for any issues related to this experimental feature.\n",
      "  checkpoint = torch.load(pretrained_weights)\n"
     ]
    },
    {
     "name": "stdout",
     "output_type": "stream",
     "text": [
      "Fold 1 => MAE: 0.0642, RMSE: 0.0864, MAPE: 25.72%, R2: -0.8896\n",
      "=== Final Fold 2 ===\n"
     ]
    },
    {
     "name": "stderr",
     "output_type": "stream",
     "text": [
      "/var/folders/33/sqxmhw8j72g_q70vx5jqs_jr0000gn/T/ipykernel_11010/1967192480.py:69: FutureWarning: You are using `torch.load` with `weights_only=False` (the current default value), which uses the default pickle module implicitly. It is possible to construct malicious pickle data which will execute arbitrary code during unpickling (See https://github.com/pytorch/pytorch/blob/main/SECURITY.md#untrusted-models for more details). In a future release, the default value for `weights_only` will be flipped to `True`. This limits the functions that could be executed during unpickling. Arbitrary objects will no longer be allowed to be loaded via this mode unless they are explicitly allowlisted by the user via `torch.serialization.add_safe_globals`. We recommend you start setting `weights_only=True` for any use case where you don't have full control of the loaded file. Please open an issue on GitHub for any issues related to this experimental feature.\n",
      "  checkpoint = torch.load(pretrained_weights)\n"
     ]
    },
    {
     "name": "stdout",
     "output_type": "stream",
     "text": [
      "Fold 2 => MAE: 0.1003, RMSE: 0.1146, MAPE: 88.99%, R2: -1.4860\n",
      "=== Final Fold 3 ===\n"
     ]
    },
    {
     "name": "stderr",
     "output_type": "stream",
     "text": [
      "/var/folders/33/sqxmhw8j72g_q70vx5jqs_jr0000gn/T/ipykernel_11010/1967192480.py:69: FutureWarning: You are using `torch.load` with `weights_only=False` (the current default value), which uses the default pickle module implicitly. It is possible to construct malicious pickle data which will execute arbitrary code during unpickling (See https://github.com/pytorch/pytorch/blob/main/SECURITY.md#untrusted-models for more details). In a future release, the default value for `weights_only` will be flipped to `True`. This limits the functions that could be executed during unpickling. Arbitrary objects will no longer be allowed to be loaded via this mode unless they are explicitly allowlisted by the user via `torch.serialization.add_safe_globals`. We recommend you start setting `weights_only=True` for any use case where you don't have full control of the loaded file. Please open an issue on GitHub for any issues related to this experimental feature.\n",
      "  checkpoint = torch.load(pretrained_weights)\n"
     ]
    },
    {
     "name": "stdout",
     "output_type": "stream",
     "text": [
      "Fold 3 => MAE: 0.0795, RMSE: 0.0943, MAPE: 69.10%, R2: -1.1751\n",
      "=== Final Fold 4 ===\n"
     ]
    },
    {
     "name": "stderr",
     "output_type": "stream",
     "text": [
      "/var/folders/33/sqxmhw8j72g_q70vx5jqs_jr0000gn/T/ipykernel_11010/1967192480.py:69: FutureWarning: You are using `torch.load` with `weights_only=False` (the current default value), which uses the default pickle module implicitly. It is possible to construct malicious pickle data which will execute arbitrary code during unpickling (See https://github.com/pytorch/pytorch/blob/main/SECURITY.md#untrusted-models for more details). In a future release, the default value for `weights_only` will be flipped to `True`. This limits the functions that could be executed during unpickling. Arbitrary objects will no longer be allowed to be loaded via this mode unless they are explicitly allowlisted by the user via `torch.serialization.add_safe_globals`. We recommend you start setting `weights_only=True` for any use case where you don't have full control of the loaded file. Please open an issue on GitHub for any issues related to this experimental feature.\n",
      "  checkpoint = torch.load(pretrained_weights)\n"
     ]
    },
    {
     "name": "stdout",
     "output_type": "stream",
     "text": [
      "Fold 4 => MAE: 0.0361, RMSE: 0.0478, MAPE: 20.59%, R2: -0.0448\n",
      "\n",
      "Final Fold Metrics:\n",
      "   Fold       MAE      RMSE       MAPE        R2\n",
      "0     1  0.064193  0.086394  25.721964 -0.889641\n",
      "1     2  0.100275  0.114580  88.992506 -1.486029\n",
      "2     3  0.079467  0.094309  69.095802 -1.175088\n",
      "3     4  0.036107  0.047757  20.590726 -0.044847\n",
      "Average Metrics: {'MAE': 0.07001047302037477, 'RMSE': 0.08575996354618276, 'MAPE': 51.10024958848953, 'R2': -0.8989012371748686}\n",
      "=== Final Fold 1 ===\n"
     ]
    },
    {
     "name": "stderr",
     "output_type": "stream",
     "text": [
      "/var/folders/33/sqxmhw8j72g_q70vx5jqs_jr0000gn/T/ipykernel_11010/1967192480.py:69: FutureWarning: You are using `torch.load` with `weights_only=False` (the current default value), which uses the default pickle module implicitly. It is possible to construct malicious pickle data which will execute arbitrary code during unpickling (See https://github.com/pytorch/pytorch/blob/main/SECURITY.md#untrusted-models for more details). In a future release, the default value for `weights_only` will be flipped to `True`. This limits the functions that could be executed during unpickling. Arbitrary objects will no longer be allowed to be loaded via this mode unless they are explicitly allowlisted by the user via `torch.serialization.add_safe_globals`. We recommend you start setting `weights_only=True` for any use case where you don't have full control of the loaded file. Please open an issue on GitHub for any issues related to this experimental feature.\n",
      "  checkpoint = torch.load(pretrained_weights)\n"
     ]
    },
    {
     "name": "stdout",
     "output_type": "stream",
     "text": [
      "Fold 1 => MAE: 0.0963, RMSE: 0.1227, MAPE: 38.01%, R2: -1.6171\n",
      "=== Final Fold 2 ===\n"
     ]
    },
    {
     "name": "stderr",
     "output_type": "stream",
     "text": [
      "/var/folders/33/sqxmhw8j72g_q70vx5jqs_jr0000gn/T/ipykernel_11010/1967192480.py:69: FutureWarning: You are using `torch.load` with `weights_only=False` (the current default value), which uses the default pickle module implicitly. It is possible to construct malicious pickle data which will execute arbitrary code during unpickling (See https://github.com/pytorch/pytorch/blob/main/SECURITY.md#untrusted-models for more details). In a future release, the default value for `weights_only` will be flipped to `True`. This limits the functions that could be executed during unpickling. Arbitrary objects will no longer be allowed to be loaded via this mode unless they are explicitly allowlisted by the user via `torch.serialization.add_safe_globals`. We recommend you start setting `weights_only=True` for any use case where you don't have full control of the loaded file. Please open an issue on GitHub for any issues related to this experimental feature.\n",
      "  checkpoint = torch.load(pretrained_weights)\n"
     ]
    },
    {
     "name": "stdout",
     "output_type": "stream",
     "text": [
      "Fold 2 => MAE: 0.1502, RMSE: 0.1571, MAPE: 180.26%, R2: -5.5208\n",
      "=== Final Fold 3 ===\n"
     ]
    },
    {
     "name": "stderr",
     "output_type": "stream",
     "text": [
      "/var/folders/33/sqxmhw8j72g_q70vx5jqs_jr0000gn/T/ipykernel_11010/1967192480.py:69: FutureWarning: You are using `torch.load` with `weights_only=False` (the current default value), which uses the default pickle module implicitly. It is possible to construct malicious pickle data which will execute arbitrary code during unpickling (See https://github.com/pytorch/pytorch/blob/main/SECURITY.md#untrusted-models for more details). In a future release, the default value for `weights_only` will be flipped to `True`. This limits the functions that could be executed during unpickling. Arbitrary objects will no longer be allowed to be loaded via this mode unless they are explicitly allowlisted by the user via `torch.serialization.add_safe_globals`. We recommend you start setting `weights_only=True` for any use case where you don't have full control of the loaded file. Please open an issue on GitHub for any issues related to this experimental feature.\n",
      "  checkpoint = torch.load(pretrained_weights)\n"
     ]
    },
    {
     "name": "stdout",
     "output_type": "stream",
     "text": [
      "Fold 3 => MAE: 0.0454, RMSE: 0.0745, MAPE: 43.63%, R2: 0.0874\n",
      "=== Final Fold 4 ===\n"
     ]
    },
    {
     "name": "stderr",
     "output_type": "stream",
     "text": [
      "/var/folders/33/sqxmhw8j72g_q70vx5jqs_jr0000gn/T/ipykernel_11010/1967192480.py:69: FutureWarning: You are using `torch.load` with `weights_only=False` (the current default value), which uses the default pickle module implicitly. It is possible to construct malicious pickle data which will execute arbitrary code during unpickling (See https://github.com/pytorch/pytorch/blob/main/SECURITY.md#untrusted-models for more details). In a future release, the default value for `weights_only` will be flipped to `True`. This limits the functions that could be executed during unpickling. Arbitrary objects will no longer be allowed to be loaded via this mode unless they are explicitly allowlisted by the user via `torch.serialization.add_safe_globals`. We recommend you start setting `weights_only=True` for any use case where you don't have full control of the loaded file. Please open an issue on GitHub for any issues related to this experimental feature.\n",
      "  checkpoint = torch.load(pretrained_weights)\n"
     ]
    },
    {
     "name": "stdout",
     "output_type": "stream",
     "text": [
      "Fold 4 => MAE: 0.0478, RMSE: 0.0647, MAPE: 23.10%, R2: -0.2115\n",
      "\n",
      "Final Fold Metrics:\n",
      "   Fold       MAE      RMSE        MAPE        R2\n",
      "0     1  0.096287  0.122677   38.010907 -1.617102\n",
      "1     2  0.150183  0.157128  180.258870 -5.520760\n",
      "2     3  0.045413  0.074483   43.634516  0.087425\n",
      "3     4  0.047762  0.064739   23.102713 -0.211459\n",
      "Average Metrics: {'MAE': 0.08491112291812897, 'RMSE': 0.10475684125467863, 'MAPE': 71.25175148248672, 'R2': -1.81547387316823}\n",
      "=== Final Fold 1 ===\n"
     ]
    },
    {
     "name": "stderr",
     "output_type": "stream",
     "text": [
      "/var/folders/33/sqxmhw8j72g_q70vx5jqs_jr0000gn/T/ipykernel_11010/1967192480.py:69: FutureWarning: You are using `torch.load` with `weights_only=False` (the current default value), which uses the default pickle module implicitly. It is possible to construct malicious pickle data which will execute arbitrary code during unpickling (See https://github.com/pytorch/pytorch/blob/main/SECURITY.md#untrusted-models for more details). In a future release, the default value for `weights_only` will be flipped to `True`. This limits the functions that could be executed during unpickling. Arbitrary objects will no longer be allowed to be loaded via this mode unless they are explicitly allowlisted by the user via `torch.serialization.add_safe_globals`. We recommend you start setting `weights_only=True` for any use case where you don't have full control of the loaded file. Please open an issue on GitHub for any issues related to this experimental feature.\n",
      "  checkpoint = torch.load(pretrained_weights)\n"
     ]
    },
    {
     "name": "stdout",
     "output_type": "stream",
     "text": [
      "Fold 1 => MAE: 0.0420, RMSE: 0.0592, MAPE: 21.39%, R2: -0.4526\n",
      "=== Final Fold 2 ===\n"
     ]
    },
    {
     "name": "stderr",
     "output_type": "stream",
     "text": [
      "/var/folders/33/sqxmhw8j72g_q70vx5jqs_jr0000gn/T/ipykernel_11010/1967192480.py:69: FutureWarning: You are using `torch.load` with `weights_only=False` (the current default value), which uses the default pickle module implicitly. It is possible to construct malicious pickle data which will execute arbitrary code during unpickling (See https://github.com/pytorch/pytorch/blob/main/SECURITY.md#untrusted-models for more details). In a future release, the default value for `weights_only` will be flipped to `True`. This limits the functions that could be executed during unpickling. Arbitrary objects will no longer be allowed to be loaded via this mode unless they are explicitly allowlisted by the user via `torch.serialization.add_safe_globals`. We recommend you start setting `weights_only=True` for any use case where you don't have full control of the loaded file. Please open an issue on GitHub for any issues related to this experimental feature.\n",
      "  checkpoint = torch.load(pretrained_weights)\n"
     ]
    },
    {
     "name": "stdout",
     "output_type": "stream",
     "text": [
      "Fold 2 => MAE: 0.0574, RMSE: 0.1241, MAPE: 21.86%, R2: -0.0650\n",
      "=== Final Fold 3 ===\n"
     ]
    },
    {
     "name": "stderr",
     "output_type": "stream",
     "text": [
      "/var/folders/33/sqxmhw8j72g_q70vx5jqs_jr0000gn/T/ipykernel_11010/1967192480.py:69: FutureWarning: You are using `torch.load` with `weights_only=False` (the current default value), which uses the default pickle module implicitly. It is possible to construct malicious pickle data which will execute arbitrary code during unpickling (See https://github.com/pytorch/pytorch/blob/main/SECURITY.md#untrusted-models for more details). In a future release, the default value for `weights_only` will be flipped to `True`. This limits the functions that could be executed during unpickling. Arbitrary objects will no longer be allowed to be loaded via this mode unless they are explicitly allowlisted by the user via `torch.serialization.add_safe_globals`. We recommend you start setting `weights_only=True` for any use case where you don't have full control of the loaded file. Please open an issue on GitHub for any issues related to this experimental feature.\n",
      "  checkpoint = torch.load(pretrained_weights)\n"
     ]
    },
    {
     "name": "stdout",
     "output_type": "stream",
     "text": [
      "Fold 3 => MAE: 0.0624, RMSE: 0.0828, MAPE: 45.99%, R2: -1.0052\n",
      "=== Final Fold 4 ===\n"
     ]
    },
    {
     "name": "stderr",
     "output_type": "stream",
     "text": [
      "/var/folders/33/sqxmhw8j72g_q70vx5jqs_jr0000gn/T/ipykernel_11010/1967192480.py:69: FutureWarning: You are using `torch.load` with `weights_only=False` (the current default value), which uses the default pickle module implicitly. It is possible to construct malicious pickle data which will execute arbitrary code during unpickling (See https://github.com/pytorch/pytorch/blob/main/SECURITY.md#untrusted-models for more details). In a future release, the default value for `weights_only` will be flipped to `True`. This limits the functions that could be executed during unpickling. Arbitrary objects will no longer be allowed to be loaded via this mode unless they are explicitly allowlisted by the user via `torch.serialization.add_safe_globals`. We recommend you start setting `weights_only=True` for any use case where you don't have full control of the loaded file. Please open an issue on GitHub for any issues related to this experimental feature.\n",
      "  checkpoint = torch.load(pretrained_weights)\n"
     ]
    },
    {
     "ename": "KeyboardInterrupt",
     "evalue": "",
     "output_type": "error",
     "traceback": [
      "\u001b[0;31m---------------------------------------------------------------------------\u001b[0m",
      "\u001b[0;31mKeyboardInterrupt\u001b[0m                         Traceback (most recent call last)",
      "Cell \u001b[0;32mIn[270], line 199\u001b[0m\n\u001b[1;32m    196\u001b[0m best_params \u001b[38;5;241m=\u001b[39m best_params_df\u001b[38;5;241m.\u001b[39miloc[\u001b[38;5;241m0\u001b[39m]\u001b[38;5;241m.\u001b[39mto_dict()\n\u001b[1;32m    198\u001b[0m \u001b[38;5;66;03m# 3. Call final_train_with_best_params\u001b[39;00m\n\u001b[0;32m--> 199\u001b[0m final_fold_df, final_avg_metrics \u001b[38;5;241m=\u001b[39m \u001b[43mfinal_train_with_best_params\u001b[49m\u001b[43m(\u001b[49m\n\u001b[1;32m    200\u001b[0m \u001b[43m    \u001b[49m\u001b[43mgroup_df_scaled\u001b[49m\u001b[38;5;241;43m=\u001b[39;49m\u001b[43mgroup_df_scaled\u001b[49m\u001b[43m,\u001b[49m\n\u001b[1;32m    201\u001b[0m \u001b[43m    \u001b[49m\u001b[43mbest_params\u001b[49m\u001b[38;5;241;43m=\u001b[39;49m\u001b[43mbest_params\u001b[49m\u001b[43m,\u001b[49m\n\u001b[1;32m    202\u001b[0m \u001b[43m    \u001b[49m\u001b[43mpretrained_weights\u001b[49m\u001b[38;5;241;43m=\u001b[39;49m\u001b[38;5;124;43m\"\u001b[39;49m\u001b[38;5;124;43mpretrained_tcn.pt\u001b[39;49m\u001b[38;5;124;43m\"\u001b[39;49m\u001b[43m,\u001b[49m\n\u001b[1;32m    203\u001b[0m \u001b[43m    \u001b[49m\u001b[43moutput_dir\u001b[49m\u001b[38;5;241;43m=\u001b[39;49m\u001b[43mgroup_output_dir\u001b[49m\u001b[43m,\u001b[49m\n\u001b[1;32m    204\u001b[0m \u001b[43m    \u001b[49m\u001b[43mfinal_epochs\u001b[49m\u001b[38;5;241;43m=\u001b[39;49m\u001b[38;5;241;43m50\u001b[39;49m\u001b[43m,\u001b[49m\n\u001b[1;32m    205\u001b[0m \u001b[43m    \u001b[49m\u001b[43mn_splits\u001b[49m\u001b[38;5;241;43m=\u001b[39;49m\u001b[38;5;241;43m4\u001b[39;49m\n\u001b[1;32m    206\u001b[0m \u001b[43m\u001b[49m\u001b[43m)\u001b[49m\n",
      "Cell \u001b[0;32mIn[270], line 83\u001b[0m, in \u001b[0;36mfinal_train_with_best_params\u001b[0;34m(group_df_scaled, best_params, pretrained_weights, output_dir, final_epochs, n_splits)\u001b[0m\n\u001b[1;32m     81\u001b[0m \u001b[38;5;28;01mfor\u001b[39;00m X_batch, y_batch \u001b[38;5;129;01min\u001b[39;00m train_loader:\n\u001b[1;32m     82\u001b[0m     optimizer\u001b[38;5;241m.\u001b[39mzero_grad()\n\u001b[0;32m---> 83\u001b[0m     preds \u001b[38;5;241m=\u001b[39m \u001b[43mmodel\u001b[49m\u001b[43m(\u001b[49m\u001b[43mX_batch\u001b[49m\u001b[43m)\u001b[49m\n\u001b[1;32m     84\u001b[0m     preds \u001b[38;5;241m=\u001b[39m preds\u001b[38;5;241m.\u001b[39mview(\u001b[38;5;241m-\u001b[39m\u001b[38;5;241m1\u001b[39m, \u001b[38;5;241m14\u001b[39m)  \u001b[38;5;66;03m# Ensure correct shape\u001b[39;00m\n\u001b[1;32m     86\u001b[0m     loss \u001b[38;5;241m=\u001b[39m criterion(preds, y_batch)\n",
      "File \u001b[0;32m~/Thesis/thesis_env/lib/python3.10/site-packages/torch/nn/modules/module.py:1736\u001b[0m, in \u001b[0;36mModule._wrapped_call_impl\u001b[0;34m(self, *args, **kwargs)\u001b[0m\n\u001b[1;32m   1734\u001b[0m     \u001b[38;5;28;01mreturn\u001b[39;00m \u001b[38;5;28mself\u001b[39m\u001b[38;5;241m.\u001b[39m_compiled_call_impl(\u001b[38;5;241m*\u001b[39margs, \u001b[38;5;241m*\u001b[39m\u001b[38;5;241m*\u001b[39mkwargs)  \u001b[38;5;66;03m# type: ignore[misc]\u001b[39;00m\n\u001b[1;32m   1735\u001b[0m \u001b[38;5;28;01melse\u001b[39;00m:\n\u001b[0;32m-> 1736\u001b[0m     \u001b[38;5;28;01mreturn\u001b[39;00m \u001b[38;5;28;43mself\u001b[39;49m\u001b[38;5;241;43m.\u001b[39;49m\u001b[43m_call_impl\u001b[49m\u001b[43m(\u001b[49m\u001b[38;5;241;43m*\u001b[39;49m\u001b[43margs\u001b[49m\u001b[43m,\u001b[49m\u001b[43m \u001b[49m\u001b[38;5;241;43m*\u001b[39;49m\u001b[38;5;241;43m*\u001b[39;49m\u001b[43mkwargs\u001b[49m\u001b[43m)\u001b[49m\n",
      "File \u001b[0;32m~/Thesis/thesis_env/lib/python3.10/site-packages/torch/nn/modules/module.py:1747\u001b[0m, in \u001b[0;36mModule._call_impl\u001b[0;34m(self, *args, **kwargs)\u001b[0m\n\u001b[1;32m   1742\u001b[0m \u001b[38;5;66;03m# If we don't have any hooks, we want to skip the rest of the logic in\u001b[39;00m\n\u001b[1;32m   1743\u001b[0m \u001b[38;5;66;03m# this function, and just call forward.\u001b[39;00m\n\u001b[1;32m   1744\u001b[0m \u001b[38;5;28;01mif\u001b[39;00m \u001b[38;5;129;01mnot\u001b[39;00m (\u001b[38;5;28mself\u001b[39m\u001b[38;5;241m.\u001b[39m_backward_hooks \u001b[38;5;129;01mor\u001b[39;00m \u001b[38;5;28mself\u001b[39m\u001b[38;5;241m.\u001b[39m_backward_pre_hooks \u001b[38;5;129;01mor\u001b[39;00m \u001b[38;5;28mself\u001b[39m\u001b[38;5;241m.\u001b[39m_forward_hooks \u001b[38;5;129;01mor\u001b[39;00m \u001b[38;5;28mself\u001b[39m\u001b[38;5;241m.\u001b[39m_forward_pre_hooks\n\u001b[1;32m   1745\u001b[0m         \u001b[38;5;129;01mor\u001b[39;00m _global_backward_pre_hooks \u001b[38;5;129;01mor\u001b[39;00m _global_backward_hooks\n\u001b[1;32m   1746\u001b[0m         \u001b[38;5;129;01mor\u001b[39;00m _global_forward_hooks \u001b[38;5;129;01mor\u001b[39;00m _global_forward_pre_hooks):\n\u001b[0;32m-> 1747\u001b[0m     \u001b[38;5;28;01mreturn\u001b[39;00m \u001b[43mforward_call\u001b[49m\u001b[43m(\u001b[49m\u001b[38;5;241;43m*\u001b[39;49m\u001b[43margs\u001b[49m\u001b[43m,\u001b[49m\u001b[43m \u001b[49m\u001b[38;5;241;43m*\u001b[39;49m\u001b[38;5;241;43m*\u001b[39;49m\u001b[43mkwargs\u001b[49m\u001b[43m)\u001b[49m\n\u001b[1;32m   1749\u001b[0m result \u001b[38;5;241m=\u001b[39m \u001b[38;5;28;01mNone\u001b[39;00m\n\u001b[1;32m   1750\u001b[0m called_always_called_hooks \u001b[38;5;241m=\u001b[39m \u001b[38;5;28mset\u001b[39m()\n",
      "Cell \u001b[0;32mIn[203], line 49\u001b[0m, in \u001b[0;36mTCNForecastingModel.forward\u001b[0;34m(self, x)\u001b[0m\n\u001b[1;32m     47\u001b[0m \u001b[38;5;28;01mdef\u001b[39;00m \u001b[38;5;21mforward\u001b[39m(\u001b[38;5;28mself\u001b[39m, x):\n\u001b[1;32m     48\u001b[0m     x \u001b[38;5;241m=\u001b[39m x\u001b[38;5;241m.\u001b[39mpermute(\u001b[38;5;241m0\u001b[39m, \u001b[38;5;241m2\u001b[39m, \u001b[38;5;241m1\u001b[39m)\n\u001b[0;32m---> 49\u001b[0m     y \u001b[38;5;241m=\u001b[39m \u001b[38;5;28;43mself\u001b[39;49m\u001b[38;5;241;43m.\u001b[39;49m\u001b[43mtcn\u001b[49m\u001b[43m(\u001b[49m\u001b[43mx\u001b[49m\u001b[43m)\u001b[49m\n\u001b[1;32m     50\u001b[0m     y \u001b[38;5;241m=\u001b[39m y[:, :, \u001b[38;5;241m-\u001b[39m\u001b[38;5;241m1\u001b[39m]\n\u001b[1;32m     51\u001b[0m     \u001b[38;5;28;01mreturn\u001b[39;00m \u001b[38;5;28mself\u001b[39m\u001b[38;5;241m.\u001b[39mfc(y)\n",
      "File \u001b[0;32m~/Thesis/thesis_env/lib/python3.10/site-packages/torch/nn/modules/module.py:1736\u001b[0m, in \u001b[0;36mModule._wrapped_call_impl\u001b[0;34m(self, *args, **kwargs)\u001b[0m\n\u001b[1;32m   1734\u001b[0m     \u001b[38;5;28;01mreturn\u001b[39;00m \u001b[38;5;28mself\u001b[39m\u001b[38;5;241m.\u001b[39m_compiled_call_impl(\u001b[38;5;241m*\u001b[39margs, \u001b[38;5;241m*\u001b[39m\u001b[38;5;241m*\u001b[39mkwargs)  \u001b[38;5;66;03m# type: ignore[misc]\u001b[39;00m\n\u001b[1;32m   1735\u001b[0m \u001b[38;5;28;01melse\u001b[39;00m:\n\u001b[0;32m-> 1736\u001b[0m     \u001b[38;5;28;01mreturn\u001b[39;00m \u001b[38;5;28;43mself\u001b[39;49m\u001b[38;5;241;43m.\u001b[39;49m\u001b[43m_call_impl\u001b[49m\u001b[43m(\u001b[49m\u001b[38;5;241;43m*\u001b[39;49m\u001b[43margs\u001b[49m\u001b[43m,\u001b[49m\u001b[43m \u001b[49m\u001b[38;5;241;43m*\u001b[39;49m\u001b[38;5;241;43m*\u001b[39;49m\u001b[43mkwargs\u001b[49m\u001b[43m)\u001b[49m\n",
      "File \u001b[0;32m~/Thesis/thesis_env/lib/python3.10/site-packages/torch/nn/modules/module.py:1747\u001b[0m, in \u001b[0;36mModule._call_impl\u001b[0;34m(self, *args, **kwargs)\u001b[0m\n\u001b[1;32m   1742\u001b[0m \u001b[38;5;66;03m# If we don't have any hooks, we want to skip the rest of the logic in\u001b[39;00m\n\u001b[1;32m   1743\u001b[0m \u001b[38;5;66;03m# this function, and just call forward.\u001b[39;00m\n\u001b[1;32m   1744\u001b[0m \u001b[38;5;28;01mif\u001b[39;00m \u001b[38;5;129;01mnot\u001b[39;00m (\u001b[38;5;28mself\u001b[39m\u001b[38;5;241m.\u001b[39m_backward_hooks \u001b[38;5;129;01mor\u001b[39;00m \u001b[38;5;28mself\u001b[39m\u001b[38;5;241m.\u001b[39m_backward_pre_hooks \u001b[38;5;129;01mor\u001b[39;00m \u001b[38;5;28mself\u001b[39m\u001b[38;5;241m.\u001b[39m_forward_hooks \u001b[38;5;129;01mor\u001b[39;00m \u001b[38;5;28mself\u001b[39m\u001b[38;5;241m.\u001b[39m_forward_pre_hooks\n\u001b[1;32m   1745\u001b[0m         \u001b[38;5;129;01mor\u001b[39;00m _global_backward_pre_hooks \u001b[38;5;129;01mor\u001b[39;00m _global_backward_hooks\n\u001b[1;32m   1746\u001b[0m         \u001b[38;5;129;01mor\u001b[39;00m _global_forward_hooks \u001b[38;5;129;01mor\u001b[39;00m _global_forward_pre_hooks):\n\u001b[0;32m-> 1747\u001b[0m     \u001b[38;5;28;01mreturn\u001b[39;00m \u001b[43mforward_call\u001b[49m\u001b[43m(\u001b[49m\u001b[38;5;241;43m*\u001b[39;49m\u001b[43margs\u001b[49m\u001b[43m,\u001b[49m\u001b[43m \u001b[49m\u001b[38;5;241;43m*\u001b[39;49m\u001b[38;5;241;43m*\u001b[39;49m\u001b[43mkwargs\u001b[49m\u001b[43m)\u001b[49m\n\u001b[1;32m   1749\u001b[0m result \u001b[38;5;241m=\u001b[39m \u001b[38;5;28;01mNone\u001b[39;00m\n\u001b[1;32m   1750\u001b[0m called_always_called_hooks \u001b[38;5;241m=\u001b[39m \u001b[38;5;28mset\u001b[39m()\n",
      "Cell \u001b[0;32mIn[203], line 36\u001b[0m, in \u001b[0;36mTCN.forward\u001b[0;34m(self, x)\u001b[0m\n\u001b[1;32m     35\u001b[0m \u001b[38;5;28;01mdef\u001b[39;00m \u001b[38;5;21mforward\u001b[39m(\u001b[38;5;28mself\u001b[39m, x):\n\u001b[0;32m---> 36\u001b[0m     x \u001b[38;5;241m=\u001b[39m \u001b[38;5;28;43mself\u001b[39;49m\u001b[38;5;241;43m.\u001b[39;49m\u001b[43mnetwork\u001b[49m\u001b[43m(\u001b[49m\u001b[43mx\u001b[49m\u001b[43m)\u001b[49m\n\u001b[1;32m     37\u001b[0m     x \u001b[38;5;241m=\u001b[39m \u001b[38;5;28mself\u001b[39m\u001b[38;5;241m.\u001b[39mdropout(x)\n\u001b[1;32m     38\u001b[0m     \u001b[38;5;28;01mreturn\u001b[39;00m x\n",
      "File \u001b[0;32m~/Thesis/thesis_env/lib/python3.10/site-packages/torch/nn/modules/module.py:1736\u001b[0m, in \u001b[0;36mModule._wrapped_call_impl\u001b[0;34m(self, *args, **kwargs)\u001b[0m\n\u001b[1;32m   1734\u001b[0m     \u001b[38;5;28;01mreturn\u001b[39;00m \u001b[38;5;28mself\u001b[39m\u001b[38;5;241m.\u001b[39m_compiled_call_impl(\u001b[38;5;241m*\u001b[39margs, \u001b[38;5;241m*\u001b[39m\u001b[38;5;241m*\u001b[39mkwargs)  \u001b[38;5;66;03m# type: ignore[misc]\u001b[39;00m\n\u001b[1;32m   1735\u001b[0m \u001b[38;5;28;01melse\u001b[39;00m:\n\u001b[0;32m-> 1736\u001b[0m     \u001b[38;5;28;01mreturn\u001b[39;00m \u001b[38;5;28;43mself\u001b[39;49m\u001b[38;5;241;43m.\u001b[39;49m\u001b[43m_call_impl\u001b[49m\u001b[43m(\u001b[49m\u001b[38;5;241;43m*\u001b[39;49m\u001b[43margs\u001b[49m\u001b[43m,\u001b[49m\u001b[43m \u001b[49m\u001b[38;5;241;43m*\u001b[39;49m\u001b[38;5;241;43m*\u001b[39;49m\u001b[43mkwargs\u001b[49m\u001b[43m)\u001b[49m\n",
      "File \u001b[0;32m~/Thesis/thesis_env/lib/python3.10/site-packages/torch/nn/modules/module.py:1747\u001b[0m, in \u001b[0;36mModule._call_impl\u001b[0;34m(self, *args, **kwargs)\u001b[0m\n\u001b[1;32m   1742\u001b[0m \u001b[38;5;66;03m# If we don't have any hooks, we want to skip the rest of the logic in\u001b[39;00m\n\u001b[1;32m   1743\u001b[0m \u001b[38;5;66;03m# this function, and just call forward.\u001b[39;00m\n\u001b[1;32m   1744\u001b[0m \u001b[38;5;28;01mif\u001b[39;00m \u001b[38;5;129;01mnot\u001b[39;00m (\u001b[38;5;28mself\u001b[39m\u001b[38;5;241m.\u001b[39m_backward_hooks \u001b[38;5;129;01mor\u001b[39;00m \u001b[38;5;28mself\u001b[39m\u001b[38;5;241m.\u001b[39m_backward_pre_hooks \u001b[38;5;129;01mor\u001b[39;00m \u001b[38;5;28mself\u001b[39m\u001b[38;5;241m.\u001b[39m_forward_hooks \u001b[38;5;129;01mor\u001b[39;00m \u001b[38;5;28mself\u001b[39m\u001b[38;5;241m.\u001b[39m_forward_pre_hooks\n\u001b[1;32m   1745\u001b[0m         \u001b[38;5;129;01mor\u001b[39;00m _global_backward_pre_hooks \u001b[38;5;129;01mor\u001b[39;00m _global_backward_hooks\n\u001b[1;32m   1746\u001b[0m         \u001b[38;5;129;01mor\u001b[39;00m _global_forward_hooks \u001b[38;5;129;01mor\u001b[39;00m _global_forward_pre_hooks):\n\u001b[0;32m-> 1747\u001b[0m     \u001b[38;5;28;01mreturn\u001b[39;00m \u001b[43mforward_call\u001b[49m\u001b[43m(\u001b[49m\u001b[38;5;241;43m*\u001b[39;49m\u001b[43margs\u001b[49m\u001b[43m,\u001b[49m\u001b[43m \u001b[49m\u001b[38;5;241;43m*\u001b[39;49m\u001b[38;5;241;43m*\u001b[39;49m\u001b[43mkwargs\u001b[49m\u001b[43m)\u001b[49m\n\u001b[1;32m   1749\u001b[0m result \u001b[38;5;241m=\u001b[39m \u001b[38;5;28;01mNone\u001b[39;00m\n\u001b[1;32m   1750\u001b[0m called_always_called_hooks \u001b[38;5;241m=\u001b[39m \u001b[38;5;28mset\u001b[39m()\n",
      "File \u001b[0;32m~/Thesis/thesis_env/lib/python3.10/site-packages/torch/nn/modules/container.py:250\u001b[0m, in \u001b[0;36mSequential.forward\u001b[0;34m(self, input)\u001b[0m\n\u001b[1;32m    248\u001b[0m \u001b[38;5;28;01mdef\u001b[39;00m \u001b[38;5;21mforward\u001b[39m(\u001b[38;5;28mself\u001b[39m, \u001b[38;5;28minput\u001b[39m):\n\u001b[1;32m    249\u001b[0m     \u001b[38;5;28;01mfor\u001b[39;00m module \u001b[38;5;129;01min\u001b[39;00m \u001b[38;5;28mself\u001b[39m:\n\u001b[0;32m--> 250\u001b[0m         \u001b[38;5;28minput\u001b[39m \u001b[38;5;241m=\u001b[39m \u001b[43mmodule\u001b[49m\u001b[43m(\u001b[49m\u001b[38;5;28;43minput\u001b[39;49m\u001b[43m)\u001b[49m\n\u001b[1;32m    251\u001b[0m     \u001b[38;5;28;01mreturn\u001b[39;00m \u001b[38;5;28minput\u001b[39m\n",
      "File \u001b[0;32m~/Thesis/thesis_env/lib/python3.10/site-packages/torch/nn/modules/module.py:1736\u001b[0m, in \u001b[0;36mModule._wrapped_call_impl\u001b[0;34m(self, *args, **kwargs)\u001b[0m\n\u001b[1;32m   1734\u001b[0m     \u001b[38;5;28;01mreturn\u001b[39;00m \u001b[38;5;28mself\u001b[39m\u001b[38;5;241m.\u001b[39m_compiled_call_impl(\u001b[38;5;241m*\u001b[39margs, \u001b[38;5;241m*\u001b[39m\u001b[38;5;241m*\u001b[39mkwargs)  \u001b[38;5;66;03m# type: ignore[misc]\u001b[39;00m\n\u001b[1;32m   1735\u001b[0m \u001b[38;5;28;01melse\u001b[39;00m:\n\u001b[0;32m-> 1736\u001b[0m     \u001b[38;5;28;01mreturn\u001b[39;00m \u001b[38;5;28;43mself\u001b[39;49m\u001b[38;5;241;43m.\u001b[39;49m\u001b[43m_call_impl\u001b[49m\u001b[43m(\u001b[49m\u001b[38;5;241;43m*\u001b[39;49m\u001b[43margs\u001b[49m\u001b[43m,\u001b[49m\u001b[43m \u001b[49m\u001b[38;5;241;43m*\u001b[39;49m\u001b[38;5;241;43m*\u001b[39;49m\u001b[43mkwargs\u001b[49m\u001b[43m)\u001b[49m\n",
      "File \u001b[0;32m~/Thesis/thesis_env/lib/python3.10/site-packages/torch/nn/modules/module.py:1747\u001b[0m, in \u001b[0;36mModule._call_impl\u001b[0;34m(self, *args, **kwargs)\u001b[0m\n\u001b[1;32m   1742\u001b[0m \u001b[38;5;66;03m# If we don't have any hooks, we want to skip the rest of the logic in\u001b[39;00m\n\u001b[1;32m   1743\u001b[0m \u001b[38;5;66;03m# this function, and just call forward.\u001b[39;00m\n\u001b[1;32m   1744\u001b[0m \u001b[38;5;28;01mif\u001b[39;00m \u001b[38;5;129;01mnot\u001b[39;00m (\u001b[38;5;28mself\u001b[39m\u001b[38;5;241m.\u001b[39m_backward_hooks \u001b[38;5;129;01mor\u001b[39;00m \u001b[38;5;28mself\u001b[39m\u001b[38;5;241m.\u001b[39m_backward_pre_hooks \u001b[38;5;129;01mor\u001b[39;00m \u001b[38;5;28mself\u001b[39m\u001b[38;5;241m.\u001b[39m_forward_hooks \u001b[38;5;129;01mor\u001b[39;00m \u001b[38;5;28mself\u001b[39m\u001b[38;5;241m.\u001b[39m_forward_pre_hooks\n\u001b[1;32m   1745\u001b[0m         \u001b[38;5;129;01mor\u001b[39;00m _global_backward_pre_hooks \u001b[38;5;129;01mor\u001b[39;00m _global_backward_hooks\n\u001b[1;32m   1746\u001b[0m         \u001b[38;5;129;01mor\u001b[39;00m _global_forward_hooks \u001b[38;5;129;01mor\u001b[39;00m _global_forward_pre_hooks):\n\u001b[0;32m-> 1747\u001b[0m     \u001b[38;5;28;01mreturn\u001b[39;00m \u001b[43mforward_call\u001b[49m\u001b[43m(\u001b[49m\u001b[38;5;241;43m*\u001b[39;49m\u001b[43margs\u001b[49m\u001b[43m,\u001b[49m\u001b[43m \u001b[49m\u001b[38;5;241;43m*\u001b[39;49m\u001b[38;5;241;43m*\u001b[39;49m\u001b[43mkwargs\u001b[49m\u001b[43m)\u001b[49m\n\u001b[1;32m   1749\u001b[0m result \u001b[38;5;241m=\u001b[39m \u001b[38;5;28;01mNone\u001b[39;00m\n\u001b[1;32m   1750\u001b[0m called_always_called_hooks \u001b[38;5;241m=\u001b[39m \u001b[38;5;28mset\u001b[39m()\n",
      "Cell \u001b[0;32mIn[203], line 15\u001b[0m, in \u001b[0;36mTCNBlock.forward\u001b[0;34m(self, x)\u001b[0m\n\u001b[1;32m     11\u001b[0m \u001b[38;5;28;01mdef\u001b[39;00m \u001b[38;5;21mforward\u001b[39m(\u001b[38;5;28mself\u001b[39m, x):\n\u001b[1;32m     12\u001b[0m \u001b[38;5;250m    \u001b[39m\u001b[38;5;124;03m\"\"\"\u001b[39;00m\n\u001b[1;32m     13\u001b[0m \u001b[38;5;124;03m    x shape: [batch_size, channels, seq_len]\u001b[39;00m\n\u001b[1;32m     14\u001b[0m \u001b[38;5;124;03m    \"\"\"\u001b[39;00m\n\u001b[0;32m---> 15\u001b[0m     out \u001b[38;5;241m=\u001b[39m \u001b[38;5;28;43mself\u001b[39;49m\u001b[38;5;241;43m.\u001b[39;49m\u001b[43mconv\u001b[49m\u001b[43m(\u001b[49m\u001b[43mx\u001b[49m\u001b[43m)\u001b[49m\n\u001b[1;32m     16\u001b[0m     \u001b[38;5;66;03m# Remove extra time-steps from padding to maintain causality\u001b[39;00m\n\u001b[1;32m     17\u001b[0m     out \u001b[38;5;241m=\u001b[39m out[:, :, :\u001b[38;5;241m-\u001b[39m\u001b[38;5;28mself\u001b[39m\u001b[38;5;241m.\u001b[39mconv\u001b[38;5;241m.\u001b[39mpadding[\u001b[38;5;241m0\u001b[39m]]  \u001b[38;5;66;03m# remove the last \"padding\" points\u001b[39;00m\n",
      "File \u001b[0;32m~/Thesis/thesis_env/lib/python3.10/site-packages/torch/nn/modules/module.py:1736\u001b[0m, in \u001b[0;36mModule._wrapped_call_impl\u001b[0;34m(self, *args, **kwargs)\u001b[0m\n\u001b[1;32m   1734\u001b[0m     \u001b[38;5;28;01mreturn\u001b[39;00m \u001b[38;5;28mself\u001b[39m\u001b[38;5;241m.\u001b[39m_compiled_call_impl(\u001b[38;5;241m*\u001b[39margs, \u001b[38;5;241m*\u001b[39m\u001b[38;5;241m*\u001b[39mkwargs)  \u001b[38;5;66;03m# type: ignore[misc]\u001b[39;00m\n\u001b[1;32m   1735\u001b[0m \u001b[38;5;28;01melse\u001b[39;00m:\n\u001b[0;32m-> 1736\u001b[0m     \u001b[38;5;28;01mreturn\u001b[39;00m \u001b[38;5;28;43mself\u001b[39;49m\u001b[38;5;241;43m.\u001b[39;49m\u001b[43m_call_impl\u001b[49m\u001b[43m(\u001b[49m\u001b[38;5;241;43m*\u001b[39;49m\u001b[43margs\u001b[49m\u001b[43m,\u001b[49m\u001b[43m \u001b[49m\u001b[38;5;241;43m*\u001b[39;49m\u001b[38;5;241;43m*\u001b[39;49m\u001b[43mkwargs\u001b[49m\u001b[43m)\u001b[49m\n",
      "File \u001b[0;32m~/Thesis/thesis_env/lib/python3.10/site-packages/torch/nn/modules/module.py:1747\u001b[0m, in \u001b[0;36mModule._call_impl\u001b[0;34m(self, *args, **kwargs)\u001b[0m\n\u001b[1;32m   1742\u001b[0m \u001b[38;5;66;03m# If we don't have any hooks, we want to skip the rest of the logic in\u001b[39;00m\n\u001b[1;32m   1743\u001b[0m \u001b[38;5;66;03m# this function, and just call forward.\u001b[39;00m\n\u001b[1;32m   1744\u001b[0m \u001b[38;5;28;01mif\u001b[39;00m \u001b[38;5;129;01mnot\u001b[39;00m (\u001b[38;5;28mself\u001b[39m\u001b[38;5;241m.\u001b[39m_backward_hooks \u001b[38;5;129;01mor\u001b[39;00m \u001b[38;5;28mself\u001b[39m\u001b[38;5;241m.\u001b[39m_backward_pre_hooks \u001b[38;5;129;01mor\u001b[39;00m \u001b[38;5;28mself\u001b[39m\u001b[38;5;241m.\u001b[39m_forward_hooks \u001b[38;5;129;01mor\u001b[39;00m \u001b[38;5;28mself\u001b[39m\u001b[38;5;241m.\u001b[39m_forward_pre_hooks\n\u001b[1;32m   1745\u001b[0m         \u001b[38;5;129;01mor\u001b[39;00m _global_backward_pre_hooks \u001b[38;5;129;01mor\u001b[39;00m _global_backward_hooks\n\u001b[1;32m   1746\u001b[0m         \u001b[38;5;129;01mor\u001b[39;00m _global_forward_hooks \u001b[38;5;129;01mor\u001b[39;00m _global_forward_pre_hooks):\n\u001b[0;32m-> 1747\u001b[0m     \u001b[38;5;28;01mreturn\u001b[39;00m \u001b[43mforward_call\u001b[49m\u001b[43m(\u001b[49m\u001b[38;5;241;43m*\u001b[39;49m\u001b[43margs\u001b[49m\u001b[43m,\u001b[49m\u001b[43m \u001b[49m\u001b[38;5;241;43m*\u001b[39;49m\u001b[38;5;241;43m*\u001b[39;49m\u001b[43mkwargs\u001b[49m\u001b[43m)\u001b[49m\n\u001b[1;32m   1749\u001b[0m result \u001b[38;5;241m=\u001b[39m \u001b[38;5;28;01mNone\u001b[39;00m\n\u001b[1;32m   1750\u001b[0m called_always_called_hooks \u001b[38;5;241m=\u001b[39m \u001b[38;5;28mset\u001b[39m()\n",
      "File \u001b[0;32m~/Thesis/thesis_env/lib/python3.10/site-packages/torch/nn/modules/conv.py:375\u001b[0m, in \u001b[0;36mConv1d.forward\u001b[0;34m(self, input)\u001b[0m\n\u001b[1;32m    374\u001b[0m \u001b[38;5;28;01mdef\u001b[39;00m \u001b[38;5;21mforward\u001b[39m(\u001b[38;5;28mself\u001b[39m, \u001b[38;5;28minput\u001b[39m: Tensor) \u001b[38;5;241m-\u001b[39m\u001b[38;5;241m>\u001b[39m Tensor:\n\u001b[0;32m--> 375\u001b[0m     \u001b[38;5;28;01mreturn\u001b[39;00m \u001b[38;5;28;43mself\u001b[39;49m\u001b[38;5;241;43m.\u001b[39;49m\u001b[43m_conv_forward\u001b[49m\u001b[43m(\u001b[49m\u001b[38;5;28;43minput\u001b[39;49m\u001b[43m,\u001b[49m\u001b[43m \u001b[49m\u001b[38;5;28;43mself\u001b[39;49m\u001b[38;5;241;43m.\u001b[39;49m\u001b[43mweight\u001b[49m\u001b[43m,\u001b[49m\u001b[43m \u001b[49m\u001b[38;5;28;43mself\u001b[39;49m\u001b[38;5;241;43m.\u001b[39;49m\u001b[43mbias\u001b[49m\u001b[43m)\u001b[49m\n",
      "File \u001b[0;32m~/Thesis/thesis_env/lib/python3.10/site-packages/torch/nn/modules/conv.py:370\u001b[0m, in \u001b[0;36mConv1d._conv_forward\u001b[0;34m(self, input, weight, bias)\u001b[0m\n\u001b[1;32m    358\u001b[0m \u001b[38;5;28;01mif\u001b[39;00m \u001b[38;5;28mself\u001b[39m\u001b[38;5;241m.\u001b[39mpadding_mode \u001b[38;5;241m!=\u001b[39m \u001b[38;5;124m\"\u001b[39m\u001b[38;5;124mzeros\u001b[39m\u001b[38;5;124m\"\u001b[39m:\n\u001b[1;32m    359\u001b[0m     \u001b[38;5;28;01mreturn\u001b[39;00m F\u001b[38;5;241m.\u001b[39mconv1d(\n\u001b[1;32m    360\u001b[0m         F\u001b[38;5;241m.\u001b[39mpad(\n\u001b[1;32m    361\u001b[0m             \u001b[38;5;28minput\u001b[39m, \u001b[38;5;28mself\u001b[39m\u001b[38;5;241m.\u001b[39m_reversed_padding_repeated_twice, mode\u001b[38;5;241m=\u001b[39m\u001b[38;5;28mself\u001b[39m\u001b[38;5;241m.\u001b[39mpadding_mode\n\u001b[0;32m   (...)\u001b[0m\n\u001b[1;32m    368\u001b[0m         \u001b[38;5;28mself\u001b[39m\u001b[38;5;241m.\u001b[39mgroups,\n\u001b[1;32m    369\u001b[0m     )\n\u001b[0;32m--> 370\u001b[0m \u001b[38;5;28;01mreturn\u001b[39;00m \u001b[43mF\u001b[49m\u001b[38;5;241;43m.\u001b[39;49m\u001b[43mconv1d\u001b[49m\u001b[43m(\u001b[49m\n\u001b[1;32m    371\u001b[0m \u001b[43m    \u001b[49m\u001b[38;5;28;43minput\u001b[39;49m\u001b[43m,\u001b[49m\u001b[43m \u001b[49m\u001b[43mweight\u001b[49m\u001b[43m,\u001b[49m\u001b[43m \u001b[49m\u001b[43mbias\u001b[49m\u001b[43m,\u001b[49m\u001b[43m \u001b[49m\u001b[38;5;28;43mself\u001b[39;49m\u001b[38;5;241;43m.\u001b[39;49m\u001b[43mstride\u001b[49m\u001b[43m,\u001b[49m\u001b[43m \u001b[49m\u001b[38;5;28;43mself\u001b[39;49m\u001b[38;5;241;43m.\u001b[39;49m\u001b[43mpadding\u001b[49m\u001b[43m,\u001b[49m\u001b[43m \u001b[49m\u001b[38;5;28;43mself\u001b[39;49m\u001b[38;5;241;43m.\u001b[39;49m\u001b[43mdilation\u001b[49m\u001b[43m,\u001b[49m\u001b[43m \u001b[49m\u001b[38;5;28;43mself\u001b[39;49m\u001b[38;5;241;43m.\u001b[39;49m\u001b[43mgroups\u001b[49m\n\u001b[1;32m    372\u001b[0m \u001b[43m\u001b[49m\u001b[43m)\u001b[49m\n",
      "\u001b[0;31mKeyboardInterrupt\u001b[0m: "
     ]
    },
    {
     "data": {
      "image/png": "[encoded data removed]",
      "text/plain": [
       "<Figure size 1400x1600 with 8 Axes>"
      ]
     },
     "metadata": {},
     "output_type": "display_data"
    }
   ],
   "source": [
    "import os\n",
    "import numpy as np\n",
    "import pandas as pd\n",
    "import torch\n",
    "import torch.nn as nn\n",
    "import torch.optim as optim\n",
    "from torch.utils.data import DataLoader, Subset\n",
    "from sklearn.model_selection import TimeSeriesSplit\n",
    "from sklearn.metrics import mean_absolute_error, mean_squared_error, r2_score\n",
    "import matplotlib.pyplot as plt\n",
    "\n",
    "def final_train_with_best_params(\n",
    "    group_df_scaled, \n",
    "    best_params,\n",
    "    pretrained_weights,\n",
    "    output_dir,\n",
    "    final_epochs=50,\n",
    "    n_splits=4\n",
    "):\n",
    "    \"\"\"\n",
    "    Perform final training/cross-validation with the best hyperparams\n",
    "    and save final metrics & model for a single product group.\n",
    "    \"\"\"\n",
    "    # 1. Parse best_params\n",
    "    lr = best_params.get(\"lr\", 1e-4)\n",
    "    dropout = best_params.get(\"dropout\", 0.2)\n",
    "    window_size = int(best_params.get(\"window_size\", 14))\n",
    "    batch_size = int(best_params.get(\"batch_size\", 32))\n",
    "\n",
    "    # 2. Rebuild dataset with the best window size\n",
    "    dataset = TimeSeriesDataset(\n",
    "        group_df_scaled,\n",
    "        input_window=window_size,\n",
    "        output_window=14,  # Ensure this matches the target output size\n",
    "        target_col_name='transaction_count'\n",
    "    )\n",
    "\n",
    "    # 3. Cross-validation\n",
    "    tscv = TimeSeriesSplit(n_splits=n_splits)\n",
    "    fold_metrics = []\n",
    "\n",
    "    # Create figure for predictions & residuals side by side\n",
    "    fig, axes = plt.subplots(nrows=n_splits, ncols=2, figsize=(14, 4 * n_splits))\n",
    "    fig.suptitle(\"Final 14-Day Ahead Predictions & Residuals\", fontsize=14, y=0.98)\n",
    "\n",
    "    fold = 0\n",
    "    for train_idx, val_idx in tscv.split(range(len(dataset))):\n",
    "        fold += 1\n",
    "        print(f\"=== Final Fold {fold} ===\")\n",
    "\n",
    "        train_subset = Subset(dataset, train_idx)\n",
    "        val_subset = Subset(dataset, val_idx)\n",
    "\n",
    "        train_loader = DataLoader(train_subset, batch_size=batch_size, shuffle=False)\n",
    "        val_loader = DataLoader(val_subset, batch_size=batch_size, shuffle=False)\n",
    "\n",
    "        num_features = group_df_scaled.shape[1]\n",
    "\n",
    "        # Build the TCN model\n",
    "        model = TCNForecastingModel(\n",
    "            num_inputs=num_features,\n",
    "            num_channels=[64, 64],\n",
    "            kernel_size=3,\n",
    "            dropout=dropout,\n",
    "            output_size=14  # Ensure model predicts output_window (14)\n",
    "        )\n",
    "\n",
    "        # Load pretrained checkpoint and match layers\n",
    "        checkpoint = torch.load(pretrained_weights)\n",
    "        model_dict = model.state_dict()\n",
    "        pretrained_dict = {k: v for k, v in checkpoint.items() if k in model_dict and model_dict[k].shape == v.shape}\n",
    "        model_dict.update(pretrained_dict)\n",
    "        model.load_state_dict(model_dict, strict=False)\n",
    "\n",
    "        criterion = nn.MSELoss()\n",
    "        optimizer = optim.Adam(model.parameters(), lr=lr)\n",
    "\n",
    "        # Final training loop\n",
    "        for epoch in range(final_epochs):\n",
    "            model.train()\n",
    "            for X_batch, y_batch in train_loader:\n",
    "                optimizer.zero_grad()\n",
    "                preds = model(X_batch)\n",
    "                preds = preds.view(-1, 14)  # Ensure correct shape\n",
    "\n",
    "                loss = criterion(preds, y_batch)\n",
    "                loss.backward()\n",
    "                optimizer.step()\n",
    "\n",
    "        # Collect predictions\n",
    "        all_preds, all_targets = [], []\n",
    "        model.eval()\n",
    "        with torch.no_grad():\n",
    "            for X_batch, y_batch in val_loader:\n",
    "                preds = model(X_batch)\n",
    "                preds = preds.view(-1, 14)  # Ensure correct shape\n",
    "                all_preds.append(preds.cpu().numpy())\n",
    "                all_targets.append(y_batch.cpu().numpy())\n",
    "\n",
    "        all_preds = np.concatenate(all_preds, axis=0)\n",
    "        all_targets = np.concatenate(all_targets, axis=0)\n",
    "\n",
    "        # Compute metrics\n",
    "        mae = mean_absolute_error(all_targets, all_preds)\n",
    "        rmse = np.sqrt(mean_squared_error(all_targets, all_preds))\n",
    "        mape = (abs(all_targets - all_preds) / (abs(all_targets) + 1e-8)).mean() * 100\n",
    "        r2 = r2_score(all_targets, all_preds)\n",
    "\n",
    "        print(f\"Fold {fold} => MAE: {mae:.4f}, RMSE: {rmse:.4f}, MAPE: {mape:.2f}%, R2: {r2:.4f}\")\n",
    "\n",
    "        fold_metrics.append({\n",
    "            \"Fold\": fold,\n",
    "            \"MAE\": mae,\n",
    "            \"RMSE\": rmse,\n",
    "            \"MAPE\": mape,\n",
    "            \"R2\": r2\n",
    "        })\n",
    "\n",
    "        # Plot Predictions vs Actual & Residuals\n",
    "        ax_pred = axes[fold-1, 0] if n_splits > 1 else axes[0]\n",
    "        ax_res = axes[fold-1, 1] if n_splits > 1 else axes[1]\n",
    "\n",
    "        time_steps = np.arange(14)  # Fixed 14-day ahead steps\n",
    "\n",
    "        # Plot Predictions vs Actual\n",
    "        ax_pred.plot(time_steps, all_targets[-1], label=\"Actual\", linestyle='-', alpha=0.8)\n",
    "        ax_pred.plot(time_steps, all_preds[-1], label=\"Predicted\", linestyle='--', alpha=0.8)\n",
    "        ax_pred.set_title(f\"Fold {fold}: Predictions vs Actual\")\n",
    "        ax_pred.set_xlabel(\"Days Ahead\")\n",
    "        ax_pred.set_ylabel(\"Transaction Count\")\n",
    "        ax_pred.legend()\n",
    "\n",
    "        # Compute residuals\n",
    "        residuals = all_targets[-1] - all_preds[-1]\n",
    "\n",
    "        # Plot Residuals\n",
    "        ax_res.plot(time_steps, residuals, label=\"Residuals\", marker='o', linestyle='-', alpha=0.8)\n",
    "        ax_res.axhline(0, color='r', linestyle='--', alpha=0.7)\n",
    "        ax_res.set_title(f\"Fold {fold}: Residuals\")\n",
    "        ax_res.set_xlabel(\"Days Ahead\")\n",
    "        ax_res.set_ylabel(\"Error\")\n",
    "        ax_res.legend()\n",
    "\n",
    "    # Summarize and save\n",
    "    fold_df = pd.DataFrame(fold_metrics)\n",
    "    avg_metrics = {\n",
    "        \"MAE\": fold_df[\"MAE\"].mean(),\n",
    "        \"RMSE\": fold_df[\"RMSE\"].mean(),\n",
    "        \"MAPE\": fold_df[\"MAPE\"].mean(),\n",
    "        \"R2\": fold_df[\"R2\"].mean()\n",
    "    }\n",
    "    print(\"\\nFinal Fold Metrics:\")\n",
    "    print(fold_df)\n",
    "    print(\"Average Metrics:\", avg_metrics)\n",
    "\n",
    "    plt.tight_layout(rect=[0, 0, 1, 0.95])\n",
    "    fig_path = os.path.join(output_dir, \"final_14day_preds_residuals.png\")\n",
    "    plt.savefig(fig_path)\n",
    "    plt.close(fig)\n",
    "\n",
    "    # Save metrics\n",
    "    fold_df.to_csv(os.path.join(output_dir, \"final_fold_metrics.csv\"), index=False)\n",
    "    pd.DataFrame([avg_metrics]).to_csv(os.path.join(output_dir, \"final_avg_metrics.csv\"), index=False)\n",
    "\n",
    "    # Save final model\n",
    "    final_model_path = os.path.join(output_dir, \"final_finetuned_model.pt\")\n",
    "    torch.save(model.state_dict(), final_model_path)\n",
    "\n",
    "    return fold_df, avg_metrics\n",
    "\n",
    "\n",
    "\n",
    "\n",
    "for product_group in top_10_groups:\n",
    "    # 1. Filter & scale group data\n",
    "    group_df = data[data['product_group'] == product_group].copy()\n",
    "    group_df.sort_values([\"date\", \"product_group\"], inplace=True)\n",
    "    group_df = group_df.drop(columns=['date','product_group'], errors='ignore')\n",
    "    \n",
    "    X_group = group_df.drop(columns=['transaction_count']).values\n",
    "    y_group = group_df['transaction_count'].values.reshape(-1,1)\n",
    "    X_group_scaled = feature_scaler.transform(X_group)\n",
    "    y_group_scaled = target_scaler.transform(y_group)\n",
    "\n",
    "    feature_cols = [col for col in group_df.columns if col != 'transaction_count']\n",
    "    group_df_scaled = pd.DataFrame(X_group_scaled, columns=feature_cols)\n",
    "    group_df_scaled['transaction_count'] = y_group_scaled\n",
    "    group_df_scaled.sort_index(inplace=True)\n",
    "\n",
    "    # 2. Load best_params from CSV or memory\n",
    "    from modules.utils import process_name\n",
    "    sanitized_group = process_name(product_group)\n",
    "    group_output_dir = os.path.join(\"output/top_10_product_groups/transfer_14_days_finetuned\", sanitized_group)\n",
    "    best_params_csv = os.path.join(group_output_dir, \"best_params.csv\")\n",
    "    best_params_df = pd.read_csv(best_params_csv)\n",
    "    best_params = best_params_df.iloc[0].to_dict()\n",
    "\n",
    "    # 3. Call final_train_with_best_params\n",
    "    final_fold_df, final_avg_metrics = final_train_with_best_params(\n",
    "        group_df_scaled=group_df_scaled,\n",
    "        best_params=best_params,\n",
    "        pretrained_weights=\"pretrained_tcn.pt\",\n",
    "        output_dir=group_output_dir,\n",
    "        final_epochs=50,\n",
    "        n_splits=4\n",
    "    )\n"
   ]
  },
  {
   "cell_type": "code",
   "execution_count": 262,
   "metadata": {},
   "outputs": [
    {
     "name": "stdout",
     "output_type": "stream",
     "text": [
      "Averaged metrics have been saved to output/top_10_product_groups/transfer_14_days_finetuned/overall_avg_metrics.csv\n"
     ]
    }
   ],
   "source": [
    "import os\n",
    "import pandas as pd\n",
    "\n",
    "# Define the folder path\n",
    "folder_path = 'output/top_10_product_groups/transfer_14_days_finetuned'\n",
    "\n",
    "# Use os.walk to list all CSV files in the folder and subfolders\n",
    "csv_files = []\n",
    "for root, _, files in os.walk(folder_path):\n",
    "    for file in files:\n",
    "        if file.endswith('_avg_metrics.csv'):\n",
    "            csv_files.append(os.path.join(root, file))\n",
    "\n",
    "# Initialize an empty list to store the data\n",
    "all_metrics = []\n",
    "\n",
    "# Loop through each CSV file and read the data\n",
    "for csv_file in csv_files:\n",
    "    metrics_df = pd.read_csv(csv_file)\n",
    "    all_metrics.append(metrics_df)\n",
    "\n",
    "# Concatenate all dataframes and calculate the average across the rows\n",
    "averaged_metrics = pd.concat(all_metrics).mean(axis=0)\n",
    "\n",
    "# Save the averaged metrics to a new CSV file\n",
    "output_file = 'output/top_10_product_groups/transfer_14_days_finetuned/overall_avg_metrics.csv'\n",
    "averaged_metrics.to_csv(output_file, header=True)\n",
    "\n",
    "print(f'Averaged metrics have been saved to {output_file}')\n"
   ]
  }
 ],
 "metadata": {
  "kernelspec": {
   "display_name": "thesis_env",
   "language": "python",
   "name": "python3"
  },
  "language_info": {
   "codemirror_mode": {
    "name": "ipython",
    "version": 3
   },
   "file_extension": ".py",
   "mimetype": "text/x-python",
   "name": "python",
   "nbconvert_exporter": "python",
   "pygments_lexer": "ipython3",
   "version": "3.10.10"
  }
 },
 "nbformat": 4,
 "nbformat_minor": 2
}
